{
 "cells": [
  {
   "cell_type": "markdown",
   "metadata": {},
   "source": [
    "## Breakout 1: AY250 Fall 2016 - Python for Data Science - Machine Learning ##\n",
    "\n",
    "<img src=\"http://l1.yimg.com/bt/api/res/1.2/VRpMGylj..sbchEH8mKCmg--/YXBwaWQ9eW5ld3M7Zmk9ZmlsbDtoPTQyMTtweG9mZj01MDtweW9mZj0wO3E9ODU7dz03NDk-/http://media.zenfs.com/en_us/News/ap_webfeeds/6ebbfa2b3ecb56203e0f6a706700c38e.jpg\" width=80%>\n",
    "\n",
    "You're going to help Team USA win the <a href=\"http://www.thedailysail.com/inshore/13/65151/1/looking-ahead-to-the-35th-americas-cup\">next America's cup</a> by making a predictive model to determine the resistance of a boat given it's geometry and speed. This is usually only measureable with advanced simulations but we can get <a href=\"http://archive.ics.uci.edu/ml/datasets/Yacht+Hydrodynamics\">7-dimensional data to build a model</a> and then determine this value for arbitary new boat design:\n",
    "\n",
    "<ul>\n",
    "<li> *Prediction of residuary resistance of sailing yachts at the initial design stage is of a great value for evaluating the ship's performance and for estimating the required propulsive power. Essential inputs include the basic hull dimensions and the boat velocity.  The Delft data set comprises 308 full-scale experiments, which were performed at the Delft Ship Hydromechanics Laboratory for that purpose. These experiments include 22 different hull forms...*\n",
    "</ul>\n"
   ]
  },
  {
   "cell_type": "markdown",
   "metadata": {},
   "source": [
    "Variations concern hull geometry coefficients and the Froude number: \n",
    "\n",
    "1. Longitudinal position of the center of buoyancy. \n",
    "2. Prismatic coefficient. \n",
    "3. Length-displacement ratio. \n",
    "4. Beam-draught ratio. \n",
    "5. Length-beam ratio. \n",
    "6. Froude number. \n",
    "\n",
    "The measured variable is the residuary resistance per unit weight of displacement: \n",
    "\n",
    "7. Residuary resistance per unit weight of displacement, adimensional. "
   ]
  },
  {
   "cell_type": "code",
   "execution_count": 1,
   "metadata": {
    "collapsed": false
   },
   "outputs": [],
   "source": [
    "import requests\n",
    "from io import StringIO\n",
    "dat_file = requests.get(\"http://archive.ics.uci.edu/ml/machine-learning-databases/00243/yacht_hydrodynamics.data\")\n",
    "data = StringIO(dat_file.text)"
   ]
  },
  {
   "cell_type": "code",
   "execution_count": 2,
   "metadata": {
    "collapsed": false
   },
   "outputs": [],
   "source": [
    "%matplotlib inline\n",
    "import matplotlib.pyplot as plt\n",
    "import numpy as np\n",
    "\n",
    "d = np.loadtxt(data)\n",
    "np.random.shuffle(d)  # shuffle the instances since it appears to be ordered"
   ]
  },
  {
   "cell_type": "markdown",
   "metadata": {},
   "source": [
    "a. Chunk the data into the variable you are going to predict (and call that vector Y). Split into a training set with 90% of the complete data and 10% testing set. Be sure to scale the feature data."
   ]
  },
  {
   "cell_type": "code",
   "execution_count": 40,
   "metadata": {
    "collapsed": false
   },
   "outputs": [
    {
     "data": {
      "text/plain": [
       "(308, 7)"
      ]
     },
     "execution_count": 40,
     "metadata": {},
     "output_type": "execute_result"
    }
   ],
   "source": [
    "d.shape"
   ]
  },
  {
   "cell_type": "code",
   "execution_count": 52,
   "metadata": {
    "collapsed": false
   },
   "outputs": [],
   "source": [
    "x = d[:,0:6]"
   ]
  },
  {
   "cell_type": "code",
   "execution_count": 61,
   "metadata": {
    "collapsed": false
   },
   "outputs": [],
   "source": [
    "y = d[:,6]"
   ]
  },
  {
   "cell_type": "code",
   "execution_count": 54,
   "metadata": {
    "collapsed": false
   },
   "outputs": [
    {
     "data": {
      "text/plain": [
       "array([[ 0.   ,  0.53 ,  4.78 ,  3.75 ,  3.15 ,  0.125],\n",
       "       [-5.   ,  0.53 ,  4.78 ,  3.75 ,  3.15 ,  0.375],\n",
       "       [-2.3  ,  0.6  ,  4.34 ,  4.23 ,  2.73 ,  0.425],\n",
       "       ..., \n",
       "       [-5.   ,  0.6  ,  4.78 ,  4.24 ,  3.15 ,  0.3  ],\n",
       "       [-2.3  ,  0.569,  4.78 ,  3.04 ,  3.64 ,  0.375],\n",
       "       [-2.3  ,  0.53 ,  4.76 ,  3.68 ,  3.16 ,  0.35 ]])"
      ]
     },
     "execution_count": 54,
     "metadata": {},
     "output_type": "execute_result"
    }
   ],
   "source": [
    "x"
   ]
  },
  {
   "cell_type": "code",
   "execution_count": 56,
   "metadata": {
    "collapsed": true
   },
   "outputs": [],
   "source": [
    "y = d[[6]"
   ]
  },
  {
   "cell_type": "code",
   "execution_count": 62,
   "metadata": {
    "collapsed": false
   },
   "outputs": [
    {
     "data": {
      "text/plain": [
       "array([  1.60000000e-01,   1.37300000e+01,   3.04800000e+01,\n",
       "         2.33000000e+00,   5.09400000e+01,   5.51700000e+01,\n",
       "         1.50000000e-01,   3.50000000e-01,   1.76000000e+00,\n",
       "         3.39700000e+01,   3.39700000e+01,   7.95000000e+00,\n",
       "         3.60000000e-01,   6.60000000e-01,   1.19300000e+01,\n",
       "         4.21000000e+00,   1.11000000e+00,   1.52500000e+01,\n",
       "         1.67000000e+00,   5.82000000e+00,   1.30000000e+00,\n",
       "         1.80000000e-01,   7.70000000e-01,   1.24000000e+00,\n",
       "         3.09000000e+00,   8.62000000e+00,   2.83000000e+00,\n",
       "         7.60000000e-01,   2.15100000e+01,   2.17000000e+00,\n",
       "         2.30000000e-01,   4.13400000e+01,   3.70000000e-01,\n",
       "         3.00000000e-02,   4.60000000e-01,   2.40000000e-01,\n",
       "         2.28000000e+00,   3.50000000e-01,   5.96000000e+00,\n",
       "         1.70000000e-01,   2.09100000e+01,   1.02000000e+00,\n",
       "         7.90000000e-01,   7.16000000e+00,   1.14000000e+00,\n",
       "         1.24000000e+01,   7.30000000e-01,   1.01000000e+00,\n",
       "         3.46200000e+01,   4.09000000e+00,   1.42400000e+01,\n",
       "         4.40000000e-01,   8.25000000e+00,   3.27500000e+01,\n",
       "         2.10200000e+01,   1.90000000e+00,   9.00000000e-02,\n",
       "         3.20000000e-01,   2.50000000e-01,   1.65000000e+00,\n",
       "         7.80000000e-01,   1.41100000e+01,   2.77000000e+00,\n",
       "         1.10000000e-01,   1.80000000e-01,   3.85000000e+00,\n",
       "         3.45000000e+01,   1.96000000e+00,   1.62000000e+00,\n",
       "         2.80000000e-01,   1.43000000e+00,   1.59000000e+00,\n",
       "         8.03000000e+00,   2.88000000e+00,   5.19000000e+00,\n",
       "         4.62000000e+00,   1.37700000e+01,   1.18000000e+00,\n",
       "         1.15000000e+00,   1.03600000e+01,   7.84000000e+00,\n",
       "         1.20000000e-01,   8.68000000e+00,   1.23900000e+01,\n",
       "         2.15100000e+01,   2.05000000e+00,   1.36000000e+00,\n",
       "         8.00000000e-02,   4.91400000e+01,   1.99000000e+00,\n",
       "         3.35000000e+00,   1.27600000e+01,   4.70000000e-01,\n",
       "         1.85000000e+00,   4.00000000e-02,   4.61000000e+00,\n",
       "         1.57000000e+00,   6.50000000e-01,   2.04100000e+01,\n",
       "         5.50000000e-01,   1.00000000e-02,   2.00000000e-01,\n",
       "         3.81200000e+01,   1.76000000e+00,   1.57000000e+00,\n",
       "         6.50000000e-01,   8.28000000e+00,   1.21000000e+00,\n",
       "         8.60000000e-01,   1.15600000e+01,   3.70000000e+00,\n",
       "         3.80000000e-01,   1.07000000e+00,   3.43000000e+00,\n",
       "         4.17700000e+01,   4.90000000e-01,   1.28000000e+00,\n",
       "         1.63100000e+01,   1.60000000e-01,   3.45800000e+01,\n",
       "         2.94000000e+00,   2.70000000e-01,   3.04000000e+00,\n",
       "         4.99000000e+00,   4.70000000e-01,   3.69000000e+00,\n",
       "         6.08500000e+01,   5.06000000e+00,   4.35000000e+00,\n",
       "         2.49000000e+00,   4.71300000e+01,   1.28000000e+01,\n",
       "         3.56400000e+01,   6.20000000e+00,   5.90000000e-01,\n",
       "         2.19900000e+01,   4.83000000e+00,   3.50100000e+01,\n",
       "         4.42000000e+00,   1.97000000e+00,   2.41400000e+01,\n",
       "         3.99000000e+00,   3.90000000e-01,   6.90000000e-01,\n",
       "         7.00000000e-01,   7.87000000e+00,   1.37000000e+00,\n",
       "         4.14000000e+00,   2.00000000e-01,   8.30000000e-01,\n",
       "         9.00000000e-02,   2.91000000e+00,   6.00000000e-02,\n",
       "         1.50000000e-01,   2.60000000e-01,   9.07000000e+00,\n",
       "         5.03600000e+01,   1.95900000e+01,   3.09000000e+00,\n",
       "         1.91800000e+01,   4.00000000e-02,   5.45000000e+00,\n",
       "         4.94900000e+01,   2.98000000e+00,   3.71400000e+01,\n",
       "         8.00000000e-02,   5.19000000e+00,   7.19000000e+00,\n",
       "         2.60000000e-01,   2.14000000e+01,   1.85000000e+00,\n",
       "         7.30000000e-01,   5.00000000e-02,   1.70000000e-01,\n",
       "         5.30700000e+01,   6.31000000e+00,   1.06000000e+00,\n",
       "         3.17700000e+01,   8.00000000e-02,   8.03000000e+00,\n",
       "         1.39600000e+01,   4.15000000e+00,   3.76000000e+00,\n",
       "         2.16000000e+00,   1.10000000e-01,   2.62000000e+00,\n",
       "         7.00000000e-02,   2.00000000e-01,   1.19000000e+00,\n",
       "         4.41000000e+00,   1.97000000e+00,   3.54600000e+01,\n",
       "         2.51800000e+01,   9.70000000e-01,   2.06300000e+01,\n",
       "         2.23000000e+00,   4.00000000e-01,   1.94000000e+00,\n",
       "         1.27100000e+01,   3.24600000e+01,   7.11000000e+00,\n",
       "         2.63000000e+00,   6.30000000e-01,   1.37000000e+00,\n",
       "         5.54400000e+01,   2.83000000e+00,   5.07000000e+00,\n",
       "         3.31400000e+01,   5.18000000e+01,   9.20000000e-01,\n",
       "         9.45000000e+00,   9.30000000e-01,   1.28600000e+01,\n",
       "         7.00000000e-01,   1.31000000e+00,   2.30500000e+01,\n",
       "         5.64600000e+01,   5.42300000e+01,   3.73800000e+01,\n",
       "         6.30000000e-01,   8.04000000e+00,   1.96000000e+00,\n",
       "         9.30000000e-01,   5.60000000e-01,   1.49300000e+01,\n",
       "         3.32300000e+01,   2.40000000e-01,   6.24200000e+01,\n",
       "         5.17700000e+01,   3.79500000e+01,   3.40000000e-01,\n",
       "         3.20000000e-01,   3.50000000e-01,   5.58700000e+01,\n",
       "         2.10900000e+01,   5.01400000e+01,   2.01400000e+01,\n",
       "         1.37000000e+00,   8.60000000e-01,   2.84000000e+00,\n",
       "         7.80000000e-01,   2.46000000e+00,   2.68000000e+00,\n",
       "         2.73400000e+01,   7.50000000e-01,   5.54000000e+00,\n",
       "         5.41000000e+00,   4.00000000e-01,   4.72900000e+01,\n",
       "         1.13000000e+00,   3.99000000e+00,   2.35500000e+01,\n",
       "         4.70000000e-01,   1.24000000e+00,   3.23400000e+01,\n",
       "         2.39600000e+01,   3.76000000e+00,   5.00000000e-01,\n",
       "         1.82000000e+00,   4.12000000e+00,   2.90000000e-01,\n",
       "         8.47000000e+00,   6.40000000e-01,   7.74000000e+00,\n",
       "         8.76000000e+00,   4.46000000e+00,   2.04100000e+01,\n",
       "         1.09000000e+00,   5.15000000e+01,   6.86000000e+00,\n",
       "         2.41300000e+01,   4.66600000e+01,   6.00000000e+00,\n",
       "         1.22700000e+01,   2.40000000e-01,   1.28000000e+00,\n",
       "         1.98000000e+00,   6.40000000e-01,   1.00000000e-01,\n",
       "         1.21500000e+01,   1.24900000e+01,   2.62000000e+00,\n",
       "         1.70000000e-01,   2.61000000e+00,   5.03600000e+01,\n",
       "         5.79000000e+00,   3.45000000e+00,   3.00900000e+01,\n",
       "         2.73000000e+00,   1.28600000e+01,   2.59000000e+00,\n",
       "         2.31500000e+01,   5.57000000e+00,   2.01100000e+01,\n",
       "         4.43800000e+01,   4.50000000e-01,   5.27000000e+00,\n",
       "         5.19900000e+01,   3.29000000e+00,   3.87000000e+00,\n",
       "         7.14000000e+00,   1.30800000e+01,   4.30000000e-01,\n",
       "         7.37000000e+00,   1.83000000e+00,   4.34000000e+00,\n",
       "         1.19900000e+01,   7.51000000e+00])"
      ]
     },
     "execution_count": 62,
     "metadata": {},
     "output_type": "execute_result"
    }
   ],
   "source": [
    "y"
   ]
  },
  {
   "cell_type": "code",
   "execution_count": 25,
   "metadata": {
    "collapsed": false
   },
   "outputs": [],
   "source": [
    "split = int(np.around(y.shape[0] * .9))"
   ]
  },
  {
   "cell_type": "code",
   "execution_count": 38,
   "metadata": {
    "collapsed": false
   },
   "outputs": [
    {
     "data": {
      "text/plain": [
       "(308,)"
      ]
     },
     "execution_count": 38,
     "metadata": {},
     "output_type": "execute_result"
    }
   ],
   "source": [
    "x[1].shape"
   ]
  },
  {
   "cell_type": "code",
   "execution_count": 32,
   "metadata": {
    "collapsed": true
   },
   "outputs": [],
   "source": [
    "x_train = x[0:277]"
   ]
  },
  {
   "cell_type": "code",
   "execution_count": 30,
   "metadata": {
    "collapsed": false
   },
   "outputs": [
    {
     "data": {
      "text/plain": [
       "(6, 308)"
      ]
     },
     "execution_count": 30,
     "metadata": {},
     "output_type": "execute_result"
    }
   ],
   "source": [
    "x.shape[0:split]"
   ]
  },
  {
   "cell_type": "code",
   "execution_count": 33,
   "metadata": {
    "collapsed": false
   },
   "outputs": [
    {
     "data": {
      "text/plain": [
       "(6, 308)"
      ]
     },
     "execution_count": 33,
     "metadata": {},
     "output_type": "execute_result"
    }
   ],
   "source": [
    "x_train.shape"
   ]
  },
  {
   "cell_type": "code",
   "execution_count": 23,
   "metadata": {
    "collapsed": false
   },
   "outputs": [
    {
     "data": {
      "text/plain": [
       "277"
      ]
     },
     "execution_count": 23,
     "metadata": {},
     "output_type": "execute_result"
    }
   ],
   "source": [
    "train"
   ]
  },
  {
   "cell_type": "code",
   "execution_count": 13,
   "metadata": {
    "collapsed": false
   },
   "outputs": [
    {
     "data": {
      "text/plain": [
       "(308,)"
      ]
     },
     "execution_count": 13,
     "metadata": {},
     "output_type": "execute_result"
    }
   ],
   "source": [
    "y.shape"
   ]
  },
  {
   "cell_type": "code",
   "execution_count": 9,
   "metadata": {
    "collapsed": false
   },
   "outputs": [
    {
     "data": {
      "text/plain": [
       "(308, 7)"
      ]
     },
     "execution_count": 9,
     "metadata": {},
     "output_type": "execute_result"
    }
   ],
   "source": [
    "d.shape"
   ]
  },
  {
   "cell_type": "code",
   "execution_count": 11,
   "metadata": {
    "collapsed": false
   },
   "outputs": [
    {
     "data": {
      "text/plain": [
       "(6, 308)"
      ]
     },
     "execution_count": 11,
     "metadata": {},
     "output_type": "execute_result"
    }
   ],
   "source": [
    "x.shape"
   ]
  },
  {
   "cell_type": "markdown",
   "metadata": {},
   "source": [
    "b. Learn/fit a kNR model with k=5"
   ]
  },
  {
   "cell_type": "code",
   "execution_count": null,
   "metadata": {
    "collapsed": true
   },
   "outputs": [],
   "source": []
  },
  {
   "cell_type": "markdown",
   "metadata": {},
   "source": [
    "c. Determine the mean_squared error of the result"
   ]
  },
  {
   "cell_type": "code",
   "execution_count": null,
   "metadata": {
    "collapsed": true
   },
   "outputs": [],
   "source": []
  },
  {
   "cell_type": "markdown",
   "metadata": {},
   "source": [
    "d. What MSE would we expect from (naively) guessing the mean of the training data?"
   ]
  },
  {
   "cell_type": "code",
   "execution_count": null,
   "metadata": {
    "collapsed": true
   },
   "outputs": [],
   "source": []
  },
  {
   "cell_type": "markdown",
   "metadata": {},
   "source": [
    "e. If time, try to be a RandomForestRegressor model. How did you do?"
   ]
  },
  {
   "cell_type": "code",
   "execution_count": null,
   "metadata": {
    "collapsed": true
   },
   "outputs": [],
   "source": []
  },
  {
   "cell_type": "markdown",
   "metadata": {},
   "source": [
    "(c) J. Bloom (UC Berkeley) 2013--2016"
   ]
  },
  {
   "cell_type": "code",
   "execution_count": null,
   "metadata": {
    "collapsed": false
   },
   "outputs": [],
   "source": []
  }
 ],
 "metadata": {
  "anaconda-cloud": {},
  "kernelspec": {
   "display_name": "Python [default]",
   "language": "python",
   "name": "python3"
  },
  "language_info": {
   "codemirror_mode": {
    "name": "ipython",
    "version": 3
   },
   "file_extension": ".py",
   "mimetype": "text/x-python",
   "name": "python",
   "nbconvert_exporter": "python",
   "pygments_lexer": "ipython3",
   "version": "3.5.2"
  }
 },
 "nbformat": 4,
 "nbformat_minor": 0
}
