{
 "metadata": {
  "name": ""
 },
 "nbformat": 3,
 "nbformat_minor": 0,
 "worksheets": [
  {
   "cells": [
    {
     "cell_type": "heading",
     "level": 1,
     "metadata": {},
     "source": [
      "Plotting with D3.js and Python via Vincent"
     ]
    },
    {
     "cell_type": "markdown",
     "metadata": {},
     "source": [
      "This notebook was taken from the examples directory of the [Vincent](https://github.com/wrobstory/vincent) library, a project that provides a Python interface to the excellent D3 JavaScript library, with explicit knowledge of Pandas objects. \n",
      "\n",
      "While D3 by itself is a very generic framework, Vincent, with its strong Pandas support, provides an API that is directly useful for data analysis and visualization."
     ]
    },
    {
     "cell_type": "code",
     "collapsed": false,
     "input": [
      "import vincent\n",
      "import pandas as pd\n",
      "import random\n",
      "\n",
      "#Iterable\n",
      "list_data = [10, 20, 30, 20, 15, 30, 45]\n",
      "\n",
      "#Dicts of iterables\n",
      "cat_1 = ['y1', 'y2', 'y3', 'y4']\n",
      "index_1 = range(0, 21, 1)\n",
      "multi_iter1 = {'index': index_1}\n",
      "for cat in cat_1:\n",
      "    multi_iter1[cat] = [random.randint(10, 100) for x in index_1]\n",
      "\n",
      "cat_2 = ['y' + str(x) for x in range(0, 10, 1)]\n",
      "index_2 = range(1, 21, 1)\n",
      "multi_iter2 = {'index': index_2}\n",
      "for cat in cat_2:\n",
      "    multi_iter2[cat] = [random.randint(10, 100) for x in index_2]\n",
      "\n",
      "#Pandas\n",
      "import pandas as pd\n",
      "\n",
      "farm_1 = {'apples': 10, 'berries': 32, 'squash': 21, 'melons': 13, 'corn': 18}\n",
      "farm_2 = {'apples': 15, 'berries': 43, 'squash': 17, 'melons': 10, 'corn': 22}\n",
      "farm_3 = {'apples': 6, 'berries': 24, 'squash': 22, 'melons': 16, 'corn': 30}\n",
      "farm_4 = {'apples': 12, 'berries': 30, 'squash': 15, 'melons': 9, 'corn': 15}\n",
      "\n",
      "farm_data = [farm_1, farm_2, farm_3, farm_4]\n",
      "farm_index = ['Farm 1', 'Farm 2', 'Farm 3', 'Farm 4']\n",
      "df_farm = pd.DataFrame(farm_data, index=farm_index)\n",
      "\n",
      "#As DataFrames\n",
      "index_3 = multi_iter2.pop('index')\n",
      "df_1 = pd.DataFrame(multi_iter2, index=index_3)\n",
      "df_1 = df_1.reindex(columns=sorted(df_1.columns))\n",
      "\n",
      "cat_4 = ['Metric_' + str(x) for x in range(0, 10, 1)]\n",
      "index_4 = ['Data 1', 'Data 2', 'Data 3', 'Data 4']\n",
      "data_3 = {}\n",
      "for cat in cat_4:\n",
      "    data_3[cat] = [random.randint(10, 100) for x in index_4]\n",
      "df_2 = pd.DataFrame(data_3, index=index_4)\n",
      "\n",
      "import pandas.io.data as web\n",
      "all_data = {}\n",
      "for ticker in ['AAPL', 'GOOG', 'IBM', 'YHOO', 'MSFT']:\n",
      "    all_data[ticker] = web.get_data_yahoo(ticker, '1/1/2010', '1/1/2013')\n",
      "price = pd.DataFrame({tic: data['Adj Close']\n",
      "                      for tic, data in all_data.iteritems()})"
     ],
     "language": "python",
     "metadata": {},
     "outputs": [],
     "prompt_number": 2
    },
    {
     "cell_type": "code",
     "collapsed": false,
     "input": [
      "import vincent\n",
      "vincent.core.initialize_notebook()\n",
      "bar = vincent.Bar(multi_iter1['y1'])\n",
      "bar.axis_titles(x='Index', y='Value')\n",
      "bar.display()"
     ],
     "language": "python",
     "metadata": {},
     "outputs": [
      {
       "html": [
        "<script src=\"http://d3js.org/d3.v3.min.js\"></script>"
       ],
       "metadata": {},
       "output_type": "display_data",
       "text": [
        "<IPython.core.display.HTML at 0x1023c8790>"
       ]
      },
      {
       "html": [
        "<script src=\"http://trifacta.github.com/vega/vega.js\"></script>"
       ],
       "metadata": {},
       "output_type": "display_data",
       "text": [
        "<IPython.core.display.HTML at 0x1023c8790>"
       ]
      },
      {
       "html": [
        "<div id=\"vis50115\"></div>"
       ],
       "metadata": {},
       "output_type": "display_data",
       "text": [
        "<IPython.core.display.HTML at 0x1023e1210>"
       ]
      },
      {
       "javascript": [
        "vg.parse.spec({\"legends\": [], \"scales\": [{\"domain\": {\"field\": \"data.idx\", \"data\": \"table\"}, \"type\": \"ordinal\", \"range\": \"width\", \"name\": \"x\"}, {\"domain\": {\"field\": \"data.val\", \"data\": \"table\"}, \"range\": \"height\", \"name\": \"y\", \"nice\": true}], \"axes\": [{\"scale\": \"x\", \"type\": \"x\", \"title\": \"Index\"}, {\"scale\": \"y\", \"type\": \"y\", \"title\": \"Value\"}], \"height\": 300, \"padding\": {\"top\": 10, \"bottom\": 50, \"right\": 100, \"left\": 50}, \"width\": 500, \"marks\": [{\"type\": \"rect\", \"from\": {\"data\": \"table\"}, \"properties\": {\"update\": {\"fill\": {\"value\": \"steelblue\"}}, \"enter\": {\"y\": {\"field\": \"data.val\", \"scale\": \"y\"}, \"width\": {\"band\": true, \"scale\": \"x\", \"offset\": -1}, \"y2\": {\"scale\": \"y\", \"value\": 0}, \"x\": {\"field\": \"data.idx\", \"scale\": \"x\"}}}}], \"data\": [{\"values\": [{\"val\": 81, \"col\": \"data\", \"idx\": 0}, {\"val\": 10, \"col\": \"data\", \"idx\": 1}, {\"val\": 28, \"col\": \"data\", \"idx\": 2}, {\"val\": 56, \"col\": \"data\", \"idx\": 3}, {\"val\": 66, \"col\": \"data\", \"idx\": 4}, {\"val\": 17, \"col\": \"data\", \"idx\": 5}, {\"val\": 71, \"col\": \"data\", \"idx\": 6}, {\"val\": 25, \"col\": \"data\", \"idx\": 7}, {\"val\": 22, \"col\": \"data\", \"idx\": 8}, {\"val\": 38, \"col\": \"data\", \"idx\": 9}, {\"val\": 52, \"col\": \"data\", \"idx\": 10}, {\"val\": 48, \"col\": \"data\", \"idx\": 11}, {\"val\": 57, \"col\": \"data\", \"idx\": 12}, {\"val\": 48, \"col\": \"data\", \"idx\": 13}, {\"val\": 81, \"col\": \"data\", \"idx\": 14}, {\"val\": 71, \"col\": \"data\", \"idx\": 15}, {\"val\": 39, \"col\": \"data\", \"idx\": 16}, {\"val\": 96, \"col\": \"data\", \"idx\": 17}, {\"val\": 22, \"col\": \"data\", \"idx\": 18}, {\"val\": 31, \"col\": \"data\", \"idx\": 19}, {\"val\": 89, \"col\": \"data\", \"idx\": 20}], \"name\": \"table\"}]}, function(chart) { chart({el:\"#vis50115\"}).update(); });"
       ],
       "metadata": {},
       "output_type": "display_data",
       "text": [
        "<IPython.core.display.Javascript at 0x1023e1290>"
       ]
      }
     ],
     "prompt_number": 3
    },
    {
     "cell_type": "code",
     "collapsed": false,
     "input": [
      "line = vincent.Line(multi_iter1, iter_idx='index')\n",
      "line.axis_titles(x='Index', y='Value')\n",
      "line.legend(title='Categories')\n",
      "line.display()"
     ],
     "language": "python",
     "metadata": {},
     "outputs": []
    },
    {
     "cell_type": "code",
     "collapsed": false,
     "input": [
      "line = vincent.Line(price[['GOOG', 'AAPL']])\n",
      "line.axis_titles(x='Date', y='Price')\n",
      "line.legend(title='GOOG vs AAPL')\n",
      "line.display()"
     ],
     "language": "python",
     "metadata": {},
     "outputs": []
    },
    {
     "cell_type": "code",
     "collapsed": false,
     "input": [
      "scatter = vincent.Scatter(df_1)\n",
      "scatter.axis_titles(x='Index', y='Data Value')\n",
      "scatter.legend(title='Categories')\n",
      "scatter.colors(brew='Set3')\n",
      "scatter.display()"
     ],
     "language": "python",
     "metadata": {},
     "outputs": []
    },
    {
     "cell_type": "code",
     "collapsed": false,
     "input": [
      "stacked = vincent.StackedArea(df_1)\n",
      "stacked.axis_titles(x='Index', y='Value')\n",
      "stacked.legend(title='Categories')\n",
      "stacked.colors(brew='Spectral')\n",
      "stacked.display()"
     ],
     "language": "python",
     "metadata": {},
     "outputs": []
    },
    {
     "cell_type": "code",
     "collapsed": false,
     "input": [
      "stacked = vincent.StackedArea(price)\n",
      "stacked.axis_titles(x='Date', y='Price')\n",
      "stacked.legend(title='Tech Stocks')\n",
      "stacked.display()"
     ],
     "language": "python",
     "metadata": {},
     "outputs": []
    },
    {
     "cell_type": "code",
     "collapsed": false,
     "input": [
      "stack = vincent.StackedBar(df_2)\n",
      "stack.legend(title='Categories')\n",
      "stack.scales['x'].padding = 0.1\n",
      "stack.display()"
     ],
     "language": "python",
     "metadata": {},
     "outputs": []
    },
    {
     "cell_type": "code",
     "collapsed": false,
     "input": [
      "stack = vincent.StackedBar(df_farm.T)\n",
      "stack.axis_titles(x='Total Produce', y='Farms')\n",
      "stack.legend(title='Produce Types')\n",
      "stack.colors(brew='Pastel1')\n",
      "stack.display()"
     ],
     "language": "python",
     "metadata": {},
     "outputs": []
    },
    {
     "cell_type": "code",
     "collapsed": false,
     "input": [
      "group = vincent.GroupedBar(df_2)\n",
      "group.legend(title='Categories')\n",
      "group.colors(brew='Spectral')\n",
      "group.width=750\n",
      "group.display()"
     ],
     "language": "python",
     "metadata": {},
     "outputs": []
    },
    {
     "cell_type": "code",
     "collapsed": false,
     "input": [
      "group = vincent.GroupedBar(df_farm)\n",
      "group.axis_titles(x='Total Produce', y='Farms')\n",
      "group.legend(title='Produce Types')\n",
      "group.colors(brew='Set2')\n",
      "group.display()"
     ],
     "language": "python",
     "metadata": {},
     "outputs": []
    }
   ],
   "metadata": {}
  }
 ]
}