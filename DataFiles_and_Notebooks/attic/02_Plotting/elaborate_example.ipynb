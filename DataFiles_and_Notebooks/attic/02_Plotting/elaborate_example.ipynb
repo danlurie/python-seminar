{
 "metadata": {
  "name": "elaborate_example"
 },
 "nbformat": 3,
 "nbformat_minor": 0,
 "worksheets": [
  {
   "cells": [
    {
     "cell_type": "markdown",
     "metadata": {},
     "source": [
      "# Elaborate Matplotlib Plots: \n",
      "An [XKCD](http://xkcd.com/231) Re-enactment by [Paul Ivanov](http://pirsquared.org)\n",
      "\n",
      "![cat proximity](http://imgs.xkcd.com/comics/cat_proximity.png)\n"
     ]
    },
    {
     "cell_type": "code",
     "collapsed": false,
     "input": [
      "%pylab inline\n",
      "# xkcd.com/231"
     ],
     "language": "python",
     "metadata": {},
     "outputs": []
    },
    {
     "cell_type": "code",
     "collapsed": false,
     "input": [
      "x = np.linspace(0, np.pi/4,100)\n",
      "y = np.exp(4*x)**x\n",
      "intel = -y + y.max()\n",
      "inan = y\n",
      "plt.plot(x,intel)\n",
      "plt.plot(x,inan)"
     ],
     "language": "python",
     "metadata": {},
     "outputs": []
    },
    {
     "cell_type": "code",
     "collapsed": false,
     "input": [
      "# Will Smith's movie that nobody saw...\n",
      "plt.plot(x,intel, label=\"INTELLIGENCE\")\n",
      "plt.plot(x,inan, label=\"INANITY OF STATEMENTS\")\n",
      "\n",
      "plt.legend()"
     ],
     "language": "python",
     "metadata": {},
     "outputs": []
    },
    {
     "cell_type": "code",
     "collapsed": false,
     "input": [
      "# legend? detour\n",
      "plt.plot(x,intel, label=\"INTELLIGENCE\")\n",
      "plt.plot(x,inan, label=\"INANITY OF STATEMENTS\")\n",
      "\n",
      "plt.legend(loc='best')"
     ],
     "language": "python",
     "metadata": {},
     "outputs": []
    },
    {
     "cell_type": "code",
     "collapsed": false,
     "input": [
      "# Label our abcissa - stay tuned for ordinates via twinx()\n",
      "plt.plot(x,intel, label=\"INTELLIGENCE\")\n",
      "plt.plot(x,inan, label=\"INANITY OF STATEMENTS\")\n",
      "plt.legend(loc='best')\n",
      "\n",
      "plt.xlabel(\"HUMAN PROXIMITY TO CAT\")"
     ],
     "language": "python",
     "metadata": {},
     "outputs": []
    },
    {
     "cell_type": "code",
     "collapsed": false,
     "input": [
      "# everything's relative (x and y ticks)\n",
      "plt.plot(x,intel, label=\"INTELLIGENCE\")\n",
      "plt.plot(x,inan, label=\"INANITY OF STATEMENTS\")\n",
      "plt.legend(loc='best')\n",
      "plt.xlabel(\"HUMAN PROXIMITY TO CAT\")\n",
      "\n",
      "plt.yticks([])\n",
      "plt.xticks([0,.8],['FAR','NEAR'])"
     ],
     "language": "python",
     "metadata": {},
     "outputs": []
    },
    {
     "cell_type": "code",
     "collapsed": false,
     "input": [
      "# liberate axes! (no more 'little boxes')\n",
      "plt.plot(x,intel, label=\"INTELLIGENCE\")\n",
      "plt.plot(x,inan, label=\"INANITY OF STATEMENTS\")\n",
      "l = plt.legend(loc='best')\n",
      "plt.xlabel(\"HUMAN PROXIMITY TO CAT\")\n",
      "plt.yticks([])\n",
      "plt.xticks([0,.8],['FAR','NEAR'])\n",
      "ax = plt.gca()\n",
      "\n",
      "ax.spines['top'].set_visible(False)\n",
      "ax.spines['right'].set_visible(False)\n",
      "l.draw_frame(False)"
     ],
     "language": "python",
     "metadata": {},
     "outputs": []
    },
    {
     "cell_type": "code",
     "collapsed": false,
     "input": [
      "# get rid of that nervous tick, up top\n",
      "plt.plot(x,intel, label=\"INTELLIGENCE\")\n",
      "plt.plot(x,inan, label=\"INANITY OF STATEMENTS\")\n",
      "l = plt.legend(loc='best')\n",
      "plt.xlabel(\"HUMAN PROXIMITY TO CAT\")\n",
      "plt.yticks([])\n",
      "plt.xticks([0,.8],['FAR','NEAR'])\n",
      "ax = plt.gca()\n",
      "ax.spines['top'].set_visible(False)\n",
      "ax.spines['right'].set_visible(False)\n",
      "l.draw_frame(False)\n",
      "\n",
      "ax.xaxis.tick_bottom()"
     ],
     "language": "python",
     "metadata": {},
     "outputs": []
    },
    {
     "cell_type": "code",
     "collapsed": false,
     "input": [
      "# no more legend\n",
      "plt.plot(x,intel, label=\"INTELLIGENCE\")\n",
      "plt.plot(x,inan, label=\"INANITY OF STATEMENTS\")\n",
      "plt.xlabel(\"HUMAN PROXIMITY TO CAT\")\n",
      "plt.yticks([])\n",
      "plt.xticks([0,.8],['FAR','NEAR'])\n",
      "ax = plt.gca()\n",
      "ax.spines['top'].set_visible(False)\n",
      "ax.spines['right'].set_visible(False)\n",
      "ax.xaxis.tick_bottom()\n",
      "\n",
      "# point out ax.transAxes vs ax.transData \n",
      "# this is a good place to show how to use a \n",
      "# **kw dict (time permitting)\n",
      "noarrow_kwargs=dict(textcoords='offset points',\n",
      "        arrowprops=dict(width=1.0, headwidth=1.0, shrink=0))\n",
      "plt.annotate(\"\\nINTELLIGENCE\", (x[40],intel[40]), (-10,-40), \n",
      "    ha='center', **noarrow_kwargs)\n",
      "\n",
      "plt.annotate(\"\\nINANITY OF\\nSTATEMENTS\", (x[60],inan[60]), (10,-45),\n",
      "    **noarrow_kwargs)\n",
      "\n"
     ],
     "language": "python",
     "metadata": {},
     "outputs": []
    },
    {
     "cell_type": "code",
     "collapsed": false,
     "input": [
      "plt.annotate(\"YOU'RE A KITTY!\", xy=(0, -1),  xycoords='data',\n",
      "    xytext=(-30, 20), textcoords='offset points',\n",
      "    size=10, va='center',\n",
      "    bbox=dict(boxstyle=\"round\", fc=(1.0, 1.0, 1.0), ec=(0, 0, 0)),\n",
      "    arrowprops=dict(arrowstyle=\"wedge,tail_width=1.\",\n",
      "        fc=(1.0, 1.0, 1.0), ec=(0, 0, 0),\n",
      "        patchA=None, patchB=None,\n",
      "        relpos=(0.5, 0.4), connectionstyle=\"arc3,rad=-0.0\"),\n",
      "        )\n",
      "plt.xlim(-2,2);\n",
      "plt.ylim(-2,2);\n",
      "kitty_kwargs = dict( xy=(30, 10),  xycoords='data',\n",
      "    xytext=(-30, 20), textcoords='offset points',\n",
      "    size=10, va='center',\n",
      "    bbox=dict(boxstyle=\"round\", fc=(1.0, 1.0, 1.0), ec=(0, 0, 0)),\n",
      "    arrowprops=dict(arrowstyle=\"wedge,tail_width=1.\",\n",
      "        fc=(1.0, 1.0, 1.0), ec=(0, 0, 0),\n",
      "        patchA=None, patchB=None,\n",
      "        relpos=(0.5, 0.4), connectionstyle=\"arc3,rad=-0.0\"),\n",
      "        zorder=10\n",
      "    )"
     ],
     "language": "python",
     "metadata": {},
     "outputs": []
    },
    {
     "cell_type": "code",
     "collapsed": true,
     "input": [
      "#!wget http://imgs.xkcd.com/comics/cat_proximity.png\n",
      "# The above command will not work on OS X and Windows, \n",
      "# I'm calling out to an external program to download\n",
      "# the image. You should have it in the repo.  "
     ],
     "language": "python",
     "metadata": {},
     "outputs": []
    },
    {
     "cell_type": "code",
     "collapsed": true,
     "input": [
      "im = plt.imread('data/cat_proximity.png')"
     ],
     "language": "python",
     "metadata": {},
     "outputs": []
    },
    {
     "cell_type": "code",
     "collapsed": false,
     "input": [
      "plt.imshow(im[0:40,0:40])"
     ],
     "language": "python",
     "metadata": {},
     "outputs": []
    },
    {
     "cell_type": "code",
     "collapsed": false,
     "input": [
      "# By default, we get the sadly ubiquitous \"Jet\" colormap,\n",
      "# Let's change it to someting more suitable for us...\n",
      "plt.gray()\n",
      "plt.imshow(im[0:100,0:100])"
     ],
     "language": "python",
     "metadata": {},
     "outputs": []
    },
    {
     "cell_type": "code",
     "collapsed": false,
     "input": [
      "ax_im = plt.imshow(im[-100:-20,40:100])"
     ],
     "language": "python",
     "metadata": {},
     "outputs": []
    },
    {
     "cell_type": "code",
     "collapsed": false,
     "input": [
      "fig = plt.gcf()\n",
      "fig.subplotpars.bottom=.35 # can set this for all figures via rcParams\n",
      "ax= plt.subplot(1,1,1) #matlab-style initialization\n",
      "ax2 = fig.add_axes([0.0, 0.0, .3, 0.3])\n",
      "\n",
      "ax_im = plt.imshow(im[-100:-20,40:100])\n",
      "ax3 = fig.add_axes([0.3, .0, .3, 0.3])\n",
      "\n",
      "ax_im = plt.imshow(im[-100:-20:,180:240])\n",
      "\n",
      "ax4 = fig.add_axes([0.6, .0, .45, 0.3])\n",
      "ax_im = plt.imshow(im[-100:-20:,320:420])\n",
      "\n",
      "plt.annotate(\"YOU'RE A KITTY!\", **kitty_kwargs)"
     ],
     "language": "python",
     "metadata": {},
     "outputs": []
    },
    {
     "cell_type": "code",
     "collapsed": false,
     "input": [
      "# putting it all together\n",
      "# no more legend\n",
      "fig = plt.gcf()\n",
      "fig.subplotpars.bottom=.35\n",
      "ax= plt.subplot(1,1,1) #matlab-style initialization\n",
      "plt.plot(x,intel, label=\"INTELLIGENCE\")\n",
      "plt.plot(x,inan, label=\"INANITY OF STATEMENTS\")\n",
      "\n",
      "plt.xlabel(\"HUMAN PROXIMITY TO CAT\")\n",
      "plt.yticks([])\n",
      "plt.xticks([0,.8],['FAR','NEAR'])\n",
      "ax = plt.gca()\n",
      "ax.spines['top'].set_visible(False)\n",
      "ax.spines['right'].set_visible(False)\n",
      "\n",
      "ax.xaxis.tick_bottom()\n",
      "\n",
      "plt.annotate(\"\\nINTELLIGENCE\", (x[40],intel[40]), (-10,-40),\n",
      "    ha='center', **noarrow_kwargs)\n",
      "\n",
      "plt.annotate(\"\\nINANITY OF\\nSTATEMENTS\", (x[60],inan[60]), (10,-45),\n",
      "    **noarrow_kwargs)\n",
      "\n",
      "ax2 = fig.add_axes([0.0, 0.0, .3, 0.3])\n",
      "ax_im = plt.imshow(im[-100:-20,40:100])\n",
      "\n",
      "ax3 = fig.add_axes([0.3, .0, .3, 0.3])\n",
      "ax_im = plt.imshow(im[-100:-20:,180:240])\n",
      "\n",
      "ax4 = fig.add_axes([0.6, .0, .45, 0.3])\n",
      "ax_im = plt.imshow(im[-100:-20:,320:420])\n",
      "\n",
      "plt.annotate(\"YOU'RE A KITTY!\", **kitty_kwargs)"
     ],
     "language": "python",
     "metadata": {},
     "outputs": []
    },
    {
     "cell_type": "code",
     "collapsed": false,
     "input": [
      "# putting it all together\n",
      "fig = plt.gcf()\n",
      "fig.subplotpars.bottom=.35\n",
      "ax= plt.subplot(1,1,1) #matlab-style initialization\n",
      "plt.plot(x,intel, label=\"INTELLIGENCE\")\n",
      "plt.plot(x,inan, label=\"INANITY OF STATEMENTS\")\n",
      "\n",
      "plt.xlabel(\"HUMAN PROXIMITY TO CAT\")\n",
      "plt.yticks([])\n",
      "plt.xticks([0,.8],['FAR','NEAR'])\n",
      "ax = plt.gca()\n",
      "ax.spines['top'].set_visible(False)\n",
      "ax.spines['right'].set_visible(False)\n",
      "ax.xaxis.tick_bottom()\n",
      "plt.annotate(\"\\nINTELLIGENCE\", (x[40],intel[40]), (-10,-40),\n",
      "    ha='center', **noarrow_kwargs)\n",
      "plt.annotate(\"\\nINANITY OF\\nSTATEMENTS\", (x[60],inan[60]), (10,-45),\n",
      "    **noarrow_kwargs)\n",
      "\n",
      "ax2 = fig.add_axes([0.0, 0.0, .3, 0.3])\n",
      "ax_im = plt.imshow(im[-100:-20,40:100])\n",
      "\n",
      "ax3 = fig.add_axes([0.3, .0, .3, 0.3])\n",
      "ax_im = plt.imshow(im[-100:-20:,180:240])\n",
      "\n",
      "ax4 = fig.add_axes([0.6, .0, .45, 0.3])\n",
      "ax_im = plt.imshow(im[-100:-20:,320:420])\n",
      "\n",
      "plt.annotate(\"YOU'RE A KITTY!\", **kitty_kwargs)"
     ],
     "language": "python",
     "metadata": {},
     "outputs": []
    },
    {
     "cell_type": "code",
     "collapsed": true,
     "input": [
      "def cleanup_axes(ax):\n",
      "    \"Remove crud around axes - no ticks, no spines\"\n",
      "    # Note: we can get this behavior by passing\n",
      "    # frame_on=False,yticks=[],xticks=[] at the creation of ax\n",
      "    # this is here to demonstrate how you can adjust your plots \n",
      "    # after they've been create\n",
      "    ax.set_frame_on(False)\n",
      "    ax.set_yticks([])\n",
      "    ax.set_xticks([])\n",
      "    "
     ],
     "language": "python",
     "metadata": {},
     "outputs": []
    },
    {
     "cell_type": "code",
     "collapsed": false,
     "input": [
      "# putting it all together\n",
      "# no more legend\n",
      "fig = plt.figure(figsize=(6,6))\n",
      "fig.subplotpars.bottom=.35\n",
      "ax= plt.subplot(1,1,1) #matlab-style initialization\n",
      "plt.plot(x,intel, label=\"INTELLIGENCE\")\n",
      "plt.plot(x,inan, label=\"INANITY OF STATEMENTS\")\n",
      "\n",
      "plt.xlabel(\"HUMAN PROXIMITY TO CAT\")\n",
      "plt.yticks([])\n",
      "plt.xticks([0,.8],['FAR','NEAR'])\n",
      "ax = plt.gca()\n",
      "ax.spines['top'].set_visible(False)\n",
      "ax.spines['right'].set_visible(False)\n",
      "\n",
      "ax.xaxis.tick_bottom()\n",
      "\n",
      "plt.annotate(\"\\nINTELLIGENCE\", (x[40],intel[40]), (-10,-40),\n",
      "    ha='center', **noarrow_kwargs)\n",
      "plt.annotate(\"\\nINANITY OF\\nSTATEMENTS\", (x[60],inan[60]), (10,-45),\n",
      "    **noarrow_kwargs)\n",
      "\n",
      "ax2 = fig.add_axes([0.0, 0.0, .3, 0.25])\n",
      "ax_im = plt.imshow(im[-100:-20,40:100])\n",
      "\n",
      "ax3 = fig.add_axes([0.3, .0, .3, 0.25])\n",
      "ax_im = plt.imshow(im[-100:-20:,180:240])\n",
      "\n",
      "ax4 = fig.add_axes([0.6, .0, .45, 0.25])\n",
      "ax_im = plt.imshow(im[-100:-20:,320:420])\n",
      "\n",
      "plt.annotate(\"YOU'RE A KITTY!\", **kitty_kwargs)\n",
      "\n",
      "[cleanup_axes(ax) for ax in ax2, ax3, ax4]"
     ],
     "language": "python",
     "metadata": {},
     "outputs": []
    },
    {
     "cell_type": "code",
     "collapsed": true,
     "input": [
      "# One could redo the above images with plt.figimage() - see figimage_demo\n",
      "# %loadpy http://matplotlib.sourceforge.net/mpl_examples/pylab_examples/figimage_demo.py\n",
      "# but i think IPython clips them out right now. TODO: file this bug"
     ],
     "language": "python",
     "metadata": {},
     "outputs": []
    },
    {
     "cell_type": "markdown",
     "metadata": {},
     "source": [
      "# MISC (time permitting): \n",
      " - mention or demonstrate twinx(), since intelligene and inanity are of different units (done in supplement below)\n",
      " - sharex and sharey that can be passed to subplot/subplots\n",
      " - if fernando hasn't already, poke around the ax internals\n",
      "   - e.g. `ax.get_frame().set_color('red')`\n",
      "   - talk about the `rcParams` way of setting these, \n",
      "     including in one's ``~/.matplotlib/matplotlibrc``\n",
      " - we showed how to get rid of and set ticks manually, \n",
      "   - we can also do this programmatically via\n",
      "   locators and formatters on each axis\n",
      "   - e.g. `plot_date` does this for us\n",
      " - potential homework, or other example  with a pointer to \n",
      " [broken_axis](http://matplotlib.sourceforge.net/examples/pylab_examples/broken_axis.html) example: \n",
      " \n",
      "![One-sided](http://imgs.xkcd.com/comics/one-sided.png), \n"
     ]
    },
    {
     "cell_type": "code",
     "collapsed": false,
     "input": [
      "# A few more, bonus, things...\n",
      "# scatter plot and vertical line point of no return (try zooming in/out)\n",
      "plt.plot(x,intel)\n",
      "plt.plot(x,inan)\n",
      "\n",
      "plt.xlabel(\"HUMAN PROXIMITY TO CAT\")\n",
      "plt.yticks([])\n",
      "plt.xticks([0,.8],['FAR','NEAR'])\n",
      "ax = plt.gca()\n",
      "ax.spines['top'].set_visible(False)\n",
      "ax.spines['right'].set_visible(False)\n",
      "\n",
      "ax.xaxis.tick_bottom()\n",
      "\n",
      "plt.annotate(\"\\nINTELLIGENCE\", (x[40],intel[40]), (-10,-40),\n",
      "    ha='center', **noarrow_kwargs)\n",
      "plt.annotate(\"\\nINANITY OF\\nSTATEMENTS\", (x[60],inan[60]), (10,-45),\n",
      "    **noarrow_kwargs)\n",
      "\n",
      "plt.scatter(x[:51:10],intel[:51:10],c='r', marker='*',s=150, label='Smart enough to save yourself')\n",
      "plt.axvline(x[50], color='r', linestyle='--', label='point of no return')\n",
      "plt.legend(loc='best')"
     ],
     "language": "python",
     "metadata": {},
     "outputs": []
    },
    {
     "cell_type": "code",
     "collapsed": false,
     "input": [
      "# axvspan is similar to axvline, but fills a rectangle. Both have horizontal analogues:\n",
      "# They'r'e called axhspan and axhline.\n",
      "plt.plot(x,intel)\n",
      "plt.plot(x,inan)\n",
      "\n",
      "plt.xlabel(\"HUMAN PROXIMITY TO CAT\")\n",
      "plt.yticks([])\n",
      "plt.xticks([0,.8],['FAR','NEAR'])\n",
      "ax = plt.gca()\n",
      "ax.spines['top'].set_visible(False)\n",
      "ax.spines['right'].set_visible(False)\n",
      "\n",
      "ax.xaxis.tick_bottom()\n",
      "\n",
      "plt.annotate(\"\\nINTELLIGENCE\", (x[40],intel[40]), (-10,-40),\n",
      "    ha='center', **noarrow_kwargs)\n",
      "plt.annotate(\"\\nINANITY OF\\nSTATEMENTS\", (x[60],inan[60]), (10,-45),\n",
      "    **noarrow_kwargs)\n",
      "\n",
      "plt.scatter(x[:51:10],intel[:51:10],c='r', marker='*',s=150, \n",
      "            label='Smart enough to save yourself')\n",
      "plt.axvline(x[50], color='r', linestyle='--', \n",
      "            label='point of no return')\n",
      "\n",
      "plt.axvspan(x[80],x[-1], color='r', \n",
      "            label='Toxoplasmosis danger zone!', alpha=.1)\n",
      "plt.legend(loc='best')"
     ],
     "language": "python",
     "metadata": {},
     "outputs": []
    },
    {
     "cell_type": "code",
     "collapsed": false,
     "input": [
      "# twinx example - share the xaxis among two axes which are overlaid.\n",
      "# panning horizontally in one will pan in both axes. There's a twiny() \n",
      "# equivalent for doing the same to the Y axis. See sharex= and sharey=\n",
      "# keyword arguments to plt.subplot and subplots\n",
      "# IQ should be normalized to 100\n",
      "new_intel =  intel / intel.max() * 100\n",
      "# inanity is exponentially increasing\n",
      "new_inan = np.exp(y)\n",
      "ax = plt.gca()\n",
      "ax.plot(x,new_intel)\n",
      "ax2 = ax.twinx()\n",
      "ax2.semilogy(x,new_inan)"
     ],
     "language": "python",
     "metadata": {},
     "outputs": []
    },
    {
     "cell_type": "code",
     "collapsed": false,
     "input": [
      "# more clearly mark the two x axes\n",
      "ax = plt.gca()\n",
      "ax.plot(x,new_intel)\n",
      "ax2 = ax.twinx()\n",
      "ax2.semilogy(x,new_inan, 'r')\n",
      "ax.set_ylabel(\"IQ POINTS\")\n",
      "# the units of INANITY is Twits: see Monty Python's Twit Race and Twit Olympics\n",
      "# http://www.youtube.com/watch?v=rCyr1ugzxXM\n",
      "ax2.set_ylabel(\"TWITS\")"
     ],
     "language": "python",
     "metadata": {},
     "outputs": []
    },
    {
     "cell_type": "code",
     "collapsed": true,
     "input": [
      "# Challenge: poke around to try to set the ylabels \n",
      "# (named and numerical) of ax2 to be red.\n",
      "# Hint: start with ax2.get_yt<tab>"
     ],
     "language": "python",
     "metadata": {},
     "outputs": []
    },
    {
     "cell_type": "code",
     "collapsed": true,
     "input": [],
     "language": "python",
     "metadata": {},
     "outputs": []
    }
   ],
   "metadata": {}
  }
 ]
}