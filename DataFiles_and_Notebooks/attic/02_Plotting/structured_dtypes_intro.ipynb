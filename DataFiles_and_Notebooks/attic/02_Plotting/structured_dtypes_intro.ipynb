{
 "metadata": {
  "name": "structured_dtypes_intro"
 }, 
 "nbformat": 2, 
 "worksheets": [
  {
   "cells": [
    {
     "cell_type": "markdown", 
     "source": [
      "# Structured dtypes - a quick introduction", 
      "", 
      "Numpy has the ability to [define custom data types (dtypes)](http://docs.scipy.org/doc/numpy/reference/arrays.dtypes.html), so that you can describe the memory layout of each element in your data and even assign meaningful names to each element, and then construct full arrays with these *structured dtypes*.  ", 
      "", 
      "Imagine for example that you want to describe the pressure, temperature and velocity of a fluid in a 2-dimensional simulation or sampling of experimental data.  You could obviously create separate arrays for each variable.  But one alternative (we are ignoring here performance considerations regarding memory access patterns that may sway your decision one way or another depending on the details) is to store all the data into a single array, let's call it `fluid`, for which you can access these components at each location.", 
      "", 
      "The way to do this is to create a *custom dtype*, as follows:"
     ]
    }, 
    {
     "cell_type": "code", 
     "collapsed": false, 
     "input": [
      "%pylab inline"
     ], 
     "language": "python", 
     "outputs": [
      {
       "output_type": "stream", 
       "stream": "stdout", 
       "text": [
        "", 
        "Welcome to pylab, a matplotlib-based Python environment [backend: module://IPython.zmq.pylab.backend_inline].", 
        "For more information, type 'help(pylab)'."
       ]
      }
     ], 
     "prompt_number": 1
    }, 
    {
     "cell_type": "code", 
     "collapsed": false, 
     "input": [
      "fluid_dtype = np.dtype(dict(names=('p', 'T', 'v'), ", 
      "                            formats=(float, float, (float, (2,)))))"
     ], 
     "language": "python", 
     "outputs": [], 
     "prompt_number": 4
    }, 
    {
     "cell_type": "markdown", 
     "source": [
      "Now we can make an array with this dtype:"
     ]
    }, 
    {
     "cell_type": "code", 
     "collapsed": true, 
     "input": [
      "shape = (3,3)", 
      "fluid = np.zeros(shape, fluid_dtype)", 
      "fluid['p'] = np.random.normal(10, 3, shape)"
     ], 
     "language": "python", 
     "outputs": [], 
     "prompt_number": 12
    }, 
    {
     "cell_type": "code", 
     "collapsed": false, 
     "input": [
      "fluid['p']"
     ], 
     "language": "python", 
     "outputs": [
      {
       "output_type": "pyout", 
       "prompt_number": 13, 
       "text": [
        "array([[  9.70563611,  15.27079929,  11.34120097],", 
        "       [ 10.67402853,   9.21072225,  11.41594873],", 
        "       [ 11.41037799,  11.0862954 ,   9.25163889]])"
       ]
      }
     ], 
     "prompt_number": 13
    }, 
    {
     "cell_type": "code", 
     "collapsed": false, 
     "input": [
      "fluid['T'] = np.random.normal(300, 3, shape)", 
      "fluid['T']"
     ], 
     "language": "python", 
     "outputs": [
      {
       "output_type": "pyout", 
       "prompt_number": 15, 
       "text": [
        "array([[ 302.15665582,  305.67722778,  304.48553426],", 
        "       [ 293.13183731,  295.23272929,  299.96229437],", 
        "       [ 299.26322261,  300.95450068,  296.90597777]])"
       ]
      }
     ], 
     "prompt_number": 15
    }, 
    {
     "cell_type": "code", 
     "collapsed": false, 
     "input": [
      "fluid['v'] = np.random.normal(5, 2, shape + (2,))", 
      "fluid['v']"
     ], 
     "language": "python", 
     "outputs": [
      {
       "output_type": "pyout", 
       "prompt_number": 18, 
       "text": [
        "array([[[ 5.59029313,  6.77285287],", 
        "        [ 3.21333288,  4.72956506],", 
        "        [ 3.27390426,  4.95498461]],", 
        "", 
        "       [[ 2.1955198 ,  3.47348984],", 
        "        [ 3.48577835,  6.08602782],", 
        "        [ 5.82406067,  5.02350594]],", 
        "", 
        "       [[ 3.20814862,  5.33834251],", 
        "        [ 0.80047748,  6.85530256],", 
        "        [ 2.81747801,  3.2848045 ]]])"
       ]
      }
     ], 
     "prompt_number": 18
    }, 
    {
     "cell_type": "code", 
     "collapsed": true, 
     "input": [], 
     "language": "python", 
     "outputs": []
    }
   ]
  }
 ]
}