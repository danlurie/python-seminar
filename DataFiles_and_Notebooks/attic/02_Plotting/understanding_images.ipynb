{
 "metadata": {
  "name": ""
 },
 "nbformat": 3,
 "nbformat_minor": 0,
 "worksheets": [
  {
   "cells": [
    {
     "cell_type": "markdown",
     "metadata": {},
     "source": [
      "# A quick look at the structure of digital images\n",
      "\n",
      "<style type=\"text/css\">\n",
      "    .exercise {\n",
      "        border: solid 3px #AAE;\n",
      "        background: #EEF;\n",
      "        padding: 50px 10px 50px 10px;\n",
      "        display: inline-block;\n",
      "        font-size: 110%;\n",
      "    }\n",
      "</style>"
     ]
    },
    {
     "cell_type": "markdown",
     "metadata": {},
     "source": [
      "Start by loading libraries we'll need, and we'll set the default figure size to be a little larger"
     ]
    },
    {
     "cell_type": "code",
     "collapsed": true,
     "input": [
      "#%matplotlib inline\n",
      "%matplotlib\n",
      "import matplotlib.pyplot as plt\n",
      "import numpy as np\n",
      "from matplotlib import cm\n",
      "plt.rcParams['figure.figsize'] = (8, 8)"
     ],
     "language": "python",
     "metadata": {},
     "outputs": []
    },
    {
     "cell_type": "markdown",
     "metadata": {},
     "source": [
      "Define a function to load images"
     ]
    },
    {
     "cell_type": "code",
     "collapsed": true,
     "input": [
      "def image_load(fname, max_size=1200):\n",
      "    \"\"\"Load an image, downsampling if needed to keep within requested size.\n",
      "    \"\"\"\n",
      "    img = plt.imread(fname)\n",
      "    shape = np.array(img.shape, dtype=float)\n",
      "    sample_fac = int(np.ceil((shape/max_size).max()))\n",
      "    if sample_fac > 1:\n",
      "        new_img = img[::sample_fac, ::sample_fac, ...]\n",
      "        print 'Downsampling %sX:'% sample_fac, img.shape, '->', new_img.shape\n",
      "        return new_img\n",
      "    else:\n",
      "        return img"
     ],
     "language": "python",
     "metadata": {},
     "outputs": []
    },
    {
     "cell_type": "markdown",
     "metadata": {},
     "source": [
      "Now we define the file we're going to load and read it as an image"
     ]
    },
    {
     "cell_type": "code",
     "collapsed": true,
     "input": [
      "fname = 'data/stained_glass_barcelona.png'\n",
      "#fname = 'data/dessert.png'\n",
      "\n",
      "img = image_load(fname)\n",
      "plt.imshow(img)"
     ],
     "language": "python",
     "metadata": {},
     "outputs": []
    },
    {
     "cell_type": "markdown",
     "metadata": {},
     "source": [
      "We can directly display the original file in the notebook"
     ]
    },
    {
     "cell_type": "code",
     "collapsed": true,
     "input": [
      "from IPython.core.display import Image\n",
      "Image(fname)"
     ],
     "language": "python",
     "metadata": {},
     "outputs": []
    },
    {
     "cell_type": "markdown",
     "metadata": {},
     "source": [
      "Extract each color channel and create a figure with 4 subplots, one for each\n",
      "channel, so we can see its structure clearly.\n",
      "</br>\n",
      "Display the full color figure and the color channels"
     ]
    },
    {
     "cell_type": "code",
     "collapsed": true,
     "input": [
      "red, green, blue = [ img[:,:,i] for i in range(3) ]\n",
      "\n",
      "f, axes = plt.subplots(1, 4, sharex=True, sharey=True)\n",
      "\n",
      "axes[0].imshow(img)\n",
      "axes[1].imshow(red, cmap=cm.Reds_r)\n",
      "axes[2].imshow(green, cmap=cm.Greens_r)\n",
      "axes[3].imshow(blue, cmap=cm.Blues_r)\n",
      "\n",
      "# Turn off tick labels\n",
      "for ax in axes:\n",
      "    ax.set_xticks([])\n",
      "    ax.set_yticks([])\n",
      "    ax.set_aspect('auto')"
     ],
     "language": "python",
     "metadata": {},
     "outputs": []
    },
    {
     "cell_type": "markdown",
     "metadata": {},
     "source": [
      "Make a new figure and display luminosity and per-channel histograms"
     ]
    },
    {
     "cell_type": "markdown",
     "metadata": {},
     "source": [
      "PNG images sometimes have a 4th transparency channel, sometimes not.  To\n",
      "be safe, we generate a luminosity array consisting of only the first 3\n",
      "channels."
     ]
    },
    {
     "cell_type": "code",
     "collapsed": true,
     "input": [
      "lumi = img[:,:,:3].mean(axis=2)"
     ],
     "language": "python",
     "metadata": {},
     "outputs": []
    },
    {
     "cell_type": "markdown",
     "metadata": {},
     "source": [
      "Now, display a histogram for each channel.  Note that jpeg images come\n",
      "back as integer images with a luminosity range of 0..255 while pngs are\n",
      "read as floating point images in the 0..1 range.  So we adjust the\n",
      "histogram range accordingly:"
     ]
    },
    {
     "cell_type": "code",
     "collapsed": true,
     "input": [
      "hrange = (0.0, 1.0) if lumi.max()<=1.0 else (0.0, 255.0)"
     ],
     "language": "python",
     "metadata": {},
     "outputs": []
    },
    {
     "cell_type": "markdown",
     "metadata": {},
     "source": [
      "Display the luminosity and per-channel histograms:"
     ]
    },
    {
     "cell_type": "code",
     "collapsed": true,
     "input": [
      "f2, axes2 = plt.subplots(4, 1, sharex=True)\n",
      "\n",
      "axes2[0].hist(lumi.flatten(), 256, range=hrange, facecolor='k', edgecolor='k')\n",
      "axes2[1].hist(red.flatten(), 256, range=hrange, facecolor='r', edgecolor='r')\n",
      "axes2[2].hist(green.flatten(), 256, range=hrange, facecolor='g', edgecolor='g')\n",
      "axes2[3].hist(blue.flatten(), 256, range=hrange, facecolor='b', edgecolor='b');\n",
      "f2.subplots_adjust(hspace=0);\n",
      "\n",
      "# We want the x tick labels to be invisible on all but the bottom figure\n",
      "for ax in axes2[:-1]:\n",
      "    for label in ax.get_xticklabels():\n",
      "        label.set_visible(False)\n",
      "\n",
      "# Don't show the last y label in plots 2-4:\n",
      "for ax in axes2[1:]:\n",
      "    ax.get_yticklabels()[-1].set_visible(False)"
     ],
     "language": "python",
     "metadata": {},
     "outputs": []
    },
    {
     "cell_type": "code",
     "collapsed": true,
     "input": [
      "plt.figure()\n",
      "plt.imshow(lumi, cmap=cm.Greys_r);"
     ],
     "language": "python",
     "metadata": {},
     "outputs": []
    },
    {
     "cell_type": "markdown",
     "metadata": {},
     "source": [
      "Let's do a slightly different encoding of the color channels: 30% red, 59% green, 11% blue"
     ]
    },
    {
     "cell_type": "code",
     "collapsed": true,
     "input": [
      "lumi2 = .3*red + .59*green + 0.11*blue\n",
      "\n",
      "fig, axes = plt.subplots(1, 3, figsize=(12, 8), sharex=True, sharey=True)\n",
      "\n",
      "axes[0].imshow(img); axes[0].set_title('Color')\n",
      "axes[1].imshow(lumi, cmap=cm.Greys_r); axes[1].set_title('Naive gray')\n",
      "axes[2].imshow(lumi2, cmap=cm.Greys_r); axes[2].set_title('Better gray')\n",
      "\n",
      "for ax in axes:\n",
      "    ax.set_xticks([])\n",
      "    ax.set_yticks([])\n",
      "    ax.set_aspect('auto')"
     ],
     "language": "python",
     "metadata": {},
     "outputs": []
    },
    {
     "cell_type": "code",
     "collapsed": true,
     "input": [],
     "language": "python",
     "metadata": {},
     "outputs": []
    }
   ],
   "metadata": {}
  }
 ]
}