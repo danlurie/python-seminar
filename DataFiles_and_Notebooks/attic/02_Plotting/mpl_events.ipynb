{
 "metadata": {
  "name": "mpl_events"
 },
 "nbformat": 3,
 "nbformat_minor": 0,
 "worksheets": [
  {
   "cells": [
    {
     "cell_type": "markdown",
     "metadata": {},
     "source": [
      "Basic event handling\n",
      "====================\n",
      "\n",
      "Matplotlib has a builtin, toolkit-independent event model that is fairly rich.\n",
      "If you want to develop full-fledged applications with very complex and fast\n",
      "interactions, you are likely better off choosing a specific Graphical User\n",
      "Interface (GUI) toolkit and using its specific event model.  But for many\n",
      "scientific uses, what matplotlib offers is more than sufficient, and it has the\n",
      "advantage of working identically regardless of the GUI toolkit you choose to\n",
      "run matplotlib under.\n",
      "\n",
      "Here we will cover the bare essentials only, for full details you should\n",
      "consult the `event handling section`_ of the matplotlib user guide.\n",
      "\n",
      ".. _event handling section: http://matplotlib.sourceforge.net/users/event_handling.html\n",
      "\n",
      "The basic idea of *all* event handling is always the same: the windowing\n",
      "environment registers an event (mouse movement, click, keyboard press, etc)\n",
      "produced by the user.  In advance, you have registered *event handlers*:\n",
      "functions you define that are meant to be called when specific types of events\n",
      "occur.  The registration action is called *connecting* the event handler, and\n",
      "is performed by the ``mpl_connect`` method of the figure canvas attribute (the\n",
      "canvas is the drawing area of the figure object, the entire raw object where\n",
      "events take place).\n",
      "\n",
      "The windowing system will then pass the event (each event has some relevant\n",
      "information that goes with it, such as which key or button was pressed) to your\n",
      "function, which can act on it.  These functions are referred to as *callbacks*,\n",
      "because they are meant to be 'called back' not by you, but by the windowing\n",
      "toolkit when the right event goes by.\n",
      "\n",
      "Here is the simplest possible matplotlib event handler::"
     ]
    },
    {
     "cell_type": "code",
     "collapsed": false,
     "input": [
      "fig, ax = plt.subplots()\n",
      "ax.plot(np.random.rand(10))\n",
      "\n",
      "def onclick(event):\n",
      "    print 'button=%d, x=%d, y=%d, xdata=%f, ydata=%f'%(\n",
      "        event.button, event.x, event.y, event.xdata, event.ydata)\n",
      "\n",
      "cid = fig.canvas.mpl_connect('button_press_event', onclick)"
     ],
     "language": "python",
     "metadata": {},
     "outputs": []
    },
    {
     "cell_type": "markdown",
     "metadata": {},
     "source": [
      "The ``FigureCanvas`` method ``mpl_connect`` returns a connection id which\n",
      "is simply an integer.  When you want to disconnect the callback, just call::\n",
      "\n",
      "    fig.canvas.mpl_disconnect(cid)\n",
      "\n",
      "The most commonly used event types are ``KeyEvent`` and ``MouseEvent``, both of\n",
      "which have the following attributes:\n",
      "\n",
      "    ``x``\n",
      "        x position - pixels from left of canvas\n",
      "\n",
      "    ``y``\n",
      "        y position - pixels from bottom of canvas\n",
      "\n",
      "    ``inaxes``\n",
      "        the ``matplotlib.axes.Axes`` instance if mouse is over axes\n",
      "\n",
      "    ``xdata``\n",
      "        x coord of mouse in data coords\n",
      "\n",
      "    ``ydata``\n",
      "        y coord of mouse in data coords\n",
      "\n",
      "In addition, ``MouseEvent`` have:\n",
      "\n",
      "    ``button``\n",
      "        button pressed None, 1, 2, 3, 'up', 'down' (up and down are used for\n",
      "        scroll events)\n",
      "\n",
      "    ``key``\n",
      "        the key pressed: None, any character, 'shift', 'win', or 'control'"
     ]
    },
    {
     "cell_type": "markdown",
     "metadata": {},
     "source": [
      "<div class=\"exercise\">\n",
      "\n",
      "Exercise\n",
      "--------\n",
      "\n",
      "Extend the scatter plot exercise above with the seismic stations, to print the location (four-letter string) of the station you click on.  Use a threshold for distance, and discriminate between a click below threshold (considered to be 'on') vs a miss, in which case you should indicate what the closest station is, its coordinates and the distance to it from the click."
     ]
    },
    {
     "cell_type": "markdown",
     "metadata": {},
     "source": [
      "Matplotlib Events\n",
      "-------------------\n",
      "\n",
      "Let's first explore and go through what keys are already used for callbacks:\n",
      "`o p l g h c v`"
     ]
    },
    {
     "cell_type": "code",
     "collapsed": false,
     "input": [
      "%pylab\n",
      "# don't run this with inline mode - that prevents us from doing interesting things with events"
     ],
     "language": "python",
     "metadata": {},
     "outputs": []
    },
    {
     "cell_type": "code",
     "collapsed": false,
     "input": [
      "[(k,rcParams[k]) for k in rcParams if 'keymap' in k]"
     ],
     "language": "python",
     "metadata": {},
     "outputs": []
    },
    {
     "cell_type": "code",
     "collapsed": true,
     "input": [
      "%loadpy http://matplotlib.sourceforge.net/examples/widgets/slider_demo.py"
     ],
     "language": "python",
     "metadata": {},
     "outputs": []
    },
    {
     "cell_type": "code",
     "collapsed": true,
     "input": [
      "%loadpy http://matplotlib.sourceforge.net/examples/widgets/cursor.py"
     ],
     "language": "python",
     "metadata": {},
     "outputs": []
    },
    {
     "cell_type": "code",
     "collapsed": true,
     "input": [
      "%loadpy http://matplotlib.sourceforge.net/examples/event_handling/keypress_demo.py"
     ],
     "language": "python",
     "metadata": {},
     "outputs": []
    },
    {
     "cell_type": "markdown",
     "metadata": {},
     "source": [
      "Now modify the example above to pan left and right the width of the current view using `,` and `.` keys"
     ]
    },
    {
     "cell_type": "code",
     "collapsed": false,
     "input": [
      "loadpy http://matplotlib.sourceforge.net/examples/event_handling/data_browser.py"
     ],
     "language": "python",
     "metadata": {},
     "outputs": []
    },
    {
     "cell_type": "code",
     "collapsed": true,
     "input": [],
     "language": "python",
     "metadata": {},
     "outputs": []
    }
   ],
   "metadata": {}
  }
 ]
}
