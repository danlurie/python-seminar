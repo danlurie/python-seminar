{
 "cells": [
  {
   "cell_type": "markdown",
   "metadata": {},
   "source": [
    "\n",
    "http is a package that collects several modules for working with the HyperText Transfer Protocol:\n",
    "\n",
    "  - http.client is a low-level HTTP protocol client; for high-level URL opening use urllib.request\n",
    "  - http.server contains basic HTTP server classes based on socketserver\n",
    "  - http.cookies has utilities for implementing state management with cookies\n",
    "  - http.cookiejar provides persistence of cookies"
   ]
  },
  {
   "cell_type": "code",
   "execution_count": 1,
   "metadata": {
    "collapsed": false
   },
   "outputs": [],
   "source": [
    "from http.server import HTTPServer"
   ]
  },
  {
   "cell_type": "code",
   "execution_count": 2,
   "metadata": {
    "collapsed": false
   },
   "outputs": [
    {
     "name": "stdout",
     "output_type": "stream",
     "text": [
      "Overwriting hello.py\n"
     ]
    }
   ],
   "source": [
    "%%writefile hello.py\n",
    "import http.server\n",
    "\n",
    "class myresponse(http.server.SimpleHTTPRequestHandler):\n",
    "   def do_GET(s):\n",
    "       s.wfile.write(\"<body>Hello!</body>\".encode(\"UTF-8\"))\n",
    "\n",
    "httpd = http.server.HTTPServer((\"localhost\", 8084), myresponse)\n",
    "httpd.serve_forever()"
   ]
  },
  {
   "cell_type": "code",
   "execution_count": 7,
   "metadata": {
    "collapsed": false
   },
   "outputs": [
    {
     "name": "stdout",
     "output_type": "stream",
     "text": [
      "Overwriting httpd.py\n"
     ]
    }
   ],
   "source": [
    "%%writefile httpd.py\n",
    "import time\n",
    "import http.server\n",
    "\n",
    "\n",
    "HOST_NAME = 'localhost' # !!!REMEMBER TO CHANGE THIS!!!\n",
    "PORT_NUMBER = 8090 # Maybe set this to 9000.\n",
    "\n",
    "\n",
    "def s2b(s):\n",
    "    return s.encode(\"UTF-8\")\n",
    "\n",
    "class MyHandler(http.server.SimpleHTTPRequestHandler):\n",
    "    def do_HEAD(s):\n",
    "        s.send_response(200)\n",
    "        s.send_header(s2b(\"Content-type\"), s2b(\"text/html\"))\n",
    "        s.end_headers()\n",
    "\n",
    "    def do_GET(s):\n",
    "        \"\"\"Respond to a GET request.\"\"\"\n",
    "        s.send_response(200)\n",
    "        s.send_header(s2b(\"Content-type\"), s2b(\"text/html\"))\n",
    "        s.end_headers()\n",
    "        s.wfile.write(s2b(\"<html><head><title>Title goes here.</title></head>\"))\n",
    "        s.wfile.write(s2b(\"<body><p>This is a <b>test.</b></p>\"))\n",
    "        # If someone went to \"http://something.somewhere.net/foo/bar/\",\n",
    "        # then s.path equals \"/foo/bar/\".\n",
    "        s.wfile.write(s2b(\"<p>You accessed path: %s</p>\" % s.path))\n",
    "        s.wfile.write(s2b(\"</body></html>\"))\n",
    "\n",
    "if __name__ == '__main__':\n",
    "    server_class = http.server.HTTPServer\n",
    "    httpd = server_class((HOST_NAME, PORT_NUMBER), MyHandler)\n",
    "    print(time.asctime()), \"Server Starts - %s:%s\" % (HOST_NAME, PORT_NUMBER)\n",
    "    httpd.serve_forever()\n",
    "    #except KeyboardInterrupt:\n",
    "    #    pass\n",
    "    httpd.server_close()\n",
    "    print(time.asctime()), \"Server Stops - %s:%s\" % (HOST_NAME, PORT_NUMBER)\n"
   ]
  },
  {
   "cell_type": "code",
   "execution_count": 2,
   "metadata": {
    "collapsed": false
   },
   "outputs": [
    {
     "name": "stdout",
     "output_type": "stream",
     "text": [
      "Overwriting cp1.py\n"
     ]
    }
   ],
   "source": [
    "%%writefile cp1.py\n",
    "import cherrypy\n",
    "\n",
    "PORTNUM = 8093\n",
    "\n",
    "class WelcomePage:\n",
    "    def greetUser(self, name = None):\n",
    "        if name:\n",
    "            # Greet the user!\n",
    "            return \"Hey %s, what's up?\" % name\n",
    "        else:\n",
    "            return 'call me like <i>http://localhost:{}/greetUser?name=Josh</i>'.format(PORTNUM)\n",
    "    greetUser.exposed = True\n",
    "\n",
    "cherrypy.config.update({\"server.socket_port\": PORTNUM})\n",
    "\n",
    "cherrypy.quickstart(WelcomePage())"
   ]
  },
  {
   "cell_type": "code",
   "execution_count": 2,
   "metadata": {
    "collapsed": false
   },
   "outputs": [
    {
     "name": "stdout",
     "output_type": "stream",
     "text": [
      "Overwriting cp2.py\n"
     ]
    }
   ],
   "source": [
    "%%writefile cp2.py\n",
    "\"\"\"\n",
    "Tutorial - Passing variables\n",
    "\n",
    "This tutorial shows you how to pass GET/POST variables to methods.\n",
    "\"\"\"\n",
    "import os\n",
    "import cherrypy\n",
    "\n",
    "\n",
    "class WelcomePage:\n",
    "\n",
    "    @cherrypy.expose\n",
    "    def index(self):\n",
    "        # Ask for the user's name.\n",
    "        return '''\n",
    "            <form action=\"greetUser\" method=\"GET\">\n",
    "            What is your name?\n",
    "            <input type=\"text\" name=\"name\" />\n",
    "            <input type=\"submit\" />\n",
    "            </form>'''\n",
    "    \n",
    "    @cherrypy.expose\n",
    "    def greetUser(self, name = None):\n",
    "        # CherryPy passes all GET and POST variables as method parameters.\n",
    "        # It doesn't make a difference where the variables come from, how\n",
    "        # large their contents are, and so on.\n",
    "        #\n",
    "        # You can define default parameter values as usual. In this\n",
    "        # example, the \"name\" parameter defaults to None so we can check\n",
    "        # if a name was actually specified.\n",
    "        \n",
    "        if name:\n",
    "            # Greet the user!\n",
    "            return \"Hey %s, what's up?\" % name\n",
    "        else:\n",
    "            if name is None:\n",
    "                # No name was specified\n",
    "                return 'Please enter your name <a href=\"./\">here</a>.'\n",
    "            else:\n",
    "                return 'No, really, enter your name <a href=\"./\">here</a>.'\n",
    "        \n",
    "    def secret(self):\n",
    "        return \"here's my password: blah!\"\n",
    "\n",
    "if __name__ == '__main__':\n",
    "    # CherryPy always starts with app.root when trying to map request URIs\n",
    "    # to objects, so we need to mount a request handler root. A request\n",
    "    # to '/' will be mapped to HelloWorld().index().\n",
    "    cherrypy.config.update({\"server.socket_port\": 9010})\n",
    "\n",
    "    cherrypy.quickstart(WelcomePage())\n",
    "else:\n",
    "    # This branch is for the test suite; you can ignore it.\n",
    "    cherrypy.tree.mount(WelcomePage())\n"
   ]
  },
  {
   "cell_type": "markdown",
   "metadata": {
    "collapsed": false
   },
   "source": [
    "## Restful apps\n",
    "\n",
    "Flask-Restless provides simple generation of ReSTful APIs for database models defined using SQLAlchemy (or Flask-SQLAlchemy). The generated APIs send and receive messages in JSON format.\n",
    "\n",
    "http://flask-restless.readthedocs.io/en/stable/"
   ]
  },
  {
   "cell_type": "code",
   "execution_count": null,
   "metadata": {
    "collapsed": true
   },
   "outputs": [],
   "source": [
    "!pip install flask-restless"
   ]
  },
  {
   "cell_type": "code",
   "execution_count": 3,
   "metadata": {
    "collapsed": false
   },
   "outputs": [
    {
     "name": "stdout",
     "output_type": "stream",
     "text": [
      "Overwriting rest.py\n"
     ]
    }
   ],
   "source": [
    "%%writefile rest.py\n",
    "import flask\n",
    "import flask.ext.sqlalchemy\n",
    "import flask.ext.restless\n",
    "\n",
    "app = flask.Flask(__name__)\n",
    "app.config[\"DEBUG\"] = True\n",
    "app.config[\"SQLALCHEMY_DATABASE_URI\"] = \"sqlite:////tmp/test.db\"\n",
    "\n",
    "db = flask.ext.sqlalchemy.SQLAlchemy(app)\n",
    "\n",
    "class Member(db.Model):\n",
    "        # __tablename __ = \"newsletter_members\"\n",
    "        id = db.Column(db.Integer,primary_key=True)\n",
    "        last_name = db.Column(db.String(50))\n",
    "        first_name = db.Column(db.String(120))\n",
    "        email = db.Column(db.String(120),unique=True)\n",
    "\n",
    "db.create_all()\n",
    "\n",
    "manager = flask.ext.restless.APIManager(app,flask_sqlalchemy_db=db)\n",
    "\n",
    "manager.create_api(Member,methods=[\"GET\",\"POST\"])\n",
    "\n",
    "app.run()"
   ]
  },
  {
   "cell_type": "markdown",
   "metadata": {},
   "source": [
    "Now run it in the terminal..."
   ]
  },
  {
   "cell_type": "code",
   "execution_count": 6,
   "metadata": {
    "collapsed": false
   },
   "outputs": [],
   "source": [
    "import json  # import simplejson as json, if on Python 2.5\n",
    "import requests  # python-requests is installable from PyPI...\n",
    "newmember = {'last_name': 'Lincoln', 'first_name': 'Abe', 'email': 'alincoln@whitehouse.gov'}\n",
    "r = requests.post('http://127.0.0.1:5000/api/member', data=json.dumps(newmember),\n",
    "                   headers={'content-type': 'application/json'})"
   ]
  },
  {
   "cell_type": "code",
   "execution_count": 8,
   "metadata": {
    "collapsed": false
   },
   "outputs": [
    {
     "data": {
      "text/plain": [
       "201"
      ]
     },
     "execution_count": 8,
     "metadata": {},
     "output_type": "execute_result"
    }
   ],
   "source": [
    "r.status_code"
   ]
  },
  {
   "cell_type": "code",
   "execution_count": 9,
   "metadata": {
    "collapsed": false
   },
   "outputs": [
    {
     "data": {
      "text/plain": [
       "'application/json, application/json'"
      ]
     },
     "execution_count": 9,
     "metadata": {},
     "output_type": "execute_result"
    }
   ],
   "source": [
    "r.headers['content-type']"
   ]
  },
  {
   "cell_type": "code",
   "execution_count": 10,
   "metadata": {
    "collapsed": false
   },
   "outputs": [
    {
     "data": {
      "text/plain": [
       "'{\\n  \"email\": \"alincoln@whitehouse.gov\", \\n  \"first_name\": \"Abe\", \\n  \"id\": 1, \\n  \"last_name\": \"Lincoln\"\\n}\\n'"
      ]
     },
     "execution_count": 10,
     "metadata": {},
     "output_type": "execute_result"
    }
   ],
   "source": [
    "r.text"
   ]
  },
  {
   "cell_type": "code",
   "execution_count": 11,
   "metadata": {
    "collapsed": true
   },
   "outputs": [],
   "source": [
    "newid = json.loads(r.text)['id']"
   ]
  },
  {
   "cell_type": "code",
   "execution_count": 12,
   "metadata": {
    "collapsed": true
   },
   "outputs": [],
   "source": [
    "r = requests.get('http://127.0.0.1:5000/api/member/%s' % newid,\n",
    "                  headers={'content-type': 'application/json'})"
   ]
  },
  {
   "cell_type": "code",
   "execution_count": 13,
   "metadata": {
    "collapsed": false
   },
   "outputs": [
    {
     "data": {
      "text/plain": [
       "(200, 'application/json, application/json')"
      ]
     },
     "execution_count": 13,
     "metadata": {},
     "output_type": "execute_result"
    }
   ],
   "source": [
    "r.status_code, r.headers['content-type']"
   ]
  },
  {
   "cell_type": "code",
   "execution_count": 14,
   "metadata": {
    "collapsed": false
   },
   "outputs": [
    {
     "data": {
      "text/plain": [
       "{'email': 'alincoln@whitehouse.gov',\n",
       " 'first_name': 'Abe',\n",
       " 'id': 1,\n",
       " 'last_name': 'Lincoln'}"
      ]
     },
     "execution_count": 14,
     "metadata": {},
     "output_type": "execute_result"
    }
   ],
   "source": [
    "r.json()"
   ]
  },
  {
   "cell_type": "code",
   "execution_count": null,
   "metadata": {
    "collapsed": true
   },
   "outputs": [],
   "source": []
  }
 ],
 "metadata": {
  "kernelspec": {
   "display_name": "Python 3",
   "language": "python",
   "name": "python3"
  },
  "language_info": {
   "codemirror_mode": {
    "name": "ipython",
    "version": 3
   },
   "file_extension": ".py",
   "mimetype": "text/x-python",
   "name": "python",
   "nbconvert_exporter": "python",
   "pygments_lexer": "ipython3",
   "version": "3.5.2"
  }
 },
 "nbformat": 4,
 "nbformat_minor": 0
}
