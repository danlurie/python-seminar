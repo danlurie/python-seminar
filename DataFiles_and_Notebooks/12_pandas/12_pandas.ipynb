{
 "cells": [
  {
   "cell_type": "markdown",
   "metadata": {},
   "source": [
    "## Pandas: versatile tool for data wrangling in Python\n",
    "\n",
    "* emphasis on tabular data (csv and the like)\n",
    "* database/spreadsheet-like functionality\n",
    "* rich support for mixed data (numpy is for homogeneous arrays)\n",
    "* integrates cleanly with numpy and matplotlib\n",
    "* really shines with time-series data\n",
    "\n",
    "<img src=\"http://akamaicovers.oreilly.com/images/0636920023784/lrg.jpg\" width=\"30%\">\n",
    "\n",
    "  - Definative Book: http://shop.oreilly.com/product/0636920023784.do#\n",
    "  - Quick Ref: http://pandas.pydata.org/pandas-docs/stable/10min.html\n",
    "  "
   ]
  },
  {
   "cell_type": "code",
   "execution_count": 2,
   "metadata": {
    "collapsed": false
   },
   "outputs": [],
   "source": [
    "import numpy as np\n",
    "import pandas as pd  ## this is by convention\n",
    "pd.options.display.width = 1000"
   ]
  },
  {
   "cell_type": "code",
   "execution_count": null,
   "metadata": {
    "collapsed": false
   },
   "outputs": [],
   "source": [
    "s = pd.Series([-1, 20, -30, 40, -50])\n",
    "s"
   ]
  },
  {
   "cell_type": "code",
   "execution_count": null,
   "metadata": {
    "collapsed": false
   },
   "outputs": [],
   "source": [
    "s.index"
   ]
  },
  {
   "cell_type": "code",
   "execution_count": null,
   "metadata": {
    "collapsed": false
   },
   "outputs": [],
   "source": [
    "s.index[2]"
   ]
  },
  {
   "cell_type": "code",
   "execution_count": null,
   "metadata": {
    "collapsed": false
   },
   "outputs": [],
   "source": [
    "s.values"
   ]
  },
  {
   "cell_type": "code",
   "execution_count": null,
   "metadata": {
    "collapsed": false
   },
   "outputs": [],
   "source": [
    "s2 = pd.Series([1, 2, np.nan, 4, 5],\n",
    "              index=['one', 'two', 'three', 'four', 'five'])\n",
    "s2"
   ]
  },
  {
   "cell_type": "code",
   "execution_count": null,
   "metadata": {
    "collapsed": false
   },
   "outputs": [],
   "source": [
    "s2.index[0]"
   ]
  },
  {
   "cell_type": "code",
   "execution_count": null,
   "metadata": {
    "collapsed": false
   },
   "outputs": [],
   "source": [
    "s2"
   ]
  },
  {
   "cell_type": "code",
   "execution_count": null,
   "metadata": {
    "collapsed": false
   },
   "outputs": [],
   "source": [
    "s2['three']"
   ]
  },
  {
   "cell_type": "code",
   "execution_count": null,
   "metadata": {
    "collapsed": false
   },
   "outputs": [],
   "source": [
    "s2[2]"
   ]
  },
  {
   "cell_type": "code",
   "execution_count": null,
   "metadata": {
    "collapsed": false
   },
   "outputs": [],
   "source": [
    "s2[['one', 'three', 'two']]"
   ]
  },
  {
   "cell_type": "code",
   "execution_count": null,
   "metadata": {
    "collapsed": false
   },
   "outputs": [],
   "source": [
    "s2"
   ]
  },
  {
   "cell_type": "code",
   "execution_count": null,
   "metadata": {
    "collapsed": false
   },
   "outputs": [],
   "source": [
    "s3 = s2[:3]"
   ]
  },
  {
   "cell_type": "code",
   "execution_count": null,
   "metadata": {
    "collapsed": false
   },
   "outputs": [],
   "source": [
    "s2"
   ]
  },
  {
   "cell_type": "code",
   "execution_count": null,
   "metadata": {
    "collapsed": false
   },
   "outputs": [],
   "source": [
    "s3"
   ]
  },
  {
   "cell_type": "code",
   "execution_count": null,
   "metadata": {
    "collapsed": false
   },
   "outputs": [],
   "source": [
    "s3.to_dict()"
   ]
  },
  {
   "cell_type": "code",
   "execution_count": null,
   "metadata": {
    "collapsed": false
   },
   "outputs": [],
   "source": [
    "pd.Series(s3.to_dict())"
   ]
  },
  {
   "cell_type": "code",
   "execution_count": null,
   "metadata": {
    "collapsed": false
   },
   "outputs": [],
   "source": [
    "df = pd.DataFrame({'A': s2, 'B': s3})\n",
    "df"
   ]
  },
  {
   "cell_type": "code",
   "execution_count": null,
   "metadata": {
    "collapsed": false
   },
   "outputs": [],
   "source": [
    "df['A']"
   ]
  },
  {
   "cell_type": "code",
   "execution_count": null,
   "metadata": {
    "collapsed": false
   },
   "outputs": [],
   "source": [
    "df['B']"
   ]
  },
  {
   "cell_type": "markdown",
   "metadata": {},
   "source": [
    "### Boolean indexing"
   ]
  },
  {
   "cell_type": "code",
   "execution_count": null,
   "metadata": {
    "collapsed": false
   },
   "outputs": [],
   "source": [
    "df[df[\"A\"] > 0]"
   ]
  },
  {
   "cell_type": "markdown",
   "metadata": {},
   "source": [
    "**Note** While many of the NumPy access methods work on DataFrames, use the pandas-specific data access methods, `.at`, `.iat`, `.loc`, `.iloc` and `.ix`.\n",
    "\n",
    "See the [Indexing section](http://pandas.pydata.org/pandas-docs/stable/indexing.html#indexing) and below."
   ]
  },
  {
   "cell_type": "code",
   "execution_count": null,
   "metadata": {
    "collapsed": false
   },
   "outputs": [],
   "source": [
    "df.ix['four']"
   ]
  },
  {
   "cell_type": "markdown",
   "metadata": {},
   "source": [
    "Select via the position of the passed integers ... looks like NumPy indexing."
   ]
  },
  {
   "cell_type": "code",
   "execution_count": null,
   "metadata": {
    "collapsed": false
   },
   "outputs": [],
   "source": [
    "df.iloc[1:3, :]"
   ]
  },
  {
   "cell_type": "code",
   "execution_count": null,
   "metadata": {
    "collapsed": false
   },
   "outputs": [],
   "source": [
    "df.columns"
   ]
  },
  {
   "cell_type": "code",
   "execution_count": null,
   "metadata": {
    "collapsed": false
   },
   "outputs": [],
   "source": [
    "df.index"
   ]
  },
  {
   "cell_type": "code",
   "execution_count": null,
   "metadata": {
    "collapsed": false
   },
   "outputs": [],
   "source": [
    "df.values"
   ]
  },
  {
   "cell_type": "code",
   "execution_count": null,
   "metadata": {
    "collapsed": false
   },
   "outputs": [],
   "source": [
    "df"
   ]
  },
  {
   "cell_type": "code",
   "execution_count": null,
   "metadata": {
    "collapsed": false
   },
   "outputs": [],
   "source": [
    "df.values"
   ]
  },
  {
   "cell_type": "code",
   "execution_count": null,
   "metadata": {
    "collapsed": false
   },
   "outputs": [],
   "source": [
    "df.sort_index(ascending=True)"
   ]
  },
  {
   "cell_type": "code",
   "execution_count": null,
   "metadata": {
    "collapsed": false
   },
   "outputs": [],
   "source": [
    "df2 = pd.DataFrame(df.values, columns=['A', 'B'])"
   ]
  },
  {
   "cell_type": "code",
   "execution_count": null,
   "metadata": {
    "collapsed": false
   },
   "outputs": [],
   "source": [
    "df2['A'] = 7.5\n",
    "df2"
   ]
  },
  {
   "cell_type": "code",
   "execution_count": null,
   "metadata": {
    "collapsed": true
   },
   "outputs": [],
   "source": [
    "df2.dropna?"
   ]
  },
  {
   "cell_type": "code",
   "execution_count": null,
   "metadata": {
    "collapsed": false
   },
   "outputs": [],
   "source": [
    "df3 = df2.dropna()\n",
    "df3"
   ]
  },
  {
   "cell_type": "code",
   "execution_count": null,
   "metadata": {
    "collapsed": false
   },
   "outputs": [],
   "source": [
    "del df3[\"A\"]\n",
    "df3"
   ]
  },
  {
   "cell_type": "markdown",
   "metadata": {},
   "source": [
    "## Reading in Data, Time Series"
   ]
  },
  {
   "cell_type": "code",
   "execution_count": null,
   "metadata": {
    "collapsed": false
   },
   "outputs": [],
   "source": [
    "!head -n 10 multiTimeline.csv"
   ]
  },
  {
   "cell_type": "code",
   "execution_count": 3,
   "metadata": {
    "collapsed": true
   },
   "outputs": [
    {
     "data": {
      "text/html": [
       "<div>\n",
       "<table border=\"1\" class=\"dataframe\">\n",
       "  <thead>\n",
       "    <tr style=\"text-align: right;\">\n",
       "      <th></th>\n",
       "      <th>Week</th>\n",
       "      <th>ice cream</th>\n",
       "      <th>Volleyball</th>\n",
       "      <th>tennis</th>\n",
       "    </tr>\n",
       "  </thead>\n",
       "  <tbody>\n",
       "    <tr>\n",
       "      <th>0</th>\n",
       "      <td>2011-09-03</td>\n",
       "      <td>25</td>\n",
       "      <td>18</td>\n",
       "      <td>83</td>\n",
       "    </tr>\n",
       "    <tr>\n",
       "      <th>1</th>\n",
       "      <td>2011-09-10</td>\n",
       "      <td>21</td>\n",
       "      <td>18</td>\n",
       "      <td>58</td>\n",
       "    </tr>\n",
       "    <tr>\n",
       "      <th>2</th>\n",
       "      <td>2011-09-17</td>\n",
       "      <td>20</td>\n",
       "      <td>18</td>\n",
       "      <td>25</td>\n",
       "    </tr>\n",
       "    <tr>\n",
       "      <th>3</th>\n",
       "      <td>2011-09-24</td>\n",
       "      <td>21</td>\n",
       "      <td>18</td>\n",
       "      <td>24</td>\n",
       "    </tr>\n",
       "    <tr>\n",
       "      <th>4</th>\n",
       "      <td>2011-10-01</td>\n",
       "      <td>20</td>\n",
       "      <td>18</td>\n",
       "      <td>24</td>\n",
       "    </tr>\n",
       "    <tr>\n",
       "      <th>5</th>\n",
       "      <td>2011-10-08</td>\n",
       "      <td>20</td>\n",
       "      <td>18</td>\n",
       "      <td>23</td>\n",
       "    </tr>\n",
       "    <tr>\n",
       "      <th>6</th>\n",
       "      <td>2011-10-15</td>\n",
       "      <td>27</td>\n",
       "      <td>19</td>\n",
       "      <td>22</td>\n",
       "    </tr>\n",
       "    <tr>\n",
       "      <th>7</th>\n",
       "      <td>2011-10-22</td>\n",
       "      <td>21</td>\n",
       "      <td>21</td>\n",
       "      <td>21</td>\n",
       "    </tr>\n",
       "    <tr>\n",
       "      <th>8</th>\n",
       "      <td>2011-10-29</td>\n",
       "      <td>19</td>\n",
       "      <td>22</td>\n",
       "      <td>20</td>\n",
       "    </tr>\n",
       "    <tr>\n",
       "      <th>9</th>\n",
       "      <td>2011-11-05</td>\n",
       "      <td>19</td>\n",
       "      <td>22</td>\n",
       "      <td>21</td>\n",
       "    </tr>\n",
       "    <tr>\n",
       "      <th>10</th>\n",
       "      <td>2011-11-12</td>\n",
       "      <td>21</td>\n",
       "      <td>20</td>\n",
       "      <td>20</td>\n",
       "    </tr>\n",
       "    <tr>\n",
       "      <th>11</th>\n",
       "      <td>2011-11-19</td>\n",
       "      <td>22</td>\n",
       "      <td>15</td>\n",
       "      <td>22</td>\n",
       "    </tr>\n",
       "    <tr>\n",
       "      <th>12</th>\n",
       "      <td>2011-11-26</td>\n",
       "      <td>19</td>\n",
       "      <td>14</td>\n",
       "      <td>21</td>\n",
       "    </tr>\n",
       "    <tr>\n",
       "      <th>13</th>\n",
       "      <td>2011-12-03</td>\n",
       "      <td>19</td>\n",
       "      <td>12</td>\n",
       "      <td>19</td>\n",
       "    </tr>\n",
       "    <tr>\n",
       "      <th>14</th>\n",
       "      <td>2011-12-10</td>\n",
       "      <td>21</td>\n",
       "      <td>11</td>\n",
       "      <td>19</td>\n",
       "    </tr>\n",
       "    <tr>\n",
       "      <th>15</th>\n",
       "      <td>2011-12-17</td>\n",
       "      <td>24</td>\n",
       "      <td>8</td>\n",
       "      <td>18</td>\n",
       "    </tr>\n",
       "    <tr>\n",
       "      <th>16</th>\n",
       "      <td>2011-12-24</td>\n",
       "      <td>23</td>\n",
       "      <td>7</td>\n",
       "      <td>19</td>\n",
       "    </tr>\n",
       "    <tr>\n",
       "      <th>17</th>\n",
       "      <td>2011-12-31</td>\n",
       "      <td>21</td>\n",
       "      <td>10</td>\n",
       "      <td>21</td>\n",
       "    </tr>\n",
       "    <tr>\n",
       "      <th>18</th>\n",
       "      <td>2012-01-07</td>\n",
       "      <td>22</td>\n",
       "      <td>12</td>\n",
       "      <td>22</td>\n",
       "    </tr>\n",
       "    <tr>\n",
       "      <th>19</th>\n",
       "      <td>2012-01-14</td>\n",
       "      <td>22</td>\n",
       "      <td>11</td>\n",
       "      <td>28</td>\n",
       "    </tr>\n",
       "    <tr>\n",
       "      <th>20</th>\n",
       "      <td>2012-01-21</td>\n",
       "      <td>22</td>\n",
       "      <td>12</td>\n",
       "      <td>33</td>\n",
       "    </tr>\n",
       "    <tr>\n",
       "      <th>21</th>\n",
       "      <td>2012-01-28</td>\n",
       "      <td>22</td>\n",
       "      <td>11</td>\n",
       "      <td>29</td>\n",
       "    </tr>\n",
       "    <tr>\n",
       "      <th>22</th>\n",
       "      <td>2012-02-04</td>\n",
       "      <td>23</td>\n",
       "      <td>11</td>\n",
       "      <td>23</td>\n",
       "    </tr>\n",
       "    <tr>\n",
       "      <th>23</th>\n",
       "      <td>2012-02-11</td>\n",
       "      <td>22</td>\n",
       "      <td>11</td>\n",
       "      <td>23</td>\n",
       "    </tr>\n",
       "    <tr>\n",
       "      <th>24</th>\n",
       "      <td>2012-02-18</td>\n",
       "      <td>22</td>\n",
       "      <td>11</td>\n",
       "      <td>25</td>\n",
       "    </tr>\n",
       "    <tr>\n",
       "      <th>25</th>\n",
       "      <td>2012-02-25</td>\n",
       "      <td>23</td>\n",
       "      <td>12</td>\n",
       "      <td>26</td>\n",
       "    </tr>\n",
       "    <tr>\n",
       "      <th>26</th>\n",
       "      <td>2012-03-03</td>\n",
       "      <td>23</td>\n",
       "      <td>12</td>\n",
       "      <td>27</td>\n",
       "    </tr>\n",
       "    <tr>\n",
       "      <th>27</th>\n",
       "      <td>2012-03-10</td>\n",
       "      <td>26</td>\n",
       "      <td>11</td>\n",
       "      <td>32</td>\n",
       "    </tr>\n",
       "    <tr>\n",
       "      <th>28</th>\n",
       "      <td>2012-03-17</td>\n",
       "      <td>27</td>\n",
       "      <td>11</td>\n",
       "      <td>32</td>\n",
       "    </tr>\n",
       "    <tr>\n",
       "      <th>29</th>\n",
       "      <td>2012-03-24</td>\n",
       "      <td>26</td>\n",
       "      <td>13</td>\n",
       "      <td>32</td>\n",
       "    </tr>\n",
       "    <tr>\n",
       "      <th>...</th>\n",
       "      <td>...</td>\n",
       "      <td>...</td>\n",
       "      <td>...</td>\n",
       "      <td>...</td>\n",
       "    </tr>\n",
       "    <tr>\n",
       "      <th>231</th>\n",
       "      <td>2016-02-06</td>\n",
       "      <td>19</td>\n",
       "      <td>12</td>\n",
       "      <td>20</td>\n",
       "    </tr>\n",
       "    <tr>\n",
       "      <th>232</th>\n",
       "      <td>2016-02-13</td>\n",
       "      <td>21</td>\n",
       "      <td>12</td>\n",
       "      <td>22</td>\n",
       "    </tr>\n",
       "    <tr>\n",
       "      <th>233</th>\n",
       "      <td>2016-02-20</td>\n",
       "      <td>22</td>\n",
       "      <td>12</td>\n",
       "      <td>23</td>\n",
       "    </tr>\n",
       "    <tr>\n",
       "      <th>234</th>\n",
       "      <td>2016-02-27</td>\n",
       "      <td>22</td>\n",
       "      <td>13</td>\n",
       "      <td>22</td>\n",
       "    </tr>\n",
       "    <tr>\n",
       "      <th>235</th>\n",
       "      <td>2016-03-05</td>\n",
       "      <td>25</td>\n",
       "      <td>13</td>\n",
       "      <td>26</td>\n",
       "    </tr>\n",
       "    <tr>\n",
       "      <th>236</th>\n",
       "      <td>2016-03-12</td>\n",
       "      <td>27</td>\n",
       "      <td>12</td>\n",
       "      <td>28</td>\n",
       "    </tr>\n",
       "    <tr>\n",
       "      <th>237</th>\n",
       "      <td>2016-03-19</td>\n",
       "      <td>27</td>\n",
       "      <td>12</td>\n",
       "      <td>27</td>\n",
       "    </tr>\n",
       "    <tr>\n",
       "      <th>238</th>\n",
       "      <td>2016-03-26</td>\n",
       "      <td>25</td>\n",
       "      <td>14</td>\n",
       "      <td>27</td>\n",
       "    </tr>\n",
       "    <tr>\n",
       "      <th>239</th>\n",
       "      <td>2016-04-02</td>\n",
       "      <td>26</td>\n",
       "      <td>13</td>\n",
       "      <td>24</td>\n",
       "    </tr>\n",
       "    <tr>\n",
       "      <th>240</th>\n",
       "      <td>2016-04-09</td>\n",
       "      <td>28</td>\n",
       "      <td>13</td>\n",
       "      <td>26</td>\n",
       "    </tr>\n",
       "    <tr>\n",
       "      <th>241</th>\n",
       "      <td>2016-04-16</td>\n",
       "      <td>31</td>\n",
       "      <td>13</td>\n",
       "      <td>26</td>\n",
       "    </tr>\n",
       "    <tr>\n",
       "      <th>242</th>\n",
       "      <td>2016-04-23</td>\n",
       "      <td>29</td>\n",
       "      <td>13</td>\n",
       "      <td>24</td>\n",
       "    </tr>\n",
       "    <tr>\n",
       "      <th>243</th>\n",
       "      <td>2016-04-30</td>\n",
       "      <td>29</td>\n",
       "      <td>12</td>\n",
       "      <td>24</td>\n",
       "    </tr>\n",
       "    <tr>\n",
       "      <th>244</th>\n",
       "      <td>2016-05-07</td>\n",
       "      <td>31</td>\n",
       "      <td>13</td>\n",
       "      <td>26</td>\n",
       "    </tr>\n",
       "    <tr>\n",
       "      <th>245</th>\n",
       "      <td>2016-05-14</td>\n",
       "      <td>32</td>\n",
       "      <td>12</td>\n",
       "      <td>25</td>\n",
       "    </tr>\n",
       "    <tr>\n",
       "      <th>246</th>\n",
       "      <td>2016-05-21</td>\n",
       "      <td>36</td>\n",
       "      <td>12</td>\n",
       "      <td>29</td>\n",
       "    </tr>\n",
       "    <tr>\n",
       "      <th>247</th>\n",
       "      <td>2016-05-28</td>\n",
       "      <td>40</td>\n",
       "      <td>12</td>\n",
       "      <td>31</td>\n",
       "    </tr>\n",
       "    <tr>\n",
       "      <th>248</th>\n",
       "      <td>2016-06-04</td>\n",
       "      <td>38</td>\n",
       "      <td>11</td>\n",
       "      <td>28</td>\n",
       "    </tr>\n",
       "    <tr>\n",
       "      <th>249</th>\n",
       "      <td>2016-06-11</td>\n",
       "      <td>39</td>\n",
       "      <td>11</td>\n",
       "      <td>24</td>\n",
       "    </tr>\n",
       "    <tr>\n",
       "      <th>250</th>\n",
       "      <td>2016-06-18</td>\n",
       "      <td>42</td>\n",
       "      <td>12</td>\n",
       "      <td>23</td>\n",
       "    </tr>\n",
       "    <tr>\n",
       "      <th>251</th>\n",
       "      <td>2016-06-25</td>\n",
       "      <td>43</td>\n",
       "      <td>12</td>\n",
       "      <td>34</td>\n",
       "    </tr>\n",
       "    <tr>\n",
       "      <th>252</th>\n",
       "      <td>2016-07-02</td>\n",
       "      <td>44</td>\n",
       "      <td>11</td>\n",
       "      <td>40</td>\n",
       "    </tr>\n",
       "    <tr>\n",
       "      <th>253</th>\n",
       "      <td>2016-07-09</td>\n",
       "      <td>44</td>\n",
       "      <td>12</td>\n",
       "      <td>29</td>\n",
       "    </tr>\n",
       "    <tr>\n",
       "      <th>254</th>\n",
       "      <td>2016-07-16</td>\n",
       "      <td>53</td>\n",
       "      <td>12</td>\n",
       "      <td>24</td>\n",
       "    </tr>\n",
       "    <tr>\n",
       "      <th>255</th>\n",
       "      <td>2016-07-23</td>\n",
       "      <td>43</td>\n",
       "      <td>11</td>\n",
       "      <td>25</td>\n",
       "    </tr>\n",
       "    <tr>\n",
       "      <th>256</th>\n",
       "      <td>2016-07-30</td>\n",
       "      <td>41</td>\n",
       "      <td>18</td>\n",
       "      <td>28</td>\n",
       "    </tr>\n",
       "    <tr>\n",
       "      <th>257</th>\n",
       "      <td>2016-08-06</td>\n",
       "      <td>36</td>\n",
       "      <td>60</td>\n",
       "      <td>52</td>\n",
       "    </tr>\n",
       "    <tr>\n",
       "      <th>258</th>\n",
       "      <td>2016-08-13</td>\n",
       "      <td>36</td>\n",
       "      <td>64</td>\n",
       "      <td>37</td>\n",
       "    </tr>\n",
       "    <tr>\n",
       "      <th>259</th>\n",
       "      <td>2016-08-20</td>\n",
       "      <td>34</td>\n",
       "      <td>30</td>\n",
       "      <td>29</td>\n",
       "    </tr>\n",
       "    <tr>\n",
       "      <th>260</th>\n",
       "      <td>2016-08-27</td>\n",
       "      <td>33</td>\n",
       "      <td>24</td>\n",
       "      <td>45</td>\n",
       "    </tr>\n",
       "  </tbody>\n",
       "</table>\n",
       "<p>261 rows × 4 columns</p>\n",
       "</div>"
      ],
      "text/plain": [
       "           Week  ice cream  Volleyball  tennis\n",
       "0    2011-09-03         25          18      83\n",
       "1    2011-09-10         21          18      58\n",
       "2    2011-09-17         20          18      25\n",
       "3    2011-09-24         21          18      24\n",
       "4    2011-10-01         20          18      24\n",
       "5    2011-10-08         20          18      23\n",
       "6    2011-10-15         27          19      22\n",
       "7    2011-10-22         21          21      21\n",
       "8    2011-10-29         19          22      20\n",
       "9    2011-11-05         19          22      21\n",
       "10   2011-11-12         21          20      20\n",
       "11   2011-11-19         22          15      22\n",
       "12   2011-11-26         19          14      21\n",
       "13   2011-12-03         19          12      19\n",
       "14   2011-12-10         21          11      19\n",
       "15   2011-12-17         24           8      18\n",
       "16   2011-12-24         23           7      19\n",
       "17   2011-12-31         21          10      21\n",
       "18   2012-01-07         22          12      22\n",
       "19   2012-01-14         22          11      28\n",
       "20   2012-01-21         22          12      33\n",
       "21   2012-01-28         22          11      29\n",
       "22   2012-02-04         23          11      23\n",
       "23   2012-02-11         22          11      23\n",
       "24   2012-02-18         22          11      25\n",
       "25   2012-02-25         23          12      26\n",
       "26   2012-03-03         23          12      27\n",
       "27   2012-03-10         26          11      32\n",
       "28   2012-03-17         27          11      32\n",
       "29   2012-03-24         26          13      32\n",
       "..          ...        ...         ...     ...\n",
       "231  2016-02-06         19          12      20\n",
       "232  2016-02-13         21          12      22\n",
       "233  2016-02-20         22          12      23\n",
       "234  2016-02-27         22          13      22\n",
       "235  2016-03-05         25          13      26\n",
       "236  2016-03-12         27          12      28\n",
       "237  2016-03-19         27          12      27\n",
       "238  2016-03-26         25          14      27\n",
       "239  2016-04-02         26          13      24\n",
       "240  2016-04-09         28          13      26\n",
       "241  2016-04-16         31          13      26\n",
       "242  2016-04-23         29          13      24\n",
       "243  2016-04-30         29          12      24\n",
       "244  2016-05-07         31          13      26\n",
       "245  2016-05-14         32          12      25\n",
       "246  2016-05-21         36          12      29\n",
       "247  2016-05-28         40          12      31\n",
       "248  2016-06-04         38          11      28\n",
       "249  2016-06-11         39          11      24\n",
       "250  2016-06-18         42          12      23\n",
       "251  2016-06-25         43          12      34\n",
       "252  2016-07-02         44          11      40\n",
       "253  2016-07-09         44          12      29\n",
       "254  2016-07-16         53          12      24\n",
       "255  2016-07-23         43          11      25\n",
       "256  2016-07-30         41          18      28\n",
       "257  2016-08-06         36          60      52\n",
       "258  2016-08-13         36          64      37\n",
       "259  2016-08-20         34          30      29\n",
       "260  2016-08-27         33          24      45\n",
       "\n",
       "[261 rows x 4 columns]"
      ]
     },
     "execution_count": 3,
     "metadata": {},
     "output_type": "execute_result"
    }
   ],
   "source": [
    "fred = pd.read_csv('multiTimeline.csv')\n",
    "fred"
   ]
  },
  {
   "cell_type": "code",
   "execution_count": null,
   "metadata": {
    "collapsed": false
   },
   "outputs": [],
   "source": [
    "fred.head(10)"
   ]
  },
  {
   "cell_type": "code",
   "execution_count": null,
   "metadata": {
    "collapsed": false
   },
   "outputs": [],
   "source": [
    "fred['ice cream']"
   ]
  },
  {
   "cell_type": "code",
   "execution_count": 4,
   "metadata": {
    "collapsed": false
   },
   "outputs": [
    {
     "data": {
      "text/plain": [
       "RangeIndex(start=0, stop=10, step=1)"
      ]
     },
     "execution_count": 4,
     "metadata": {},
     "output_type": "execute_result"
    }
   ],
   "source": [
    "fred[\"ice cream\"].index[:10]"
   ]
  },
  {
   "cell_type": "code",
   "execution_count": 5,
   "metadata": {
    "collapsed": false
   },
   "outputs": [
    {
     "data": {
      "text/plain": [
       "0    2011-09-03\n",
       "1    2011-09-10\n",
       "2    2011-09-17\n",
       "3    2011-09-24\n",
       "4    2011-10-01\n",
       "Name: Week, dtype: object"
      ]
     },
     "execution_count": 5,
     "metadata": {},
     "output_type": "execute_result"
    }
   ],
   "source": [
    "fred[\"Week\"][:5]"
   ]
  },
  {
   "cell_type": "code",
   "execution_count": null,
   "metadata": {
    "collapsed": false
   },
   "outputs": [],
   "source": [
    "fred.Week[0]"
   ]
  },
  {
   "cell_type": "code",
   "execution_count": 6,
   "metadata": {
    "collapsed": false
   },
   "outputs": [],
   "source": [
    "# Several ways to convert to date\n",
    "from datetime import datetime\n",
    "import dateutil.parser as parser"
   ]
  },
  {
   "cell_type": "code",
   "execution_count": 7,
   "metadata": {
    "collapsed": false
   },
   "outputs": [
    {
     "name": "stdout",
     "output_type": "stream",
     "text": [
      "2011-09-03 00:00:00\n"
     ]
    }
   ],
   "source": [
    "print(parser.parse(fred.Week[0]))"
   ]
  },
  {
   "cell_type": "code",
   "execution_count": 8,
   "metadata": {
    "collapsed": false
   },
   "outputs": [
    {
     "data": {
      "text/plain": [
       "datetime.datetime(2011, 9, 3, 0, 0)"
      ]
     },
     "execution_count": 8,
     "metadata": {},
     "output_type": "execute_result"
    }
   ],
   "source": [
    "datetime.strptime(fred.Week[0], '%Y-%m-%d')"
   ]
  },
  {
   "cell_type": "code",
   "execution_count": 9,
   "metadata": {
    "collapsed": true
   },
   "outputs": [
    {
     "data": {
      "text/plain": [
       "[datetime.datetime(2011, 9, 3, 0, 0),\n",
       " datetime.datetime(2011, 9, 10, 0, 0),\n",
       " datetime.datetime(2011, 9, 17, 0, 0),\n",
       " datetime.datetime(2011, 9, 24, 0, 0),\n",
       " datetime.datetime(2011, 10, 1, 0, 0),\n",
       " datetime.datetime(2011, 10, 8, 0, 0),\n",
       " datetime.datetime(2011, 10, 15, 0, 0),\n",
       " datetime.datetime(2011, 10, 22, 0, 0),\n",
       " datetime.datetime(2011, 10, 29, 0, 0),\n",
       " datetime.datetime(2011, 11, 5, 0, 0),\n",
       " datetime.datetime(2011, 11, 12, 0, 0),\n",
       " datetime.datetime(2011, 11, 19, 0, 0),\n",
       " datetime.datetime(2011, 11, 26, 0, 0),\n",
       " datetime.datetime(2011, 12, 3, 0, 0),\n",
       " datetime.datetime(2011, 12, 10, 0, 0),\n",
       " datetime.datetime(2011, 12, 17, 0, 0),\n",
       " datetime.datetime(2011, 12, 24, 0, 0),\n",
       " datetime.datetime(2011, 12, 31, 0, 0),\n",
       " datetime.datetime(2012, 1, 7, 0, 0),\n",
       " datetime.datetime(2012, 1, 14, 0, 0),\n",
       " datetime.datetime(2012, 1, 21, 0, 0),\n",
       " datetime.datetime(2012, 1, 28, 0, 0),\n",
       " datetime.datetime(2012, 2, 4, 0, 0),\n",
       " datetime.datetime(2012, 2, 11, 0, 0),\n",
       " datetime.datetime(2012, 2, 18, 0, 0),\n",
       " datetime.datetime(2012, 2, 25, 0, 0),\n",
       " datetime.datetime(2012, 3, 3, 0, 0),\n",
       " datetime.datetime(2012, 3, 10, 0, 0),\n",
       " datetime.datetime(2012, 3, 17, 0, 0),\n",
       " datetime.datetime(2012, 3, 24, 0, 0),\n",
       " datetime.datetime(2012, 3, 31, 0, 0),\n",
       " datetime.datetime(2012, 4, 7, 0, 0),\n",
       " datetime.datetime(2012, 4, 14, 0, 0),\n",
       " datetime.datetime(2012, 4, 21, 0, 0),\n",
       " datetime.datetime(2012, 4, 28, 0, 0),\n",
       " datetime.datetime(2012, 5, 5, 0, 0),\n",
       " datetime.datetime(2012, 5, 12, 0, 0),\n",
       " datetime.datetime(2012, 5, 19, 0, 0),\n",
       " datetime.datetime(2012, 5, 26, 0, 0),\n",
       " datetime.datetime(2012, 6, 2, 0, 0),\n",
       " datetime.datetime(2012, 6, 9, 0, 0),\n",
       " datetime.datetime(2012, 6, 16, 0, 0),\n",
       " datetime.datetime(2012, 6, 23, 0, 0),\n",
       " datetime.datetime(2012, 6, 30, 0, 0),\n",
       " datetime.datetime(2012, 7, 7, 0, 0),\n",
       " datetime.datetime(2012, 7, 14, 0, 0),\n",
       " datetime.datetime(2012, 7, 21, 0, 0),\n",
       " datetime.datetime(2012, 7, 28, 0, 0),\n",
       " datetime.datetime(2012, 8, 4, 0, 0),\n",
       " datetime.datetime(2012, 8, 11, 0, 0),\n",
       " datetime.datetime(2012, 8, 18, 0, 0),\n",
       " datetime.datetime(2012, 8, 25, 0, 0),\n",
       " datetime.datetime(2012, 9, 1, 0, 0),\n",
       " datetime.datetime(2012, 9, 8, 0, 0),\n",
       " datetime.datetime(2012, 9, 15, 0, 0),\n",
       " datetime.datetime(2012, 9, 22, 0, 0),\n",
       " datetime.datetime(2012, 9, 29, 0, 0),\n",
       " datetime.datetime(2012, 10, 6, 0, 0),\n",
       " datetime.datetime(2012, 10, 13, 0, 0),\n",
       " datetime.datetime(2012, 10, 20, 0, 0),\n",
       " datetime.datetime(2012, 10, 27, 0, 0),\n",
       " datetime.datetime(2012, 11, 3, 0, 0),\n",
       " datetime.datetime(2012, 11, 10, 0, 0),\n",
       " datetime.datetime(2012, 11, 17, 0, 0),\n",
       " datetime.datetime(2012, 11, 24, 0, 0),\n",
       " datetime.datetime(2012, 12, 1, 0, 0),\n",
       " datetime.datetime(2012, 12, 8, 0, 0),\n",
       " datetime.datetime(2012, 12, 15, 0, 0),\n",
       " datetime.datetime(2012, 12, 22, 0, 0),\n",
       " datetime.datetime(2012, 12, 29, 0, 0),\n",
       " datetime.datetime(2013, 1, 5, 0, 0),\n",
       " datetime.datetime(2013, 1, 12, 0, 0),\n",
       " datetime.datetime(2013, 1, 19, 0, 0),\n",
       " datetime.datetime(2013, 1, 26, 0, 0),\n",
       " datetime.datetime(2013, 2, 2, 0, 0),\n",
       " datetime.datetime(2013, 2, 9, 0, 0),\n",
       " datetime.datetime(2013, 2, 16, 0, 0),\n",
       " datetime.datetime(2013, 2, 23, 0, 0),\n",
       " datetime.datetime(2013, 3, 2, 0, 0),\n",
       " datetime.datetime(2013, 3, 9, 0, 0),\n",
       " datetime.datetime(2013, 3, 16, 0, 0),\n",
       " datetime.datetime(2013, 3, 23, 0, 0),\n",
       " datetime.datetime(2013, 3, 30, 0, 0),\n",
       " datetime.datetime(2013, 4, 6, 0, 0),\n",
       " datetime.datetime(2013, 4, 13, 0, 0),\n",
       " datetime.datetime(2013, 4, 20, 0, 0),\n",
       " datetime.datetime(2013, 4, 27, 0, 0),\n",
       " datetime.datetime(2013, 5, 4, 0, 0),\n",
       " datetime.datetime(2013, 5, 11, 0, 0),\n",
       " datetime.datetime(2013, 5, 18, 0, 0),\n",
       " datetime.datetime(2013, 5, 25, 0, 0),\n",
       " datetime.datetime(2013, 6, 1, 0, 0),\n",
       " datetime.datetime(2013, 6, 8, 0, 0),\n",
       " datetime.datetime(2013, 6, 15, 0, 0),\n",
       " datetime.datetime(2013, 6, 22, 0, 0),\n",
       " datetime.datetime(2013, 6, 29, 0, 0),\n",
       " datetime.datetime(2013, 7, 6, 0, 0),\n",
       " datetime.datetime(2013, 7, 13, 0, 0),\n",
       " datetime.datetime(2013, 7, 20, 0, 0),\n",
       " datetime.datetime(2013, 7, 27, 0, 0),\n",
       " datetime.datetime(2013, 8, 3, 0, 0),\n",
       " datetime.datetime(2013, 8, 10, 0, 0),\n",
       " datetime.datetime(2013, 8, 17, 0, 0),\n",
       " datetime.datetime(2013, 8, 24, 0, 0),\n",
       " datetime.datetime(2013, 8, 31, 0, 0),\n",
       " datetime.datetime(2013, 9, 7, 0, 0),\n",
       " datetime.datetime(2013, 9, 14, 0, 0),\n",
       " datetime.datetime(2013, 9, 21, 0, 0),\n",
       " datetime.datetime(2013, 9, 28, 0, 0),\n",
       " datetime.datetime(2013, 10, 5, 0, 0),\n",
       " datetime.datetime(2013, 10, 12, 0, 0),\n",
       " datetime.datetime(2013, 10, 19, 0, 0),\n",
       " datetime.datetime(2013, 10, 26, 0, 0),\n",
       " datetime.datetime(2013, 11, 2, 0, 0),\n",
       " datetime.datetime(2013, 11, 9, 0, 0),\n",
       " datetime.datetime(2013, 11, 16, 0, 0),\n",
       " datetime.datetime(2013, 11, 23, 0, 0),\n",
       " datetime.datetime(2013, 11, 30, 0, 0),\n",
       " datetime.datetime(2013, 12, 7, 0, 0),\n",
       " datetime.datetime(2013, 12, 14, 0, 0),\n",
       " datetime.datetime(2013, 12, 21, 0, 0),\n",
       " datetime.datetime(2013, 12, 28, 0, 0),\n",
       " datetime.datetime(2014, 1, 4, 0, 0),\n",
       " datetime.datetime(2014, 1, 11, 0, 0),\n",
       " datetime.datetime(2014, 1, 18, 0, 0),\n",
       " datetime.datetime(2014, 1, 25, 0, 0),\n",
       " datetime.datetime(2014, 2, 1, 0, 0),\n",
       " datetime.datetime(2014, 2, 8, 0, 0),\n",
       " datetime.datetime(2014, 2, 15, 0, 0),\n",
       " datetime.datetime(2014, 2, 22, 0, 0),\n",
       " datetime.datetime(2014, 3, 1, 0, 0),\n",
       " datetime.datetime(2014, 3, 8, 0, 0),\n",
       " datetime.datetime(2014, 3, 15, 0, 0),\n",
       " datetime.datetime(2014, 3, 22, 0, 0),\n",
       " datetime.datetime(2014, 3, 29, 0, 0),\n",
       " datetime.datetime(2014, 4, 5, 0, 0),\n",
       " datetime.datetime(2014, 4, 12, 0, 0),\n",
       " datetime.datetime(2014, 4, 19, 0, 0),\n",
       " datetime.datetime(2014, 4, 26, 0, 0),\n",
       " datetime.datetime(2014, 5, 3, 0, 0),\n",
       " datetime.datetime(2014, 5, 10, 0, 0),\n",
       " datetime.datetime(2014, 5, 17, 0, 0),\n",
       " datetime.datetime(2014, 5, 24, 0, 0),\n",
       " datetime.datetime(2014, 5, 31, 0, 0),\n",
       " datetime.datetime(2014, 6, 7, 0, 0),\n",
       " datetime.datetime(2014, 6, 14, 0, 0),\n",
       " datetime.datetime(2014, 6, 21, 0, 0),\n",
       " datetime.datetime(2014, 6, 28, 0, 0),\n",
       " datetime.datetime(2014, 7, 5, 0, 0),\n",
       " datetime.datetime(2014, 7, 12, 0, 0),\n",
       " datetime.datetime(2014, 7, 19, 0, 0),\n",
       " datetime.datetime(2014, 7, 26, 0, 0),\n",
       " datetime.datetime(2014, 8, 2, 0, 0),\n",
       " datetime.datetime(2014, 8, 9, 0, 0),\n",
       " datetime.datetime(2014, 8, 16, 0, 0),\n",
       " datetime.datetime(2014, 8, 23, 0, 0),\n",
       " datetime.datetime(2014, 8, 30, 0, 0),\n",
       " datetime.datetime(2014, 9, 6, 0, 0),\n",
       " datetime.datetime(2014, 9, 13, 0, 0),\n",
       " datetime.datetime(2014, 9, 20, 0, 0),\n",
       " datetime.datetime(2014, 9, 27, 0, 0),\n",
       " datetime.datetime(2014, 10, 4, 0, 0),\n",
       " datetime.datetime(2014, 10, 11, 0, 0),\n",
       " datetime.datetime(2014, 10, 18, 0, 0),\n",
       " datetime.datetime(2014, 10, 25, 0, 0),\n",
       " datetime.datetime(2014, 11, 1, 0, 0),\n",
       " datetime.datetime(2014, 11, 8, 0, 0),\n",
       " datetime.datetime(2014, 11, 15, 0, 0),\n",
       " datetime.datetime(2014, 11, 22, 0, 0),\n",
       " datetime.datetime(2014, 11, 29, 0, 0),\n",
       " datetime.datetime(2014, 12, 6, 0, 0),\n",
       " datetime.datetime(2014, 12, 13, 0, 0),\n",
       " datetime.datetime(2014, 12, 20, 0, 0),\n",
       " datetime.datetime(2014, 12, 27, 0, 0),\n",
       " datetime.datetime(2015, 1, 3, 0, 0),\n",
       " datetime.datetime(2015, 1, 10, 0, 0),\n",
       " datetime.datetime(2015, 1, 17, 0, 0),\n",
       " datetime.datetime(2015, 1, 24, 0, 0),\n",
       " datetime.datetime(2015, 1, 31, 0, 0),\n",
       " datetime.datetime(2015, 2, 7, 0, 0),\n",
       " datetime.datetime(2015, 2, 14, 0, 0),\n",
       " datetime.datetime(2015, 2, 21, 0, 0),\n",
       " datetime.datetime(2015, 2, 28, 0, 0),\n",
       " datetime.datetime(2015, 3, 7, 0, 0),\n",
       " datetime.datetime(2015, 3, 14, 0, 0),\n",
       " datetime.datetime(2015, 3, 21, 0, 0),\n",
       " datetime.datetime(2015, 3, 28, 0, 0),\n",
       " datetime.datetime(2015, 4, 4, 0, 0),\n",
       " datetime.datetime(2015, 4, 11, 0, 0),\n",
       " datetime.datetime(2015, 4, 18, 0, 0),\n",
       " datetime.datetime(2015, 4, 25, 0, 0),\n",
       " datetime.datetime(2015, 5, 2, 0, 0),\n",
       " datetime.datetime(2015, 5, 9, 0, 0),\n",
       " datetime.datetime(2015, 5, 16, 0, 0),\n",
       " datetime.datetime(2015, 5, 23, 0, 0),\n",
       " datetime.datetime(2015, 5, 30, 0, 0),\n",
       " datetime.datetime(2015, 6, 6, 0, 0),\n",
       " datetime.datetime(2015, 6, 13, 0, 0),\n",
       " datetime.datetime(2015, 6, 20, 0, 0),\n",
       " datetime.datetime(2015, 6, 27, 0, 0),\n",
       " datetime.datetime(2015, 7, 4, 0, 0),\n",
       " datetime.datetime(2015, 7, 11, 0, 0),\n",
       " datetime.datetime(2015, 7, 18, 0, 0),\n",
       " datetime.datetime(2015, 7, 25, 0, 0),\n",
       " datetime.datetime(2015, 8, 1, 0, 0),\n",
       " datetime.datetime(2015, 8, 8, 0, 0),\n",
       " datetime.datetime(2015, 8, 15, 0, 0),\n",
       " datetime.datetime(2015, 8, 22, 0, 0),\n",
       " datetime.datetime(2015, 8, 29, 0, 0),\n",
       " datetime.datetime(2015, 9, 5, 0, 0),\n",
       " datetime.datetime(2015, 9, 12, 0, 0),\n",
       " datetime.datetime(2015, 9, 19, 0, 0),\n",
       " datetime.datetime(2015, 9, 26, 0, 0),\n",
       " datetime.datetime(2015, 10, 3, 0, 0),\n",
       " datetime.datetime(2015, 10, 10, 0, 0),\n",
       " datetime.datetime(2015, 10, 17, 0, 0),\n",
       " datetime.datetime(2015, 10, 24, 0, 0),\n",
       " datetime.datetime(2015, 10, 31, 0, 0),\n",
       " datetime.datetime(2015, 11, 7, 0, 0),\n",
       " datetime.datetime(2015, 11, 14, 0, 0),\n",
       " datetime.datetime(2015, 11, 21, 0, 0),\n",
       " datetime.datetime(2015, 11, 28, 0, 0),\n",
       " datetime.datetime(2015, 12, 5, 0, 0),\n",
       " datetime.datetime(2015, 12, 12, 0, 0),\n",
       " datetime.datetime(2015, 12, 19, 0, 0),\n",
       " datetime.datetime(2015, 12, 26, 0, 0),\n",
       " datetime.datetime(2016, 1, 2, 0, 0),\n",
       " datetime.datetime(2016, 1, 9, 0, 0),\n",
       " datetime.datetime(2016, 1, 16, 0, 0),\n",
       " datetime.datetime(2016, 1, 23, 0, 0),\n",
       " datetime.datetime(2016, 1, 30, 0, 0),\n",
       " datetime.datetime(2016, 2, 6, 0, 0),\n",
       " datetime.datetime(2016, 2, 13, 0, 0),\n",
       " datetime.datetime(2016, 2, 20, 0, 0),\n",
       " datetime.datetime(2016, 2, 27, 0, 0),\n",
       " datetime.datetime(2016, 3, 5, 0, 0),\n",
       " datetime.datetime(2016, 3, 12, 0, 0),\n",
       " datetime.datetime(2016, 3, 19, 0, 0),\n",
       " datetime.datetime(2016, 3, 26, 0, 0),\n",
       " datetime.datetime(2016, 4, 2, 0, 0),\n",
       " datetime.datetime(2016, 4, 9, 0, 0),\n",
       " datetime.datetime(2016, 4, 16, 0, 0),\n",
       " datetime.datetime(2016, 4, 23, 0, 0),\n",
       " datetime.datetime(2016, 4, 30, 0, 0),\n",
       " datetime.datetime(2016, 5, 7, 0, 0),\n",
       " datetime.datetime(2016, 5, 14, 0, 0),\n",
       " datetime.datetime(2016, 5, 21, 0, 0),\n",
       " datetime.datetime(2016, 5, 28, 0, 0),\n",
       " datetime.datetime(2016, 6, 4, 0, 0),\n",
       " datetime.datetime(2016, 6, 11, 0, 0),\n",
       " datetime.datetime(2016, 6, 18, 0, 0),\n",
       " datetime.datetime(2016, 6, 25, 0, 0),\n",
       " datetime.datetime(2016, 7, 2, 0, 0),\n",
       " datetime.datetime(2016, 7, 9, 0, 0),\n",
       " datetime.datetime(2016, 7, 16, 0, 0),\n",
       " datetime.datetime(2016, 7, 23, 0, 0),\n",
       " datetime.datetime(2016, 7, 30, 0, 0),\n",
       " datetime.datetime(2016, 8, 6, 0, 0),\n",
       " datetime.datetime(2016, 8, 13, 0, 0),\n",
       " datetime.datetime(2016, 8, 20, 0, 0),\n",
       " datetime.datetime(2016, 8, 27, 0, 0)]"
      ]
     },
     "execution_count": 9,
     "metadata": {},
     "output_type": "execute_result"
    }
   ],
   "source": [
    "dates = [datetime.strptime(x, '%Y-%m-%d') for x in fred.Week]\n",
    "dates"
   ]
  },
  {
   "cell_type": "code",
   "execution_count": 10,
   "metadata": {
    "collapsed": false
   },
   "outputs": [
    {
     "data": {
      "text/plain": [
       "DatetimeIndex(['2011-09-03', '2011-09-10', '2011-09-17', '2011-09-24', '2011-10-01', '2011-10-08', '2011-10-15', '2011-10-22', '2011-10-29', '2011-11-05',\n",
       "               ...\n",
       "               '2016-06-25', '2016-07-02', '2016-07-09', '2016-07-16', '2016-07-23', '2016-07-30', '2016-08-06', '2016-08-13', '2016-08-20', '2016-08-27'], dtype='datetime64[ns]', length=261, freq=None)"
      ]
     },
     "execution_count": 10,
     "metadata": {},
     "output_type": "execute_result"
    }
   ],
   "source": [
    "pd.DatetimeIndex(dates)"
   ]
  },
  {
   "cell_type": "code",
   "execution_count": null,
   "metadata": {
    "collapsed": false,
    "scrolled": true
   },
   "outputs": [],
   "source": [
    "# Series in, Series out\n",
    "pd.to_datetime(fred.Week)"
   ]
  },
  {
   "cell_type": "code",
   "execution_count": 11,
   "metadata": {
    "collapsed": false
   },
   "outputs": [
    {
     "data": {
      "text/plain": [
       "DatetimeIndex(['2011-09-03', '2011-09-10', '2011-09-17', '2011-09-24', '2011-10-01', '2011-10-08', '2011-10-15', '2011-10-22', '2011-10-29', '2011-11-05',\n",
       "               ...\n",
       "               '2016-06-25', '2016-07-02', '2016-07-09', '2016-07-16', '2016-07-23', '2016-07-30', '2016-08-06', '2016-08-13', '2016-08-20', '2016-08-27'], dtype='datetime64[ns]', length=261, freq=None)"
      ]
     },
     "execution_count": 11,
     "metadata": {},
     "output_type": "execute_result"
    }
   ],
   "source": [
    "# NumPy array in, DatetimeIndex out\n",
    "pd.to_datetime(fred.Week.values)"
   ]
  },
  {
   "cell_type": "code",
   "execution_count": 12,
   "metadata": {
    "collapsed": true
   },
   "outputs": [
    {
     "data": {
      "text/plain": [
       "0     2011-09-03\n",
       "1     2011-09-10\n",
       "2     2011-09-17\n",
       "3     2011-09-24\n",
       "4     2011-10-01\n",
       "5     2011-10-08\n",
       "6     2011-10-15\n",
       "7     2011-10-22\n",
       "8     2011-10-29\n",
       "9     2011-11-05\n",
       "10    2011-11-12\n",
       "11    2011-11-19\n",
       "12    2011-11-26\n",
       "13    2011-12-03\n",
       "14    2011-12-10\n",
       "15    2011-12-17\n",
       "16    2011-12-24\n",
       "17    2011-12-31\n",
       "18    2012-01-07\n",
       "19    2012-01-14\n",
       "20    2012-01-21\n",
       "21    2012-01-28\n",
       "22    2012-02-04\n",
       "23    2012-02-11\n",
       "24    2012-02-18\n",
       "25    2012-02-25\n",
       "26    2012-03-03\n",
       "27    2012-03-10\n",
       "28    2012-03-17\n",
       "29    2012-03-24\n",
       "         ...    \n",
       "231   2016-02-06\n",
       "232   2016-02-13\n",
       "233   2016-02-20\n",
       "234   2016-02-27\n",
       "235   2016-03-05\n",
       "236   2016-03-12\n",
       "237   2016-03-19\n",
       "238   2016-03-26\n",
       "239   2016-04-02\n",
       "240   2016-04-09\n",
       "241   2016-04-16\n",
       "242   2016-04-23\n",
       "243   2016-04-30\n",
       "244   2016-05-07\n",
       "245   2016-05-14\n",
       "246   2016-05-21\n",
       "247   2016-05-28\n",
       "248   2016-06-04\n",
       "249   2016-06-11\n",
       "250   2016-06-18\n",
       "251   2016-06-25\n",
       "252   2016-07-02\n",
       "253   2016-07-09\n",
       "254   2016-07-16\n",
       "255   2016-07-23\n",
       "256   2016-07-30\n",
       "257   2016-08-06\n",
       "258   2016-08-13\n",
       "259   2016-08-20\n",
       "260   2016-08-27\n",
       "Name: Week, dtype: datetime64[ns]"
      ]
     },
     "execution_count": 12,
     "metadata": {},
     "output_type": "execute_result"
    }
   ],
   "source": [
    "pd.to_datetime(fred.Week, format='%Y-%m-%d')"
   ]
  },
  {
   "cell_type": "code",
   "execution_count": null,
   "metadata": {
    "collapsed": false
   },
   "outputs": [],
   "source": [
    "pd.to_datetime(['96/21/05'], format='%y/%d/%m')"
   ]
  },
  {
   "cell_type": "code",
   "execution_count": null,
   "metadata": {
    "collapsed": false
   },
   "outputs": [],
   "source": [
    "fred.info()"
   ]
  },
  {
   "cell_type": "code",
   "execution_count": null,
   "metadata": {
    "collapsed": false,
    "scrolled": true
   },
   "outputs": [],
   "source": [
    "print(fred.to_string())"
   ]
  },
  {
   "cell_type": "code",
   "execution_count": 3,
   "metadata": {
    "collapsed": false,
    "scrolled": true
   },
   "outputs": [],
   "source": [
    "from IPython.display import HTML"
   ]
  },
  {
   "cell_type": "code",
   "execution_count": null,
   "metadata": {
    "collapsed": true
   },
   "outputs": [],
   "source": [
    "HTML(fred.to_html())"
   ]
  },
  {
   "cell_type": "code",
   "execution_count": 14,
   "metadata": {
    "collapsed": false
   },
   "outputs": [
    {
     "data": {
      "text/plain": [
       "Week          datetime64[ns]\n",
       "ice cream              int64\n",
       "Volleyball             int64\n",
       "tennis                 int64\n",
       "dtype: object"
      ]
     },
     "execution_count": 14,
     "metadata": {},
     "output_type": "execute_result"
    }
   ],
   "source": [
    "fred['Week'] = pd.to_datetime(fred['Week'])\n",
    "fred.dtypes"
   ]
  },
  {
   "cell_type": "code",
   "execution_count": 15,
   "metadata": {
    "collapsed": false
   },
   "outputs": [
    {
     "data": {
      "text/plain": [
       "RangeIndex(start=0, stop=50, step=1)"
      ]
     },
     "execution_count": 15,
     "metadata": {},
     "output_type": "execute_result"
    }
   ],
   "source": [
    "fred.index[:50]"
   ]
  },
  {
   "cell_type": "code",
   "execution_count": 16,
   "metadata": {
    "collapsed": false
   },
   "outputs": [],
   "source": [
    "# Returns new object without inplace=True!\n",
    "fred.set_index('Week', inplace=True)"
   ]
  },
  {
   "cell_type": "code",
   "execution_count": 17,
   "metadata": {
    "collapsed": false
   },
   "outputs": [
    {
     "name": "stdout",
     "output_type": "stream",
     "text": [
      "<class 'pandas.core.frame.DataFrame'>\n",
      "DatetimeIndex: 261 entries, 2011-09-03 to 2016-08-27\n",
      "Data columns (total 3 columns):\n",
      "ice cream     261 non-null int64\n",
      "Volleyball    261 non-null int64\n",
      "tennis        261 non-null int64\n",
      "dtypes: int64(3)\n",
      "memory usage: 8.2 KB\n"
     ]
    }
   ],
   "source": [
    "fred.info()"
   ]
  },
  {
   "cell_type": "code",
   "execution_count": null,
   "metadata": {
    "collapsed": false
   },
   "outputs": [],
   "source": [
    "fred.head()"
   ]
  },
  {
   "cell_type": "code",
   "execution_count": 18,
   "metadata": {
    "collapsed": true
   },
   "outputs": [
    {
     "data": {
      "text/plain": [
       "Week\n",
       "2011-09-03    25\n",
       "2011-09-10    21\n",
       "2011-09-17    20\n",
       "2011-09-24    21\n",
       "2011-10-01    20\n",
       "2011-10-08    20\n",
       "2011-10-15    27\n",
       "2011-10-22    21\n",
       "2011-10-29    19\n",
       "2011-11-05    19\n",
       "2011-11-12    21\n",
       "2011-11-19    22\n",
       "2011-11-26    19\n",
       "2011-12-03    19\n",
       "2011-12-10    21\n",
       "2011-12-17    24\n",
       "2011-12-24    23\n",
       "2011-12-31    21\n",
       "2012-01-07    22\n",
       "2012-01-14    22\n",
       "2012-01-21    22\n",
       "2012-01-28    22\n",
       "2012-02-04    23\n",
       "2012-02-11    22\n",
       "2012-02-18    22\n",
       "2012-02-25    23\n",
       "2012-03-03    23\n",
       "2012-03-10    26\n",
       "2012-03-17    27\n",
       "2012-03-24    26\n",
       "              ..\n",
       "2016-02-06    19\n",
       "2016-02-13    21\n",
       "2016-02-20    22\n",
       "2016-02-27    22\n",
       "2016-03-05    25\n",
       "2016-03-12    27\n",
       "2016-03-19    27\n",
       "2016-03-26    25\n",
       "2016-04-02    26\n",
       "2016-04-09    28\n",
       "2016-04-16    31\n",
       "2016-04-23    29\n",
       "2016-04-30    29\n",
       "2016-05-07    31\n",
       "2016-05-14    32\n",
       "2016-05-21    36\n",
       "2016-05-28    40\n",
       "2016-06-04    38\n",
       "2016-06-11    39\n",
       "2016-06-18    42\n",
       "2016-06-25    43\n",
       "2016-07-02    44\n",
       "2016-07-09    44\n",
       "2016-07-16    53\n",
       "2016-07-23    43\n",
       "2016-07-30    41\n",
       "2016-08-06    36\n",
       "2016-08-13    36\n",
       "2016-08-20    34\n",
       "2016-08-27    33\n",
       "Name: ice cream, dtype: int64"
      ]
     },
     "execution_count": 18,
     "metadata": {},
     "output_type": "execute_result"
    }
   ],
   "source": [
    "fred[\"ice cream\"]"
   ]
  },
  {
   "cell_type": "code",
   "execution_count": 19,
   "metadata": {
    "collapsed": false
   },
   "outputs": [
    {
     "data": {
      "text/plain": [
       "pandas.core.series.Series"
      ]
     },
     "execution_count": 19,
     "metadata": {},
     "output_type": "execute_result"
    }
   ],
   "source": [
    "type(fred[\"ice cream\"])"
   ]
  },
  {
   "cell_type": "code",
   "execution_count": 20,
   "metadata": {
    "collapsed": false
   },
   "outputs": [
    {
     "data": {
      "text/plain": [
       "DatetimeIndex(['2011-09-03', '2011-09-10', '2011-09-17', '2011-09-24', '2011-10-01', '2011-10-08', '2011-10-15', '2011-10-22', '2011-10-29', '2011-11-05',\n",
       "               ...\n",
       "               '2016-06-25', '2016-07-02', '2016-07-09', '2016-07-16', '2016-07-23', '2016-07-30', '2016-08-06', '2016-08-13', '2016-08-20', '2016-08-27'], dtype='datetime64[ns]', name='Week', length=261, freq=None)"
      ]
     },
     "execution_count": 20,
     "metadata": {},
     "output_type": "execute_result"
    }
   ],
   "source": [
    "fred.index"
   ]
  },
  {
   "cell_type": "code",
   "execution_count": 21,
   "metadata": {
    "collapsed": false
   },
   "outputs": [
    {
     "data": {
      "text/plain": [
       "Timestamp('2011-10-08 00:00:00')"
      ]
     },
     "execution_count": 21,
     "metadata": {},
     "output_type": "execute_result"
    }
   ],
   "source": [
    "fred.index[5]"
   ]
  },
  {
   "cell_type": "code",
   "execution_count": 22,
   "metadata": {
    "collapsed": false
   },
   "outputs": [
    {
     "data": {
      "text/plain": [
       "Timestamp('2011-10-08 00:00:00')"
      ]
     },
     "execution_count": 22,
     "metadata": {},
     "output_type": "execute_result"
    }
   ],
   "source": [
    "stamp = fred.index[5]\n",
    "stamp"
   ]
  },
  {
   "cell_type": "code",
   "execution_count": 23,
   "metadata": {
    "collapsed": false
   },
   "outputs": [
    {
     "data": {
      "text/plain": [
       "(2011, 10, 8)"
      ]
     },
     "execution_count": 23,
     "metadata": {},
     "output_type": "execute_result"
    }
   ],
   "source": [
    "stamp.year, stamp.month, stamp.day"
   ]
  },
  {
   "cell_type": "code",
   "execution_count": 24,
   "metadata": {
    "collapsed": false
   },
   "outputs": [
    {
     "data": {
      "text/plain": [
       "5"
      ]
     },
     "execution_count": 24,
     "metadata": {},
     "output_type": "execute_result"
    }
   ],
   "source": [
    "stamp.weekday()"
   ]
  },
  {
   "cell_type": "code",
   "execution_count": 25,
   "metadata": {
    "collapsed": false
   },
   "outputs": [
    {
     "data": {
      "text/plain": [
       "array([2011, 2011, 2011, 2011, 2011, 2011, 2011, 2011, 2011, 2011, 2011,\n",
       "       2011, 2011, 2011, 2011, 2011, 2011, 2011, 2012, 2012, 2012, 2012,\n",
       "       2012, 2012, 2012, 2012, 2012, 2012, 2012, 2012, 2012, 2012, 2012,\n",
       "       2012, 2012, 2012, 2012, 2012, 2012, 2012, 2012, 2012, 2012, 2012,\n",
       "       2012, 2012, 2012, 2012, 2012, 2012, 2012, 2012, 2012, 2012, 2012,\n",
       "       2012, 2012, 2012, 2012, 2012, 2012, 2012, 2012, 2012, 2012, 2012,\n",
       "       2012, 2012, 2012, 2012, 2013, 2013, 2013, 2013, 2013, 2013, 2013,\n",
       "       2013, 2013, 2013, 2013, 2013, 2013, 2013, 2013, 2013, 2013, 2013,\n",
       "       2013, 2013, 2013, 2013, 2013, 2013, 2013, 2013, 2013, 2013, 2013,\n",
       "       2013, 2013, 2013, 2013, 2013, 2013, 2013, 2013, 2013, 2013, 2013,\n",
       "       2013, 2013, 2013, 2013, 2013, 2013, 2013, 2013, 2013, 2013, 2013,\n",
       "       2013, 2014, 2014, 2014, 2014, 2014, 2014, 2014, 2014, 2014, 2014,\n",
       "       2014, 2014, 2014, 2014, 2014, 2014, 2014, 2014, 2014, 2014, 2014,\n",
       "       2014, 2014, 2014, 2014, 2014, 2014, 2014, 2014, 2014, 2014, 2014,\n",
       "       2014, 2014, 2014, 2014, 2014, 2014, 2014, 2014, 2014, 2014, 2014,\n",
       "       2014, 2014, 2014, 2014, 2014, 2014, 2014, 2014, 2014, 2015, 2015,\n",
       "       2015, 2015, 2015, 2015, 2015, 2015, 2015, 2015, 2015, 2015, 2015,\n",
       "       2015, 2015, 2015, 2015, 2015, 2015, 2015, 2015, 2015, 2015, 2015,\n",
       "       2015, 2015, 2015, 2015, 2015, 2015, 2015, 2015, 2015, 2015, 2015,\n",
       "       2015, 2015, 2015, 2015, 2015, 2015, 2015, 2015, 2015, 2015, 2015,\n",
       "       2015, 2015, 2015, 2015, 2015, 2015, 2016, 2016, 2016, 2016, 2016,\n",
       "       2016, 2016, 2016, 2016, 2016, 2016, 2016, 2016, 2016, 2016, 2016,\n",
       "       2016, 2016, 2016, 2016, 2016, 2016, 2016, 2016, 2016, 2016, 2016,\n",
       "       2016, 2016, 2016, 2016, 2016, 2016, 2016, 2016], dtype=int32)"
      ]
     },
     "execution_count": 25,
     "metadata": {},
     "output_type": "execute_result"
    }
   ],
   "source": [
    "fred.index.year"
   ]
  },
  {
   "cell_type": "code",
   "execution_count": 26,
   "metadata": {
    "collapsed": false
   },
   "outputs": [
    {
     "data": {
      "text/plain": [
       "array([5, 5, 5, 5, 5, 5, 5, 5, 5, 5, 5, 5, 5, 5, 5, 5, 5, 5, 5, 5, 5, 5, 5,\n",
       "       5, 5, 5, 5, 5, 5, 5, 5, 5, 5, 5, 5, 5, 5, 5, 5, 5, 5, 5, 5, 5, 5, 5,\n",
       "       5, 5, 5, 5, 5, 5, 5, 5, 5, 5, 5, 5, 5, 5, 5, 5, 5, 5, 5, 5, 5, 5, 5,\n",
       "       5, 5, 5, 5, 5, 5, 5, 5, 5, 5, 5, 5, 5, 5, 5, 5, 5, 5, 5, 5, 5, 5, 5,\n",
       "       5, 5, 5, 5, 5, 5, 5, 5, 5, 5, 5, 5, 5, 5, 5, 5, 5, 5, 5, 5, 5, 5, 5,\n",
       "       5, 5, 5, 5, 5, 5, 5, 5, 5, 5, 5, 5, 5, 5, 5, 5, 5, 5, 5, 5, 5, 5, 5,\n",
       "       5, 5, 5, 5, 5, 5, 5, 5, 5, 5, 5, 5, 5, 5, 5, 5, 5, 5, 5, 5, 5, 5, 5,\n",
       "       5, 5, 5, 5, 5, 5, 5, 5, 5, 5, 5, 5, 5, 5, 5, 5, 5, 5, 5, 5, 5, 5, 5,\n",
       "       5, 5, 5, 5, 5, 5, 5, 5, 5, 5, 5, 5, 5, 5, 5, 5, 5, 5, 5, 5, 5, 5, 5,\n",
       "       5, 5, 5, 5, 5, 5, 5, 5, 5, 5, 5, 5, 5, 5, 5, 5, 5, 5, 5, 5, 5, 5, 5,\n",
       "       5, 5, 5, 5, 5, 5, 5, 5, 5, 5, 5, 5, 5, 5, 5, 5, 5, 5, 5, 5, 5, 5, 5,\n",
       "       5, 5, 5, 5, 5, 5, 5, 5], dtype=int32)"
      ]
     },
     "execution_count": 26,
     "metadata": {},
     "output_type": "execute_result"
    }
   ],
   "source": [
    "fred.index.weekday"
   ]
  },
  {
   "cell_type": "code",
   "execution_count": null,
   "metadata": {
    "collapsed": false
   },
   "outputs": [],
   "source": [
    "fred.info()"
   ]
  },
  {
   "cell_type": "code",
   "execution_count": 4,
   "metadata": {
    "collapsed": false
   },
   "outputs": [],
   "source": [
    "%matplotlib inline\n",
    "import matplotlib.pylab as plt"
   ]
  },
  {
   "cell_type": "code",
   "execution_count": null,
   "metadata": {
    "collapsed": false
   },
   "outputs": [],
   "source": [
    "fred[\"ice cream\"].plot()"
   ]
  },
  {
   "cell_type": "code",
   "execution_count": null,
   "metadata": {
    "collapsed": false
   },
   "outputs": [],
   "source": [
    "fred.plot()"
   ]
  },
  {
   "cell_type": "markdown",
   "metadata": {},
   "source": [
    "Typically, you'll try to format your data as you read it in. Here we can do all that date and index stuff in one line."
   ]
  },
  {
   "cell_type": "code",
   "execution_count": 33,
   "metadata": {
    "collapsed": false
   },
   "outputs": [
    {
     "name": "stdout",
     "output_type": "stream",
     "text": [
      "<class 'pandas.core.frame.DataFrame'>\n",
      "DatetimeIndex: 261 entries, 2011-09-03 to 2016-08-27\n",
      "Data columns (total 3 columns):\n",
      "ice cream     261 non-null int64\n",
      "Volleyball    261 non-null int64\n",
      "tennis        261 non-null int64\n",
      "dtypes: int64(3)\n",
      "memory usage: 8.2 KB\n"
     ]
    }
   ],
   "source": [
    "fred = pd.read_csv('multiTimeline.csv',index_col=0,parse_dates=[0])\n",
    "fred.info()"
   ]
  },
  {
   "cell_type": "markdown",
   "metadata": {},
   "source": [
    "## Merging data frames\n",
    "\n",
    "We often want to combine dataframes by index, joining columns together on the same index."
   ]
  },
  {
   "cell_type": "code",
   "execution_count": 34,
   "metadata": {
    "collapsed": false
   },
   "outputs": [
    {
     "name": "stdout",
     "output_type": "stream",
     "text": [
      "Week,full moon\r\n",
      "2011-09-03,26\r\n",
      "2011-09-10,50\r\n",
      "2011-09-17,14\r\n",
      "2011-09-24,17\r\n",
      "2011-10-01,21\r\n",
      "2011-10-08,55\r\n",
      "2011-10-15,13\r\n",
      "2011-10-22,16\r\n",
      "2011-10-29,17\r\n"
     ]
    }
   ],
   "source": [
    "!head full_moon.csv"
   ]
  },
  {
   "cell_type": "code",
   "execution_count": 35,
   "metadata": {
    "collapsed": false
   },
   "outputs": [
    {
     "name": "stdout",
     "output_type": "stream",
     "text": [
      "<class 'pandas.core.frame.DataFrame'>\n",
      "DatetimeIndex: 261 entries, 2011-09-03 to 2016-08-27\n",
      "Data columns (total 1 columns):\n",
      "full moon    261 non-null int64\n",
      "dtypes: int64(1)\n",
      "memory usage: 4.1 KB\n"
     ]
    }
   ],
   "source": [
    "moon = pd.read_csv('full_moon.csv',index_col=0,parse_dates=[0])\n",
    "moon.info()"
   ]
  },
  {
   "cell_type": "markdown",
   "metadata": {},
   "source": [
    "Below, the merge `how` can be:\n",
    "\n",
    "  * left: use only keys from left frame (SQL: left outer join)\n",
    "  * right: use only keys from right frame (SQL: right outer join)\n",
    "  * outer: use union of keys from both frames (SQL: full outer join)\n",
    "  * inner: use intersection of keys from both frames (SQL: inner join)"
   ]
  },
  {
   "cell_type": "code",
   "execution_count": 36,
   "metadata": {
    "collapsed": true
   },
   "outputs": [
    {
     "data": {
      "text/html": [
       "<div>\n",
       "<table border=\"1\" class=\"dataframe\">\n",
       "  <thead>\n",
       "    <tr style=\"text-align: right;\">\n",
       "      <th></th>\n",
       "      <th>ice cream</th>\n",
       "      <th>Volleyball</th>\n",
       "      <th>tennis</th>\n",
       "      <th>full moon</th>\n",
       "    </tr>\n",
       "    <tr>\n",
       "      <th>Week</th>\n",
       "      <th></th>\n",
       "      <th></th>\n",
       "      <th></th>\n",
       "      <th></th>\n",
       "    </tr>\n",
       "  </thead>\n",
       "  <tbody>\n",
       "    <tr>\n",
       "      <th>2011-09-03</th>\n",
       "      <td>25</td>\n",
       "      <td>18</td>\n",
       "      <td>83</td>\n",
       "      <td>26</td>\n",
       "    </tr>\n",
       "    <tr>\n",
       "      <th>2011-09-10</th>\n",
       "      <td>21</td>\n",
       "      <td>18</td>\n",
       "      <td>58</td>\n",
       "      <td>50</td>\n",
       "    </tr>\n",
       "    <tr>\n",
       "      <th>2011-09-17</th>\n",
       "      <td>20</td>\n",
       "      <td>18</td>\n",
       "      <td>25</td>\n",
       "      <td>14</td>\n",
       "    </tr>\n",
       "    <tr>\n",
       "      <th>2011-09-24</th>\n",
       "      <td>21</td>\n",
       "      <td>18</td>\n",
       "      <td>24</td>\n",
       "      <td>17</td>\n",
       "    </tr>\n",
       "    <tr>\n",
       "      <th>2011-10-01</th>\n",
       "      <td>20</td>\n",
       "      <td>18</td>\n",
       "      <td>24</td>\n",
       "      <td>21</td>\n",
       "    </tr>\n",
       "    <tr>\n",
       "      <th>2011-10-08</th>\n",
       "      <td>20</td>\n",
       "      <td>18</td>\n",
       "      <td>23</td>\n",
       "      <td>55</td>\n",
       "    </tr>\n",
       "    <tr>\n",
       "      <th>2011-10-15</th>\n",
       "      <td>27</td>\n",
       "      <td>19</td>\n",
       "      <td>22</td>\n",
       "      <td>13</td>\n",
       "    </tr>\n",
       "    <tr>\n",
       "      <th>2011-10-22</th>\n",
       "      <td>21</td>\n",
       "      <td>21</td>\n",
       "      <td>21</td>\n",
       "      <td>16</td>\n",
       "    </tr>\n",
       "    <tr>\n",
       "      <th>2011-10-29</th>\n",
       "      <td>19</td>\n",
       "      <td>22</td>\n",
       "      <td>20</td>\n",
       "      <td>17</td>\n",
       "    </tr>\n",
       "    <tr>\n",
       "      <th>2011-11-05</th>\n",
       "      <td>19</td>\n",
       "      <td>22</td>\n",
       "      <td>21</td>\n",
       "      <td>56</td>\n",
       "    </tr>\n",
       "    <tr>\n",
       "      <th>2011-11-12</th>\n",
       "      <td>21</td>\n",
       "      <td>20</td>\n",
       "      <td>20</td>\n",
       "      <td>16</td>\n",
       "    </tr>\n",
       "    <tr>\n",
       "      <th>2011-11-19</th>\n",
       "      <td>22</td>\n",
       "      <td>15</td>\n",
       "      <td>22</td>\n",
       "      <td>12</td>\n",
       "    </tr>\n",
       "    <tr>\n",
       "      <th>2011-11-26</th>\n",
       "      <td>19</td>\n",
       "      <td>14</td>\n",
       "      <td>21</td>\n",
       "      <td>15</td>\n",
       "    </tr>\n",
       "    <tr>\n",
       "      <th>2011-12-03</th>\n",
       "      <td>19</td>\n",
       "      <td>12</td>\n",
       "      <td>19</td>\n",
       "      <td>39</td>\n",
       "    </tr>\n",
       "    <tr>\n",
       "      <th>2011-12-10</th>\n",
       "      <td>21</td>\n",
       "      <td>11</td>\n",
       "      <td>19</td>\n",
       "      <td>21</td>\n",
       "    </tr>\n",
       "    <tr>\n",
       "      <th>2011-12-17</th>\n",
       "      <td>24</td>\n",
       "      <td>8</td>\n",
       "      <td>18</td>\n",
       "      <td>12</td>\n",
       "    </tr>\n",
       "    <tr>\n",
       "      <th>2011-12-24</th>\n",
       "      <td>23</td>\n",
       "      <td>7</td>\n",
       "      <td>19</td>\n",
       "      <td>14</td>\n",
       "    </tr>\n",
       "    <tr>\n",
       "      <th>2011-12-31</th>\n",
       "      <td>21</td>\n",
       "      <td>10</td>\n",
       "      <td>21</td>\n",
       "      <td>27</td>\n",
       "    </tr>\n",
       "    <tr>\n",
       "      <th>2012-01-07</th>\n",
       "      <td>22</td>\n",
       "      <td>12</td>\n",
       "      <td>22</td>\n",
       "      <td>48</td>\n",
       "    </tr>\n",
       "    <tr>\n",
       "      <th>2012-01-14</th>\n",
       "      <td>22</td>\n",
       "      <td>11</td>\n",
       "      <td>28</td>\n",
       "      <td>14</td>\n",
       "    </tr>\n",
       "    <tr>\n",
       "      <th>2012-01-21</th>\n",
       "      <td>22</td>\n",
       "      <td>12</td>\n",
       "      <td>33</td>\n",
       "      <td>16</td>\n",
       "    </tr>\n",
       "    <tr>\n",
       "      <th>2012-01-28</th>\n",
       "      <td>22</td>\n",
       "      <td>11</td>\n",
       "      <td>29</td>\n",
       "      <td>19</td>\n",
       "    </tr>\n",
       "    <tr>\n",
       "      <th>2012-02-04</th>\n",
       "      <td>23</td>\n",
       "      <td>11</td>\n",
       "      <td>23</td>\n",
       "      <td>47</td>\n",
       "    </tr>\n",
       "    <tr>\n",
       "      <th>2012-02-11</th>\n",
       "      <td>22</td>\n",
       "      <td>11</td>\n",
       "      <td>23</td>\n",
       "      <td>13</td>\n",
       "    </tr>\n",
       "    <tr>\n",
       "      <th>2012-02-18</th>\n",
       "      <td>22</td>\n",
       "      <td>11</td>\n",
       "      <td>25</td>\n",
       "      <td>15</td>\n",
       "    </tr>\n",
       "    <tr>\n",
       "      <th>2012-02-25</th>\n",
       "      <td>23</td>\n",
       "      <td>12</td>\n",
       "      <td>26</td>\n",
       "      <td>16</td>\n",
       "    </tr>\n",
       "    <tr>\n",
       "      <th>2012-03-03</th>\n",
       "      <td>23</td>\n",
       "      <td>12</td>\n",
       "      <td>27</td>\n",
       "      <td>53</td>\n",
       "    </tr>\n",
       "    <tr>\n",
       "      <th>2012-03-10</th>\n",
       "      <td>26</td>\n",
       "      <td>11</td>\n",
       "      <td>32</td>\n",
       "      <td>14</td>\n",
       "    </tr>\n",
       "    <tr>\n",
       "      <th>2012-03-17</th>\n",
       "      <td>27</td>\n",
       "      <td>11</td>\n",
       "      <td>32</td>\n",
       "      <td>14</td>\n",
       "    </tr>\n",
       "    <tr>\n",
       "      <th>2012-03-24</th>\n",
       "      <td>26</td>\n",
       "      <td>13</td>\n",
       "      <td>32</td>\n",
       "      <td>16</td>\n",
       "    </tr>\n",
       "    <tr>\n",
       "      <th>...</th>\n",
       "      <td>...</td>\n",
       "      <td>...</td>\n",
       "      <td>...</td>\n",
       "      <td>...</td>\n",
       "    </tr>\n",
       "    <tr>\n",
       "      <th>2016-02-06</th>\n",
       "      <td>19</td>\n",
       "      <td>12</td>\n",
       "      <td>20</td>\n",
       "      <td>17</td>\n",
       "    </tr>\n",
       "    <tr>\n",
       "      <th>2016-02-13</th>\n",
       "      <td>21</td>\n",
       "      <td>12</td>\n",
       "      <td>22</td>\n",
       "      <td>26</td>\n",
       "    </tr>\n",
       "    <tr>\n",
       "      <th>2016-02-20</th>\n",
       "      <td>22</td>\n",
       "      <td>12</td>\n",
       "      <td>23</td>\n",
       "      <td>58</td>\n",
       "    </tr>\n",
       "    <tr>\n",
       "      <th>2016-02-27</th>\n",
       "      <td>22</td>\n",
       "      <td>13</td>\n",
       "      <td>22</td>\n",
       "      <td>15</td>\n",
       "    </tr>\n",
       "    <tr>\n",
       "      <th>2016-03-05</th>\n",
       "      <td>25</td>\n",
       "      <td>13</td>\n",
       "      <td>26</td>\n",
       "      <td>19</td>\n",
       "    </tr>\n",
       "    <tr>\n",
       "      <th>2016-03-12</th>\n",
       "      <td>27</td>\n",
       "      <td>12</td>\n",
       "      <td>28</td>\n",
       "      <td>20</td>\n",
       "    </tr>\n",
       "    <tr>\n",
       "      <th>2016-03-19</th>\n",
       "      <td>27</td>\n",
       "      <td>12</td>\n",
       "      <td>27</td>\n",
       "      <td>66</td>\n",
       "    </tr>\n",
       "    <tr>\n",
       "      <th>2016-03-26</th>\n",
       "      <td>25</td>\n",
       "      <td>14</td>\n",
       "      <td>27</td>\n",
       "      <td>17</td>\n",
       "    </tr>\n",
       "    <tr>\n",
       "      <th>2016-04-02</th>\n",
       "      <td>26</td>\n",
       "      <td>13</td>\n",
       "      <td>24</td>\n",
       "      <td>18</td>\n",
       "    </tr>\n",
       "    <tr>\n",
       "      <th>2016-04-09</th>\n",
       "      <td>28</td>\n",
       "      <td>13</td>\n",
       "      <td>26</td>\n",
       "      <td>20</td>\n",
       "    </tr>\n",
       "    <tr>\n",
       "      <th>2016-04-16</th>\n",
       "      <td>31</td>\n",
       "      <td>13</td>\n",
       "      <td>26</td>\n",
       "      <td>68</td>\n",
       "    </tr>\n",
       "    <tr>\n",
       "      <th>2016-04-23</th>\n",
       "      <td>29</td>\n",
       "      <td>13</td>\n",
       "      <td>24</td>\n",
       "      <td>20</td>\n",
       "    </tr>\n",
       "    <tr>\n",
       "      <th>2016-04-30</th>\n",
       "      <td>29</td>\n",
       "      <td>12</td>\n",
       "      <td>24</td>\n",
       "      <td>18</td>\n",
       "    </tr>\n",
       "    <tr>\n",
       "      <th>2016-05-07</th>\n",
       "      <td>31</td>\n",
       "      <td>13</td>\n",
       "      <td>26</td>\n",
       "      <td>64</td>\n",
       "    </tr>\n",
       "    <tr>\n",
       "      <th>2016-05-14</th>\n",
       "      <td>32</td>\n",
       "      <td>12</td>\n",
       "      <td>25</td>\n",
       "      <td>47</td>\n",
       "    </tr>\n",
       "    <tr>\n",
       "      <th>2016-05-21</th>\n",
       "      <td>36</td>\n",
       "      <td>12</td>\n",
       "      <td>29</td>\n",
       "      <td>33</td>\n",
       "    </tr>\n",
       "    <tr>\n",
       "      <th>2016-05-28</th>\n",
       "      <td>40</td>\n",
       "      <td>12</td>\n",
       "      <td>31</td>\n",
       "      <td>16</td>\n",
       "    </tr>\n",
       "    <tr>\n",
       "      <th>2016-06-04</th>\n",
       "      <td>38</td>\n",
       "      <td>11</td>\n",
       "      <td>28</td>\n",
       "      <td>18</td>\n",
       "    </tr>\n",
       "    <tr>\n",
       "      <th>2016-06-11</th>\n",
       "      <td>39</td>\n",
       "      <td>11</td>\n",
       "      <td>24</td>\n",
       "      <td>33</td>\n",
       "    </tr>\n",
       "    <tr>\n",
       "      <th>2016-06-18</th>\n",
       "      <td>42</td>\n",
       "      <td>12</td>\n",
       "      <td>23</td>\n",
       "      <td>83</td>\n",
       "    </tr>\n",
       "    <tr>\n",
       "      <th>2016-06-25</th>\n",
       "      <td>43</td>\n",
       "      <td>12</td>\n",
       "      <td>34</td>\n",
       "      <td>14</td>\n",
       "    </tr>\n",
       "    <tr>\n",
       "      <th>2016-07-02</th>\n",
       "      <td>44</td>\n",
       "      <td>11</td>\n",
       "      <td>40</td>\n",
       "      <td>18</td>\n",
       "    </tr>\n",
       "    <tr>\n",
       "      <th>2016-07-09</th>\n",
       "      <td>44</td>\n",
       "      <td>12</td>\n",
       "      <td>29</td>\n",
       "      <td>25</td>\n",
       "    </tr>\n",
       "    <tr>\n",
       "      <th>2016-07-16</th>\n",
       "      <td>53</td>\n",
       "      <td>12</td>\n",
       "      <td>24</td>\n",
       "      <td>87</td>\n",
       "    </tr>\n",
       "    <tr>\n",
       "      <th>2016-07-23</th>\n",
       "      <td>43</td>\n",
       "      <td>11</td>\n",
       "      <td>25</td>\n",
       "      <td>16</td>\n",
       "    </tr>\n",
       "    <tr>\n",
       "      <th>2016-07-30</th>\n",
       "      <td>41</td>\n",
       "      <td>18</td>\n",
       "      <td>28</td>\n",
       "      <td>19</td>\n",
       "    </tr>\n",
       "    <tr>\n",
       "      <th>2016-08-06</th>\n",
       "      <td>36</td>\n",
       "      <td>60</td>\n",
       "      <td>52</td>\n",
       "      <td>23</td>\n",
       "    </tr>\n",
       "    <tr>\n",
       "      <th>2016-08-13</th>\n",
       "      <td>36</td>\n",
       "      <td>64</td>\n",
       "      <td>37</td>\n",
       "      <td>87</td>\n",
       "    </tr>\n",
       "    <tr>\n",
       "      <th>2016-08-20</th>\n",
       "      <td>34</td>\n",
       "      <td>30</td>\n",
       "      <td>29</td>\n",
       "      <td>19</td>\n",
       "    </tr>\n",
       "    <tr>\n",
       "      <th>2016-08-27</th>\n",
       "      <td>33</td>\n",
       "      <td>24</td>\n",
       "      <td>45</td>\n",
       "      <td>16</td>\n",
       "    </tr>\n",
       "  </tbody>\n",
       "</table>\n",
       "<p>261 rows × 4 columns</p>\n",
       "</div>"
      ],
      "text/plain": [
       "            ice cream  Volleyball  tennis  full moon\n",
       "Week                                                \n",
       "2011-09-03         25          18      83         26\n",
       "2011-09-10         21          18      58         50\n",
       "2011-09-17         20          18      25         14\n",
       "2011-09-24         21          18      24         17\n",
       "2011-10-01         20          18      24         21\n",
       "2011-10-08         20          18      23         55\n",
       "2011-10-15         27          19      22         13\n",
       "2011-10-22         21          21      21         16\n",
       "2011-10-29         19          22      20         17\n",
       "2011-11-05         19          22      21         56\n",
       "2011-11-12         21          20      20         16\n",
       "2011-11-19         22          15      22         12\n",
       "2011-11-26         19          14      21         15\n",
       "2011-12-03         19          12      19         39\n",
       "2011-12-10         21          11      19         21\n",
       "2011-12-17         24           8      18         12\n",
       "2011-12-24         23           7      19         14\n",
       "2011-12-31         21          10      21         27\n",
       "2012-01-07         22          12      22         48\n",
       "2012-01-14         22          11      28         14\n",
       "2012-01-21         22          12      33         16\n",
       "2012-01-28         22          11      29         19\n",
       "2012-02-04         23          11      23         47\n",
       "2012-02-11         22          11      23         13\n",
       "2012-02-18         22          11      25         15\n",
       "2012-02-25         23          12      26         16\n",
       "2012-03-03         23          12      27         53\n",
       "2012-03-10         26          11      32         14\n",
       "2012-03-17         27          11      32         14\n",
       "2012-03-24         26          13      32         16\n",
       "...               ...         ...     ...        ...\n",
       "2016-02-06         19          12      20         17\n",
       "2016-02-13         21          12      22         26\n",
       "2016-02-20         22          12      23         58\n",
       "2016-02-27         22          13      22         15\n",
       "2016-03-05         25          13      26         19\n",
       "2016-03-12         27          12      28         20\n",
       "2016-03-19         27          12      27         66\n",
       "2016-03-26         25          14      27         17\n",
       "2016-04-02         26          13      24         18\n",
       "2016-04-09         28          13      26         20\n",
       "2016-04-16         31          13      26         68\n",
       "2016-04-23         29          13      24         20\n",
       "2016-04-30         29          12      24         18\n",
       "2016-05-07         31          13      26         64\n",
       "2016-05-14         32          12      25         47\n",
       "2016-05-21         36          12      29         33\n",
       "2016-05-28         40          12      31         16\n",
       "2016-06-04         38          11      28         18\n",
       "2016-06-11         39          11      24         33\n",
       "2016-06-18         42          12      23         83\n",
       "2016-06-25         43          12      34         14\n",
       "2016-07-02         44          11      40         18\n",
       "2016-07-09         44          12      29         25\n",
       "2016-07-16         53          12      24         87\n",
       "2016-07-23         43          11      25         16\n",
       "2016-07-30         41          18      28         19\n",
       "2016-08-06         36          60      52         23\n",
       "2016-08-13         36          64      37         87\n",
       "2016-08-20         34          30      29         19\n",
       "2016-08-27         33          24      45         16\n",
       "\n",
       "[261 rows x 4 columns]"
      ]
     },
     "execution_count": 36,
     "metadata": {},
     "output_type": "execute_result"
    }
   ],
   "source": [
    "df = fred.merge(moon,left_index=True, right_index=True, how = 'right')\n",
    "df"
   ]
  },
  {
   "cell_type": "markdown",
   "metadata": {},
   "source": [
    "Let's save that for later:"
   ]
  },
  {
   "cell_type": "code",
   "execution_count": 8,
   "metadata": {
    "collapsed": true
   },
   "outputs": [],
   "source": [
    "df.to_csv(\"merged_data.csv\")"
   ]
  },
  {
   "cell_type": "code",
   "execution_count": 29,
   "metadata": {
    "collapsed": false
   },
   "outputs": [
    {
     "name": "stdout",
     "output_type": "stream",
     "text": [
      "Week,ice cream,Volleyball,tennis,full moon\r\n",
      "2011-09-03,25,18,83,26\r\n",
      "2011-09-10,21,18,58,50\r\n",
      "2011-09-17,20,18,25,14\r\n",
      "2011-09-24,21,18,24,17\r\n",
      "2011-10-01,20,18,24,21\r\n",
      "2011-10-08,20,18,23,55\r\n",
      "2011-10-15,27,19,22,13\r\n",
      "2011-10-22,21,21,21,16\r\n",
      "2011-10-29,19,22,20,17\r\n"
     ]
    }
   ],
   "source": [
    "!head merged_data.csv"
   ]
  },
  {
   "cell_type": "code",
   "execution_count": null,
   "metadata": {
    "collapsed": true
   },
   "outputs": [],
   "source": [
    "df.to_"
   ]
  },
  {
   "cell_type": "code",
   "execution_count": 30,
   "metadata": {
    "collapsed": false,
    "scrolled": true
   },
   "outputs": [
    {
     "name": "stdout",
     "output_type": "stream",
     "text": [
      "\\begin{tabular}{lrrrr}\n",
      "\\toprule\n",
      "{} &  ice cream &  Volleyball &  tennis &  full moon \\\\\n",
      "Week       &            &             &         &            \\\\\n",
      "\\midrule\n",
      "2011-09-03 &         25 &          18 &      83 &         26 \\\\\n",
      "2011-09-10 &         21 &          18 &      58 &         50 \\\\\n",
      "2011-09-17 &         20 &          18 &      25 &         14 \\\\\n",
      "2011-09-24 &         21 &          18 &      24 &         17 \\\\\n",
      "2011-10-01 &         20 &          18 &      24 &         21 \\\\\n",
      "2011-10-08 &         20 &          18 &      23 &         55 \\\\\n",
      "2011-10-15 &         27 &          19 &      22 &         13 \\\\\n",
      "2011-10-22 &         21 &          21 &      21 &         16 \\\\\n",
      "2011-10-29 &         19 &          22 &      20 &         17 \\\\\n",
      "2011-11-05 &         19 &          22 &      21 &         56 \\\\\n",
      "2011-11-12 &         21 &          20 &      20 &         16 \\\\\n",
      "2011-11-19 &         22 &          15 &      22 &         12 \\\\\n",
      "2011-11-26 &         19 &          14 &      21 &         15 \\\\\n",
      "2011-12-03 &         19 &          12 &      19 &         39 \\\\\n",
      "2011-12-10 &         21 &          11 &      19 &         21 \\\\\n",
      "2011-12-17 &         24 &           8 &      18 &         12 \\\\\n",
      "2011-12-24 &         23 &           7 &      19 &         14 \\\\\n",
      "2011-12-31 &         21 &          10 &      21 &         27 \\\\\n",
      "2012-01-07 &         22 &          12 &      22 &         48 \\\\\n",
      "2012-01-14 &         22 &          11 &      28 &         14 \\\\\n",
      "2012-01-21 &         22 &          12 &      33 &         16 \\\\\n",
      "2012-01-28 &         22 &          11 &      29 &         19 \\\\\n",
      "2012-02-04 &         23 &          11 &      23 &         47 \\\\\n",
      "2012-02-11 &         22 &          11 &      23 &         13 \\\\\n",
      "2012-02-18 &         22 &          11 &      25 &         15 \\\\\n",
      "2012-02-25 &         23 &          12 &      26 &         16 \\\\\n",
      "2012-03-03 &         23 &          12 &      27 &         53 \\\\\n",
      "2012-03-10 &         26 &          11 &      32 &         14 \\\\\n",
      "2012-03-17 &         27 &          11 &      32 &         14 \\\\\n",
      "2012-03-24 &         26 &          13 &      32 &         16 \\\\\n",
      "2012-03-31 &         28 &          12 &      27 &         50 \\\\\n",
      "2012-04-07 &         27 &          14 &      26 &         19 \\\\\n",
      "2012-04-14 &         28 &          13 &      28 &         14 \\\\\n",
      "2012-04-21 &         28 &          12 &      28 &         16 \\\\\n",
      "2012-04-28 &         29 &          12 &      28 &         53 \\\\\n",
      "2012-05-05 &         32 &          11 &      29 &         35 \\\\\n",
      "2012-05-12 &         33 &          11 &      32 &         13 \\\\\n",
      "2012-05-19 &         34 &          11 &      32 &         14 \\\\\n",
      "2012-05-26 &         37 &          11 &      37 &         21 \\\\\n",
      "2012-06-02 &         34 &          11 &      40 &         43 \\\\\n",
      "2012-06-09 &         38 &          11 &      38 &         14 \\\\\n",
      "2012-06-16 &         40 &          11 &      30 &         16 \\\\\n",
      "2012-06-23 &         42 &          11 &      36 &         19 \\\\\n",
      "2012-06-30 &         46 &          10 &      43 &         58 \\\\\n",
      "2012-07-07 &         40 &          12 &      41 &         14 \\\\\n",
      "2012-07-14 &         39 &          11 &      30 &         16 \\\\\n",
      "2012-07-21 &         35 &          19 &      32 &         18 \\\\\n",
      "2012-07-28 &         34 &          53 &      58 &         64 \\\\\n",
      "2012-08-04 &         31 &          46 &      41 &         16 \\\\\n",
      "2012-08-11 &         29 &          22 &      31 &         15 \\\\\n",
      "2012-08-18 &         28 &          18 &      34 &         18 \\\\\n",
      "2012-08-25 &         26 &          19 &      52 &         58 \\\\\n",
      "2012-09-01 &         25 &          19 &      77 &         17 \\\\\n",
      "2012-09-08 &         22 &          19 &      55 &         14 \\\\\n",
      "2012-09-15 &         21 &          18 &      23 &         18 \\\\\n",
      "2012-09-22 &         20 &          18 &      22 &         45 \\\\\n",
      "2012-09-29 &         19 &          18 &      21 &         37 \\\\\n",
      "2012-10-06 &         18 &          18 &      21 &         14 \\\\\n",
      "2012-10-13 &         18 &          19 &      20 &         17 \\\\\n",
      "2012-10-20 &         18 &          20 &      20 &         28 \\\\\n",
      "2012-10-27 &         15 &          20 &      18 &         52 \\\\\n",
      "2012-11-03 &         15 &          21 &      18 &         11 \\\\\n",
      "2012-11-10 &         17 &          19 &      19 &         15 \\\\\n",
      "2012-11-17 &         19 &          13 &      17 &         14 \\\\\n",
      "2012-11-24 &         16 &          13 &      18 &         53 \\\\\n",
      "2012-12-01 &         16 &          12 &      17 &         12 \\\\\n",
      "2012-12-08 &         16 &          12 &      17 &         13 \\\\\n",
      "2012-12-15 &         16 &           9 &      16 &         13 \\\\\n",
      "2012-12-22 &         19 &           7 &      16 &         44 \\\\\n",
      "2012-12-29 &         18 &           9 &      18 &         19 \\\\\n",
      "2013-01-05 &         18 &          12 &      20 &         14 \\\\\n",
      "2013-01-12 &         18 &          12 &      26 &         16 \\\\\n",
      "2013-01-19 &         18 &          12 &      32 &         33 \\\\\n",
      "2013-01-26 &         17 &          11 &      24 &         31 \\\\\n",
      "2013-02-02 &         17 &          11 &      21 &         14 \\\\\n",
      "2013-02-09 &         18 &          11 &      22 &         15 \\\\\n",
      "2013-02-16 &         18 &          12 &      23 &         19 \\\\\n",
      "2013-02-23 &         18 &          12 &      24 &         44 \\\\\n",
      "2013-03-02 &         18 &          12 &      25 &         14 \\\\\n",
      "2013-03-09 &         20 &          12 &      31 &         15 \\\\\n",
      "2013-03-16 &         20 &          11 &      27 &         18 \\\\\n",
      "2013-03-23 &         21 &          11 &      30 &         51 \\\\\n",
      "2013-03-30 &         20 &          11 &      28 &         13 \\\\\n",
      "2013-04-06 &         22 &          12 &      25 &         16 \\\\\n",
      "2013-04-13 &         21 &          11 &      25 &         16 \\\\\n",
      "2013-04-20 &         23 &          12 &      26 &         64 \\\\\n",
      "2013-04-27 &         24 &          12 &      25 &         15 \\\\\n",
      "2013-05-04 &         25 &          11 &      27 &         15 \\\\\n",
      "2013-05-11 &         27 &          11 &      28 &         17 \\\\\n",
      "2013-05-18 &         28 &          10 &      27 &         46 \\\\\n",
      "2013-05-25 &         31 &          11 &      34 &         23 \\\\\n",
      "2013-06-01 &         30 &          11 &      38 &         16 \\\\\n",
      "2013-06-08 &         31 &          10 &      31 &         19 \\\\\n",
      "2013-06-15 &         31 &          11 &      26 &         45 \\\\\n",
      "2013-06-22 &         33 &          11 &      34 &         40 \\\\\n",
      "2013-06-29 &         40 &          11 &      38 &         13 \\\\\n",
      "2013-07-06 &         32 &          12 &      34 &         16 \\\\\n",
      "2013-07-13 &         35 &          10 &      27 &         23 \\\\\n",
      "2013-07-20 &         36 &          11 &      27 &         57 \\\\\n",
      "2013-07-27 &         30 &          12 &      27 &         15 \\\\\n",
      "2013-08-03 &         29 &          12 &      28 &         19 \\\\\n",
      "2013-08-10 &         28 &          14 &      33 &         20 \\\\\n",
      "2013-08-17 &         25 &          16 &      33 &         67 \\\\\n",
      "2013-08-24 &         24 &          18 &      57 &         13 \\\\\n",
      "2013-08-31 &         24 &          20 &      78 &         16 \\\\\n",
      "2013-09-07 &         20 &          20 &      52 &         19 \\\\\n",
      "2013-09-14 &         19 &          19 &      24 &         66 \\\\\n",
      "2013-09-21 &         18 &          19 &      23 &         15 \\\\\n",
      "2013-09-28 &         17 &          19 &      24 &         15 \\\\\n",
      "2013-10-05 &         17 &          19 &      23 &         18 \\\\\n",
      "2013-10-12 &         16 &          20 &      22 &         59 \\\\\n",
      "2013-10-19 &         16 &          21 &      22 &         22 \\\\\n",
      "2013-10-26 &         14 &          21 &      22 &         15 \\\\\n",
      "2013-11-02 &         15 &          22 &      22 &         16 \\\\\n",
      "2013-11-09 &         16 &          22 &      21 &         34 \\\\\n",
      "2013-11-16 &         15 &          18 &      18 &         39 \\\\\n",
      "2013-11-23 &         16 &          13 &      17 &         10 \\\\\n",
      "2013-11-30 &         14 &          13 &      18 &         13 \\\\\n",
      "2013-12-07 &         14 &          12 &      18 &         17 \\\\\n",
      "2013-12-14 &         15 &          11 &      17 &         48 \\\\\n",
      "2013-12-21 &         17 &           8 &      17 &         12 \\\\\n",
      "2013-12-28 &         17 &           9 &      21 &         16 \\\\\n",
      "2014-01-04 &         18 &          11 &      21 &         17 \\\\\n",
      "2014-01-11 &         16 &          12 &      28 &         58 \\\\\n",
      "2014-01-18 &         18 &          12 &      34 &         16 \\\\\n",
      "2014-01-25 &         18 &          11 &      23 &         16 \\\\\n",
      "2014-02-01 &         17 &          11 &      21 &         16 \\\\\n",
      "2014-02-08 &         18 &          11 &      20 &         42 \\\\\n",
      "2014-02-15 &         18 &          12 &      22 &         20 \\\\\n",
      "2014-02-22 &         18 &          12 &      24 &         16 \\\\\n",
      "2014-03-01 &         19 &          11 &      24 &         17 \\\\\n",
      "2014-03-08 &         21 &          12 &      31 &         34 \\\\\n",
      "2014-03-15 &         21 &          12 &      28 &         38 \\\\\n",
      "2014-03-22 &         21 &          12 &      31 &         16 \\\\\n",
      "2014-03-29 &         22 &          12 &      26 &         18 \\\\\n",
      "2014-04-05 &         24 &          12 &      24 &         24 \\\\\n",
      "2014-04-12 &         24 &          11 &      25 &         48 \\\\\n",
      "2014-04-19 &         23 &          11 &      27 &         13 \\\\\n",
      "2014-04-26 &         24 &          11 &      24 &         16 \\\\\n",
      "2014-05-03 &         25 &          11 &      27 &         18 \\\\\n",
      "2014-05-10 &         28 &          11 &      28 &         52 \\\\\n",
      "2014-05-17 &         28 &          11 &      28 &         15 \\\\\n",
      "2014-05-24 &         32 &          11 &      33 &         16 \\\\\n",
      "2014-05-31 &         31 &          12 &      36 &         19 \\\\\n",
      "2014-06-07 &         30 &          12 &      31 &        100 \\\\\n",
      "2014-06-14 &         31 &          11 &      26 &         16 \\\\\n",
      "2014-06-21 &         32 &          11 &      31 &         15 \\\\\n",
      "2014-06-28 &         40 &          11 &      36 &         18 \\\\\n",
      "2014-07-05 &         35 &          11 &      33 &         60 \\\\\n",
      "2014-07-12 &         35 &          12 &      26 &         28 \\\\\n",
      "2014-07-19 &         38 &          12 &      27 &         16 \\\\\n",
      "2014-07-26 &         34 &          13 &      27 &         19 \\\\\n",
      "2014-08-02 &         31 &          13 &      29 &         40 \\\\\n",
      "2014-08-09 &         28 &          15 &      30 &         44 \\\\\n",
      "2014-08-16 &         27 &          17 &      31 &         13 \\\\\n",
      "2014-08-23 &         25 &          19 &      54 &         18 \\\\\n",
      "2014-08-30 &         25 &          21 &      77 &         23 \\\\\n",
      "2014-09-06 &         21 &          23 &      44 &         58 \\\\\n",
      "2014-09-13 &         20 &          23 &      23 &         14 \\\\\n",
      "2014-09-20 &         20 &          21 &      22 &         17 \\\\\n",
      "2014-09-27 &         18 &          22 &      22 &         20 \\\\\n",
      "2014-10-04 &         17 &          21 &      21 &         58 \\\\\n",
      "2014-10-11 &         17 &          21 &      20 &         12 \\\\\n",
      "2014-10-18 &         17 &          21 &      22 &         15 \\\\\n",
      "2014-10-25 &         15 &          22 &      20 &         17 \\\\\n",
      "2014-11-01 &         15 &          23 &      19 &         55 \\\\\n",
      "2014-11-08 &         15 &          23 &      20 &         15 \\\\\n",
      "2014-11-15 &         15 &          18 &      19 &         12 \\\\\n",
      "2014-11-22 &         16 &          13 &      17 &         12 \\\\\n",
      "2014-11-29 &         14 &          14 &      18 &         34 \\\\\n",
      "2014-12-06 &         15 &          12 &      18 &         25 \\\\\n",
      "2014-12-13 &         16 &          12 &      18 &         12 \\\\\n",
      "2014-12-20 &         18 &           8 &      16 &         13 \\\\\n",
      "2014-12-27 &         18 &           9 &      17 &         25 \\\\\n",
      "2015-01-03 &         16 &          11 &      21 &         45 \\\\\n",
      "2015-01-10 &         17 &          13 &      20 &         14 \\\\\n",
      "2015-01-17 &         18 &          12 &      28 &         17 \\\\\n",
      "2015-01-24 &         19 &          12 &      31 &         19 \\\\\n",
      "2015-01-31 &         18 &          12 &      22 &         50 \\\\\n",
      "2015-02-07 &         18 &          12 &      21 &         17 \\\\\n",
      "2015-02-14 &         19 &          12 &      21 &         15 \\\\\n",
      "2015-02-21 &         20 &          12 &      22 &         17 \\\\\n",
      "2015-02-28 &         21 &          12 &      21 &         54 \\\\\n",
      "2015-03-07 &         24 &          12 &      25 &         18 \\\\\n",
      "2015-03-14 &         27 &          12 &      30 &         18 \\\\\n",
      "2015-03-21 &         24 &          12 &      28 &         18 \\\\\n",
      "2015-03-28 &         25 &          11 &      28 &         46 \\\\\n",
      "2015-04-04 &         26 &          11 &      25 &         24 \\\\\n",
      "2015-04-11 &         27 &          12 &      26 &         16 \\\\\n",
      "2015-04-18 &         34 &          12 &      26 &         17 \\\\\n",
      "2015-04-25 &         29 &          12 &      24 &         30 \\\\\n",
      "2015-05-02 &         30 &          11 &      25 &         50 \\\\\n",
      "2015-05-09 &         30 &          11 &      27 &         15 \\\\\n",
      "2015-05-16 &         31 &          11 &      26 &         18 \\\\\n",
      "2015-05-23 &         36 &          12 &      31 &         21 \\\\\n",
      "2015-05-30 &         32 &          12 &      36 &         55 \\\\\n",
      "2015-06-06 &         34 &          12 &      29 &         15 \\\\\n",
      "2015-06-13 &         35 &          12 &      25 &         18 \\\\\n",
      "2015-06-20 &         36 &          12 &      24 &         21 \\\\\n",
      "2015-06-27 &         41 &          11 &      34 &         69 \\\\\n",
      "2015-07-04 &         38 &          11 &      42 &         15 \\\\\n",
      "2015-07-11 &         38 &          12 &      33 &         18 \\\\\n",
      "2015-07-18 &         50 &          12 &      25 &         20 \\\\\n",
      "2015-07-25 &         38 &          12 &      25 &         72 \\\\\n",
      "2015-08-01 &         37 &          13 &      26 &         18 \\\\\n",
      "2015-08-08 &         34 &          15 &      28 &         15 \\\\\n",
      "2015-08-15 &         32 &          18 &      31 &         18 \\\\\n",
      "2015-08-22 &         28 &          21 &      31 &         61 \\\\\n",
      "2015-08-29 &         29 &          22 &      78 &         34 \\\\\n",
      "2015-09-05 &         28 &          23 &     100 &         16 \\\\\n",
      "2015-09-12 &         24 &          22 &      45 &         20 \\\\\n",
      "2015-09-19 &         23 &          22 &      23 &         37 \\\\\n",
      "2015-09-26 &         20 &          22 &      21 &         48 \\\\\n",
      "2015-10-03 &         20 &          22 &      21 &         12 \\\\\n",
      "2015-10-10 &         20 &          22 &      21 &         17 \\\\\n",
      "2015-10-17 &         19 &          22 &      21 &         21 \\\\\n",
      "2015-10-24 &         17 &          23 &      20 &         73 \\\\\n",
      "2015-10-31 &         18 &          24 &      21 &         14 \\\\\n",
      "2015-11-07 &         18 &          25 &      19 &         16 \\\\\n",
      "2015-11-14 &         21 &          20 &      20 &         15 \\\\\n",
      "2015-11-21 &         20 &          13 &      18 &         63 \\\\\n",
      "2015-11-28 &         16 &          15 &      18 &         13 \\\\\n",
      "2015-12-05 &         17 &          14 &      18 &         17 \\\\\n",
      "2015-12-12 &         18 &          14 &      18 &         19 \\\\\n",
      "2015-12-19 &         20 &           9 &      16 &         67 \\\\\n",
      "2015-12-26 &         21 &           8 &      17 &         16 \\\\\n",
      "2016-01-02 &         19 &          12 &      21 &         14 \\\\\n",
      "2016-01-09 &         19 &          12 &      19 &         17 \\\\\n",
      "2016-01-16 &         22 &          12 &      28 &         39 \\\\\n",
      "2016-01-23 &         21 &          12 &      29 &         34 \\\\\n",
      "2016-01-30 &         21 &          12 &      22 &         15 \\\\\n",
      "2016-02-06 &         19 &          12 &      20 &         17 \\\\\n",
      "2016-02-13 &         21 &          12 &      22 &         26 \\\\\n",
      "2016-02-20 &         22 &          12 &      23 &         58 \\\\\n",
      "2016-02-27 &         22 &          13 &      22 &         15 \\\\\n",
      "2016-03-05 &         25 &          13 &      26 &         19 \\\\\n",
      "2016-03-12 &         27 &          12 &      28 &         20 \\\\\n",
      "2016-03-19 &         27 &          12 &      27 &         66 \\\\\n",
      "2016-03-26 &         25 &          14 &      27 &         17 \\\\\n",
      "2016-04-02 &         26 &          13 &      24 &         18 \\\\\n",
      "2016-04-09 &         28 &          13 &      26 &         20 \\\\\n",
      "2016-04-16 &         31 &          13 &      26 &         68 \\\\\n",
      "2016-04-23 &         29 &          13 &      24 &         20 \\\\\n",
      "2016-04-30 &         29 &          12 &      24 &         18 \\\\\n",
      "2016-05-07 &         31 &          13 &      26 &         64 \\\\\n",
      "2016-05-14 &         32 &          12 &      25 &         47 \\\\\n",
      "2016-05-21 &         36 &          12 &      29 &         33 \\\\\n",
      "2016-05-28 &         40 &          12 &      31 &         16 \\\\\n",
      "2016-06-04 &         38 &          11 &      28 &         18 \\\\\n",
      "2016-06-11 &         39 &          11 &      24 &         33 \\\\\n",
      "2016-06-18 &         42 &          12 &      23 &         83 \\\\\n",
      "2016-06-25 &         43 &          12 &      34 &         14 \\\\\n",
      "2016-07-02 &         44 &          11 &      40 &         18 \\\\\n",
      "2016-07-09 &         44 &          12 &      29 &         25 \\\\\n",
      "2016-07-16 &         53 &          12 &      24 &         87 \\\\\n",
      "2016-07-23 &         43 &          11 &      25 &         16 \\\\\n",
      "2016-07-30 &         41 &          18 &      28 &         19 \\\\\n",
      "2016-08-06 &         36 &          60 &      52 &         23 \\\\\n",
      "2016-08-13 &         36 &          64 &      37 &         87 \\\\\n",
      "2016-08-20 &         34 &          30 &      29 &         19 \\\\\n",
      "2016-08-27 &         33 &          24 &      45 &         16 \\\\\n",
      "\\bottomrule\n",
      "\\end{tabular}\n",
      "\n"
     ]
    }
   ],
   "source": [
    "import io\n",
    "a = io.StringIO()\n",
    "df.to_latex(buf=a)\n",
    "a.seek(0)\n",
    "print(a.read())\n",
    "a.close()"
   ]
  },
  {
   "cell_type": "code",
   "execution_count": 37,
   "metadata": {
    "collapsed": false
   },
   "outputs": [
    {
     "data": {
      "text/html": [
       "<div>\n",
       "<table border=\"1\" class=\"dataframe\">\n",
       "  <thead>\n",
       "    <tr style=\"text-align: right;\">\n",
       "      <th></th>\n",
       "      <th>ice cream</th>\n",
       "      <th>full moon</th>\n",
       "    </tr>\n",
       "    <tr>\n",
       "      <th>Week</th>\n",
       "      <th></th>\n",
       "      <th></th>\n",
       "    </tr>\n",
       "  </thead>\n",
       "  <tbody>\n",
       "    <tr>\n",
       "      <th>2013-01-05</th>\n",
       "      <td>18</td>\n",
       "      <td>14</td>\n",
       "    </tr>\n",
       "    <tr>\n",
       "      <th>2013-01-12</th>\n",
       "      <td>18</td>\n",
       "      <td>16</td>\n",
       "    </tr>\n",
       "    <tr>\n",
       "      <th>2013-01-19</th>\n",
       "      <td>18</td>\n",
       "      <td>33</td>\n",
       "    </tr>\n",
       "    <tr>\n",
       "      <th>2013-01-26</th>\n",
       "      <td>17</td>\n",
       "      <td>31</td>\n",
       "    </tr>\n",
       "    <tr>\n",
       "      <th>2013-02-02</th>\n",
       "      <td>17</td>\n",
       "      <td>14</td>\n",
       "    </tr>\n",
       "  </tbody>\n",
       "</table>\n",
       "</div>"
      ],
      "text/plain": [
       "            ice cream  full moon\n",
       "Week                            \n",
       "2013-01-05         18         14\n",
       "2013-01-12         18         16\n",
       "2013-01-19         18         33\n",
       "2013-01-26         17         31\n",
       "2013-02-02         17         14"
      ]
     },
     "execution_count": 37,
     "metadata": {},
     "output_type": "execute_result"
    }
   ],
   "source": [
    "df[[\"ice cream\",\"full moon\"]]['2013':'2014'].head()"
   ]
  },
  {
   "cell_type": "code",
   "execution_count": 32,
   "metadata": {
    "collapsed": false
   },
   "outputs": [
    {
     "data": {
      "text/html": [
       "<div>\n",
       "<table border=\"1\" class=\"dataframe\">\n",
       "  <thead>\n",
       "    <tr style=\"text-align: right;\">\n",
       "      <th></th>\n",
       "      <th>ice cream</th>\n",
       "      <th>full moon</th>\n",
       "    </tr>\n",
       "    <tr>\n",
       "      <th>Week</th>\n",
       "      <th></th>\n",
       "      <th></th>\n",
       "    </tr>\n",
       "  </thead>\n",
       "  <tbody>\n",
       "    <tr>\n",
       "      <th>2013-06-01</th>\n",
       "      <td>30</td>\n",
       "      <td>16</td>\n",
       "    </tr>\n",
       "    <tr>\n",
       "      <th>2013-06-08</th>\n",
       "      <td>31</td>\n",
       "      <td>19</td>\n",
       "    </tr>\n",
       "    <tr>\n",
       "      <th>2013-06-15</th>\n",
       "      <td>31</td>\n",
       "      <td>45</td>\n",
       "    </tr>\n",
       "    <tr>\n",
       "      <th>2013-06-22</th>\n",
       "      <td>33</td>\n",
       "      <td>40</td>\n",
       "    </tr>\n",
       "    <tr>\n",
       "      <th>2013-06-29</th>\n",
       "      <td>40</td>\n",
       "      <td>13</td>\n",
       "    </tr>\n",
       "  </tbody>\n",
       "</table>\n",
       "</div>"
      ],
      "text/plain": [
       "            ice cream  full moon\n",
       "Week                            \n",
       "2013-06-01         30         16\n",
       "2013-06-08         31         19\n",
       "2013-06-15         31         45\n",
       "2013-06-22         33         40\n",
       "2013-06-29         40         13"
      ]
     },
     "execution_count": 32,
     "metadata": {},
     "output_type": "execute_result"
    }
   ],
   "source": [
    "df[[\"ice cream\",\"full moon\"]]['2013-06':'2013-09'].head()"
   ]
  },
  {
   "cell_type": "code",
   "execution_count": 38,
   "metadata": {
    "collapsed": false
   },
   "outputs": [
    {
     "data": {
      "text/plain": [
       "Timestamp('2011-10-08 00:00:00')"
      ]
     },
     "execution_count": 38,
     "metadata": {},
     "output_type": "execute_result"
    }
   ],
   "source": [
    "stamp"
   ]
  },
  {
   "cell_type": "code",
   "execution_count": 39,
   "metadata": {
    "collapsed": false
   },
   "outputs": [
    {
     "data": {
      "text/plain": [
       "20"
      ]
     },
     "execution_count": 39,
     "metadata": {},
     "output_type": "execute_result"
    }
   ],
   "source": [
    "df[\"ice cream\"][stamp]"
   ]
  },
  {
   "cell_type": "code",
   "execution_count": 40,
   "metadata": {
    "collapsed": false
   },
   "outputs": [
    {
     "data": {
      "text/plain": [
       "ice cream     20\n",
       "Volleyball    18\n",
       "tennis        23\n",
       "full moon     55\n",
       "Name: 2011-10-08 00:00:00, dtype: int64"
      ]
     },
     "execution_count": 40,
     "metadata": {},
     "output_type": "execute_result"
    }
   ],
   "source": [
    "df.ix[stamp]"
   ]
  },
  {
   "cell_type": "code",
   "execution_count": 41,
   "metadata": {
    "collapsed": false
   },
   "outputs": [
    {
     "data": {
      "text/plain": [
       "array([2011, 2011, 2011, 2011, 2011, 2011, 2011, 2011, 2011, 2011, 2011,\n",
       "       2011, 2011, 2011, 2011, 2011, 2011, 2011, 2012, 2012, 2012, 2012,\n",
       "       2012, 2012, 2012, 2012, 2012, 2012, 2012, 2012, 2012, 2012, 2012,\n",
       "       2012, 2012, 2012, 2012, 2012, 2012, 2012, 2012, 2012, 2012, 2012,\n",
       "       2012, 2012, 2012, 2012, 2012, 2012, 2012, 2012, 2012, 2012, 2012,\n",
       "       2012, 2012, 2012, 2012, 2012, 2012, 2012, 2012, 2012, 2012, 2012,\n",
       "       2012, 2012, 2012, 2012, 2013, 2013, 2013, 2013, 2013, 2013, 2013,\n",
       "       2013, 2013, 2013, 2013, 2013, 2013, 2013, 2013, 2013, 2013, 2013,\n",
       "       2013, 2013, 2013, 2013, 2013, 2013, 2013, 2013, 2013, 2013, 2013,\n",
       "       2013, 2013, 2013, 2013, 2013, 2013, 2013, 2013, 2013, 2013, 2013,\n",
       "       2013, 2013, 2013, 2013, 2013, 2013, 2013, 2013, 2013, 2013, 2013,\n",
       "       2013, 2014, 2014, 2014, 2014, 2014, 2014, 2014, 2014, 2014, 2014,\n",
       "       2014, 2014, 2014, 2014, 2014, 2014, 2014, 2014, 2014, 2014, 2014,\n",
       "       2014, 2014, 2014, 2014, 2014, 2014, 2014, 2014, 2014, 2014, 2014,\n",
       "       2014, 2014, 2014, 2014, 2014, 2014, 2014, 2014, 2014, 2014, 2014,\n",
       "       2014, 2014, 2014, 2014, 2014, 2014, 2014, 2014, 2014, 2015, 2015,\n",
       "       2015, 2015, 2015, 2015, 2015, 2015, 2015, 2015, 2015, 2015, 2015,\n",
       "       2015, 2015, 2015, 2015, 2015, 2015, 2015, 2015, 2015, 2015, 2015,\n",
       "       2015, 2015, 2015, 2015, 2015, 2015, 2015, 2015, 2015, 2015, 2015,\n",
       "       2015, 2015, 2015, 2015, 2015, 2015, 2015, 2015, 2015, 2015, 2015,\n",
       "       2015, 2015, 2015, 2015, 2015, 2015, 2016, 2016, 2016, 2016, 2016,\n",
       "       2016, 2016, 2016, 2016, 2016, 2016, 2016, 2016, 2016, 2016, 2016,\n",
       "       2016, 2016, 2016, 2016, 2016, 2016, 2016, 2016, 2016, 2016, 2016,\n",
       "       2016, 2016, 2016, 2016, 2016, 2016, 2016, 2016], dtype=int32)"
      ]
     },
     "execution_count": 41,
     "metadata": {},
     "output_type": "execute_result"
    }
   ],
   "source": [
    "years = df.index.year\n",
    "years"
   ]
  },
  {
   "cell_type": "markdown",
   "metadata": {},
   "source": [
    "### Grouping \n",
    "\n",
    "By “group by” we are referring to a process involving one or more of the following steps\n",
    "\n",
    "- **Splitting** the data into groups based on some criteria\n",
    "- **Applying** a function to each group independently\n",
    "- **Combining** the results into a data structure\n",
    "\n",
    "See the [Grouping docs](http://pandas.pydata.org/pandas-docs/stable/groupby.html#groupby) for more."
   ]
  },
  {
   "cell_type": "code",
   "execution_count": null,
   "metadata": {
    "collapsed": false
   },
   "outputs": [],
   "source": [
    "annual_min = df.groupby(years).min()\n",
    "annual_max = df.groupby(years).max()"
   ]
  },
  {
   "cell_type": "markdown",
   "metadata": {},
   "source": [
    "Another operation to combine dataframes: `pd.concat`\n",
    "\n",
    "<pre>\n",
    "pd.concat(objs, axis=0, join='outer', join_axes=None, ignore_index=False, keys=None, levels=None, names=None, verify_integrity=False, copy=True)\n",
    "\n",
    "Concatenate pandas objects along a particular axis with optional set logic\n",
    "along the other axes. Can also add a layer of hierarchical indexing on the\n",
    "concatenation axis, which may be useful if the labels are the same (or\n",
    "overlapping) on the passed axis number\n",
    "</pre>"
   ]
  },
  {
   "cell_type": "code",
   "execution_count": null,
   "metadata": {
    "collapsed": false
   },
   "outputs": [],
   "source": [
    "annual_min_and_max = pd.concat([annual_min, annual_max], \n",
    "                               axis=1, keys=['min', 'max'])\n",
    "annual_min_and_max"
   ]
  },
  {
   "cell_type": "markdown",
   "metadata": {},
   "source": [
    "### Resampling\n",
    "http://pandas.pydata.org/pandas-docs/stable/timeseries.html#up-and-downsampling\n",
    "\n",
    "<pre>\n",
    "B       business day frequency\n",
    "C       custom business day frequency (experimental)\n",
    "D       calendar day frequency\n",
    "W       weekly frequency\n",
    "M       month end frequency\n",
    "BM      business month end frequency\n",
    "CBM     custom business month end frequency\n",
    "MS      month start frequency\n",
    "BMS     business month start frequency\n",
    "CBMS    custom business month start frequency\n",
    "Q       quarter end frequency\n",
    "BQ      business quarter endfrequency\n",
    "QS      quarter start frequency\n",
    "BQS     business quarter start frequency\n",
    "A       year end frequency\n",
    "BA      business year end frequency\n",
    "AS      year start frequency\n",
    "BAS     business year start frequency\n",
    "BH      business hour frequency\n",
    "H       hourly frequency\n",
    "T       minutely frequency\n",
    "S       secondly frequency\n",
    "L       milliseonds\n",
    "U       microseconds\n",
    "N       nanoseconds\n",
    "</pre>\n",
    "\n",
    "above from: http://stackoverflow.com/questions/17001389/pandas-resample-documentation"
   ]
  },
  {
   "cell_type": "code",
   "execution_count": null,
   "metadata": {
    "collapsed": false
   },
   "outputs": [],
   "source": [
    "df[\"ice cream\"].resample('A-JUN').min()  # year end June"
   ]
  },
  {
   "cell_type": "code",
   "execution_count": null,
   "metadata": {
    "collapsed": false
   },
   "outputs": [],
   "source": [
    "df[\"ice cream\"].resample('A-JUN', how=['min', 'max'])"
   ]
  },
  {
   "cell_type": "code",
   "execution_count": null,
   "metadata": {
    "collapsed": false
   },
   "outputs": [],
   "source": [
    "annual_minmax = df.resample('A-JUN', how=['min', 'max'])\n",
    "annual_minmax"
   ]
  },
  {
   "cell_type": "code",
   "execution_count": null,
   "metadata": {
    "collapsed": false
   },
   "outputs": [],
   "source": [
    "annual_minmax.columns"
   ]
  },
  {
   "cell_type": "code",
   "execution_count": null,
   "metadata": {
    "collapsed": false
   },
   "outputs": [],
   "source": [
    "annual_minmax['tennis', 'max']"
   ]
  },
  {
   "cell_type": "code",
   "execution_count": null,
   "metadata": {
    "collapsed": false
   },
   "outputs": [],
   "source": [
    "annual_minmax[('ice cream', 'max')].index"
   ]
  },
  {
   "cell_type": "code",
   "execution_count": null,
   "metadata": {
    "collapsed": false
   },
   "outputs": [],
   "source": [
    "# Your own aggregation function\n",
    "def mad(x):\n",
    "    return np.abs(x - x.mean()).mean()\n",
    "fred[\"ice cream\"].resample('A-JUN', how=mad)"
   ]
  },
  {
   "cell_type": "markdown",
   "metadata": {},
   "source": [
    "Shifting, correlation, date arithmetic\n",
    "-------"
   ]
  },
  {
   "cell_type": "code",
   "execution_count": null,
   "metadata": {
    "collapsed": false
   },
   "outputs": [],
   "source": [
    "df.shift(3).head(10)"
   ]
  },
  {
   "cell_type": "code",
   "execution_count": null,
   "metadata": {
    "collapsed": false
   },
   "outputs": [],
   "source": [
    "df_1diff = df - df.shift(1)\n",
    "df_1diff.head(10)"
   ]
  },
  {
   "cell_type": "code",
   "execution_count": null,
   "metadata": {
    "collapsed": false
   },
   "outputs": [],
   "source": [
    "df_1diff.corr()"
   ]
  },
  {
   "cell_type": "code",
   "execution_count": null,
   "metadata": {
    "collapsed": false
   },
   "outputs": [],
   "source": [
    "(df - df.shift(6)).corr()"
   ]
  },
  {
   "cell_type": "code",
   "execution_count": null,
   "metadata": {
    "collapsed": false
   },
   "outputs": [],
   "source": [
    "def lag_corr(table, periods):\n",
    "    # you may not care but...\n",
    "    return (table[periods:] - table.shift(periods)).corr()\n",
    "\n",
    "def pctchg_corr(table, periods):\n",
    "    # you may not care but...\n",
    "    return (table[periods:] / table.shift(periods) - 1).corr()\n",
    "\n",
    "all_lags = [lag_corr(df, i) for i in range(1, 20)]\n",
    "\n",
    "lags_onetable = pd.concat(all_lags, keys=range(1, 20))\n",
    "lags_onetable"
   ]
  },
  {
   "cell_type": "code",
   "execution_count": null,
   "metadata": {
    "collapsed": false
   },
   "outputs": [],
   "source": [
    "unstacked = lags_onetable.unstack(1)\n",
    "unstacked"
   ]
  },
  {
   "cell_type": "code",
   "execution_count": null,
   "metadata": {
    "collapsed": false
   },
   "outputs": [],
   "source": [
    "unstacked['ice cream', 'tennis'].plot(label='IC-FM')\n",
    "unstacked['full moon', 'Volleyball'].plot(label='FM-VB')\n",
    "unstacked['tennis', 'Volleyball'].plot(label='FM-VB')"
   ]
  },
  {
   "cell_type": "code",
   "execution_count": null,
   "metadata": {
    "collapsed": false
   },
   "outputs": [],
   "source": [
    "df_1diff.info()"
   ]
  },
  {
   "cell_type": "code",
   "execution_count": null,
   "metadata": {
    "collapsed": false
   },
   "outputs": [],
   "source": [
    "df_1diff[\"ice cream\"].corr(df_1diff[\"ice cream\"].shift(1))"
   ]
  },
  {
   "cell_type": "code",
   "execution_count": null,
   "metadata": {
    "collapsed": false
   },
   "outputs": [],
   "source": [
    "df_1diff.shift(1).head()"
   ]
  },
  {
   "cell_type": "code",
   "execution_count": null,
   "metadata": {
    "collapsed": false
   },
   "outputs": [],
   "source": [
    "df_1diff.corrwith(df_1diff.shift(1))"
   ]
  },
  {
   "cell_type": "code",
   "execution_count": null,
   "metadata": {
    "collapsed": false
   },
   "outputs": [],
   "source": [
    "pd.DataFrame({'Lag1': df_1diff.corrwith(df_1diff.shift(1)),\n",
    "     'Lag2': df_1diff.corrwith(df_1diff.shift(2))})\n",
    " "
   ]
  },
  {
   "cell_type": "code",
   "execution_count": null,
   "metadata": {
    "collapsed": false
   },
   "outputs": [],
   "source": [
    "lag_acorr_table = pd.DataFrame({'Lag%d' % i: \n",
    "                                df_1diff.corrwith(df_1diff.shift(i))\n",
    "         for i in range(1, 7)})\n",
    "lag_acorr_table"
   ]
  },
  {
   "cell_type": "code",
   "execution_count": null,
   "metadata": {
    "collapsed": false
   },
   "outputs": [],
   "source": [
    "lag_acorr_table.T"
   ]
  },
  {
   "cell_type": "markdown",
   "metadata": {},
   "source": [
    "Date arithmetic\n",
    "===="
   ]
  },
  {
   "cell_type": "code",
   "execution_count": null,
   "metadata": {
    "collapsed": false
   },
   "outputs": [],
   "source": [
    "df.head(10)"
   ]
  },
  {
   "cell_type": "code",
   "execution_count": null,
   "metadata": {
    "collapsed": false
   },
   "outputs": [],
   "source": [
    "df.shift(10, freq='H').head(10)"
   ]
  },
  {
   "cell_type": "code",
   "execution_count": null,
   "metadata": {
    "collapsed": false
   },
   "outputs": [],
   "source": [
    "df.shift(2, freq='M').head(10)"
   ]
  },
  {
   "cell_type": "code",
   "execution_count": null,
   "metadata": {
    "collapsed": false
   },
   "outputs": [],
   "source": [
    "pdf = df.to_period('M')\n",
    "pdf.head(10).index"
   ]
  },
  {
   "cell_type": "code",
   "execution_count": null,
   "metadata": {
    "collapsed": false
   },
   "outputs": [],
   "source": [
    "pdf.index[0]"
   ]
  },
  {
   "cell_type": "code",
   "execution_count": null,
   "metadata": {
    "collapsed": false
   },
   "outputs": [],
   "source": [
    "pdf.index[0].asfreq('S', 'end')"
   ]
  },
  {
   "cell_type": "code",
   "execution_count": null,
   "metadata": {
    "collapsed": false
   },
   "outputs": [],
   "source": [
    "pdf.index[0].asfreq('S', 'start')"
   ]
  },
  {
   "cell_type": "code",
   "execution_count": null,
   "metadata": {
    "collapsed": false
   },
   "outputs": [],
   "source": [
    "pdf.index[0].asfreq('H', 'end') - 5"
   ]
  },
  {
   "cell_type": "code",
   "execution_count": null,
   "metadata": {
    "collapsed": false
   },
   "outputs": [],
   "source": [
    "# 7th business day\n",
    "(pdf.index[0].asfreq('B', 'start') + 6).to_timestamp()"
   ]
  },
  {
   "cell_type": "code",
   "execution_count": null,
   "metadata": {
    "collapsed": false
   },
   "outputs": [],
   "source": [
    "df.head()"
   ]
  },
  {
   "cell_type": "code",
   "execution_count": null,
   "metadata": {
    "collapsed": false
   },
   "outputs": [],
   "source": [
    "df.shift(4, freq='D').head()"
   ]
  },
  {
   "cell_type": "code",
   "execution_count": null,
   "metadata": {
    "collapsed": false
   },
   "outputs": [],
   "source": [
    "df.shift(4, freq='D').resample('D').head(50)"
   ]
  },
  {
   "cell_type": "code",
   "execution_count": null,
   "metadata": {
    "collapsed": false
   },
   "outputs": [],
   "source": [
    "df.shift(4, freq='D').resample('D').apply(pd.Series.interpolate).head(50)"
   ]
  },
  {
   "cell_type": "code",
   "execution_count": null,
   "metadata": {
    "collapsed": false
   },
   "outputs": [],
   "source": [
    "df.shift(4, freq='D').resample('D', fill_method='bfill').head(50)"
   ]
  },
  {
   "cell_type": "markdown",
   "metadata": {},
   "source": [
    "Time zone handling\n",
    "----"
   ]
  },
  {
   "cell_type": "code",
   "execution_count": null,
   "metadata": {
    "collapsed": false
   },
   "outputs": [],
   "source": [
    "stamp = pd.Timestamp(datetime.now())\n",
    "stamp"
   ]
  },
  {
   "cell_type": "code",
   "execution_count": null,
   "metadata": {
    "collapsed": false
   },
   "outputs": [],
   "source": [
    "print(stamp.tz)"
   ]
  },
  {
   "cell_type": "code",
   "execution_count": null,
   "metadata": {
    "collapsed": false
   },
   "outputs": [],
   "source": [
    "stamp.tz_localize('US/Pacific')"
   ]
  },
  {
   "cell_type": "code",
   "execution_count": null,
   "metadata": {
    "collapsed": false
   },
   "outputs": [],
   "source": [
    "stamp_pac = stamp.tz_localize('US/Pacific')\n",
    "stamp_pac"
   ]
  },
  {
   "cell_type": "code",
   "execution_count": null,
   "metadata": {
    "collapsed": false
   },
   "outputs": [],
   "source": [
    "stamp_pac.tz_convert('Asia/Tokyo')"
   ]
  },
  {
   "cell_type": "code",
   "execution_count": null,
   "metadata": {
    "collapsed": false
   },
   "outputs": [],
   "source": [
    "stamp_pac.tz_convert('Asia/Tokyo').hour"
   ]
  },
  {
   "cell_type": "code",
   "execution_count": null,
   "metadata": {
    "collapsed": false
   },
   "outputs": [],
   "source": [
    "stamp_pac.tz_convert('Asia/Tokyo').day"
   ]
  },
  {
   "cell_type": "code",
   "execution_count": null,
   "metadata": {
    "collapsed": false
   },
   "outputs": [],
   "source": [
    "stamp_pac.tz_convert('Asia/Tokyo').value"
   ]
  },
  {
   "cell_type": "code",
   "execution_count": null,
   "metadata": {
    "collapsed": false
   },
   "outputs": [],
   "source": [
    "stamp_pac.tz_convert('Asia/Tokyo').tz_convert('utc').value"
   ]
  },
  {
   "cell_type": "code",
   "execution_count": null,
   "metadata": {
    "collapsed": false
   },
   "outputs": [],
   "source": [
    "df_shifted = df.shift(1, freq='4D9H30T')\n",
    "df_shang = df_shifted\\\n",
    "    .tz_localize('US/Eastern')\\\n",
    "    .tz_convert('Asia/Shanghai')\n",
    "df_shang"
   ]
  },
  {
   "cell_type": "code",
   "execution_count": null,
   "metadata": {
    "collapsed": false
   },
   "outputs": [],
   "source": [
    "df_shang.index"
   ]
  },
  {
   "cell_type": "code",
   "execution_count": null,
   "metadata": {
    "collapsed": false
   },
   "outputs": [],
   "source": [
    "df_shifted = df.shift(1, freq='4D9H30T')\n",
    "df_shifted\\\n",
    "    .tz_localize('US/Eastern')\\\n",
    "    .tz_convert('US/Pacific').resample('A-DEC').mean()"
   ]
  },
  {
   "cell_type": "code",
   "execution_count": null,
   "metadata": {
    "collapsed": false
   },
   "outputs": [],
   "source": []
  }
 ],
 "metadata": {
  "kernelspec": {
   "display_name": "Python [py35-env]",
   "language": "python",
   "name": "Python [py35-env]"
  },
  "language_info": {
   "codemirror_mode": {
    "name": "ipython",
    "version": 3
   },
   "file_extension": ".py",
   "mimetype": "text/x-python",
   "name": "python",
   "nbconvert_exporter": "python",
   "pygments_lexer": "ipython3",
   "version": "3.5.2"
  }
 },
 "nbformat": 4,
 "nbformat_minor": 0
}
